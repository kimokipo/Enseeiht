{
 "cells": [
  {
   "cell_type": "markdown",
   "metadata": {},
   "source": [
    "# TP 2-3 : Branch-and-bound applied to a knapsack problem"
   ]
  },
  {
   "cell_type": "markdown",
   "metadata": {},
   "source": [
    "### Initialisation (à faire une seule fois)"
   ]
  },
  {
   "cell_type": "code",
   "execution_count": 1,
   "metadata": {},
   "outputs": [
    {
     "name": "stderr",
     "output_type": "stream",
     "text": [
      "\u001b[32m\u001b[1m   Updating\u001b[22m\u001b[39m registry at `~/.julia/registries/General`\n",
      "┌ Warning: Some registries failed to update:\n",
      "│     — `~/.julia/registries/General` — registry dirty\n",
      "└ @ Pkg.Types /buildworker/worker/package_linux64/build/usr/share/julia/stdlib/v1.4/Pkg/src/Types.jl:1131\n",
      "\u001b[32m\u001b[1m  Resolving\u001b[22m\u001b[39m package versions...\n",
      "\u001b[32m\u001b[1m   Updating\u001b[22m\u001b[39m `~/.julia/environments/v1.4/Project.toml`\n",
      "\u001b[90m [no changes]\u001b[39m\n",
      "\u001b[32m\u001b[1m   Updating\u001b[22m\u001b[39m `~/.julia/environments/v1.4/Manifest.toml`\n",
      "\u001b[90m [no changes]\u001b[39m\n",
      "\u001b[32m\u001b[1m  Resolving\u001b[22m\u001b[39m package versions...\n",
      "\u001b[32m\u001b[1m   Updating\u001b[22m\u001b[39m `~/.julia/environments/v1.4/Project.toml`\n",
      "\u001b[90m [no changes]\u001b[39m\n",
      "\u001b[32m\u001b[1m   Updating\u001b[22m\u001b[39m `~/.julia/environments/v1.4/Manifest.toml`\n",
      "\u001b[90m [no changes]\u001b[39m\n"
     ]
    }
   ],
   "source": [
    "import Pkg; \n",
    "Pkg.add(\"GraphRecipes\"); Pkg.add(\"Plots\"); \n",
    "using GraphRecipes, Plots #only used to visualize the search tree at the end of the branch-and-bound"
   ]
  },
  {
   "cell_type": "markdown",
   "metadata": {},
   "source": [
    "### Récupération des données"
   ]
  },
  {
   "cell_type": "code",
   "execution_count": 4,
   "metadata": {
    "scrolled": true
   },
   "outputs": [
    {
     "data": {
      "text/plain": [
       "readDynamic (generic function with 1 method)"
      ]
     },
     "execution_count": 4,
     "metadata": {},
     "output_type": "execute_result"
    }
   ],
   "source": [
    "function readDynamic(filename)\n",
    "    price=[]\n",
    "    weight=[]\n",
    "    KnapCap=[]\n",
    "    open(filename) do f\n",
    "        for i in 1:3\n",
    "            tok = split(readline(f))\n",
    "            if(tok[1] == \"ListPrices=\")\n",
    "                for i in 2:(length(tok)-1)\n",
    "                    push!(price,parse(Int64, tok[i]))\n",
    "                end\n",
    "            elseif(tok[1] == \"ListWeights=\")\n",
    "                for i in 2:(length(tok)-1)\n",
    "                    push!(weight,parse(Int64, tok[i]))\n",
    "                end\n",
    "            elseif(tok[1] == \"Capacity=\")\n",
    "                push!(KnapCap, parse(Int64, tok[2]))\n",
    "            else\n",
    "                println(\"Unknown read :\", tok)\n",
    "            end \n",
    "        end\n",
    "    end\n",
    "    capacity=KnapCap[1]\n",
    "    return price, weight, capacity\n",
    "end"
   ]
  },
  {
   "cell_type": "markdown",
   "metadata": {},
   "source": [
    "### Procédure d'application des tests de sondabilités TA, TO et TR pour le cas de la relaxation linéaire"
   ]
  },
  {
   "cell_type": "code",
   "execution_count": 4,
   "metadata": {},
   "outputs": [
    {
     "data": {
      "text/plain": [
       "TestsSondabilite_relaxlin (generic function with 1 method)"
      ]
     },
     "execution_count": 4,
     "metadata": {},
     "output_type": "execute_result"
    }
   ],
   "source": [
    "function TestsSondabilite_relaxlin(model2, x, varsbin, BestProfit, Bestsol)\n",
    "    TA, TO, TR = false, false, false\n",
    "    if(termination_status(model2) == MOI.INFEASIBLE)#Test de faisabilite\n",
    "        TA=true\n",
    "        println(\"TA\")\n",
    "    elseif(objective_value(model2) <= BestProfit) #Test d'optimalite\n",
    "        TO=true\n",
    "        println(\"TO\")\n",
    "    elseif( prod(abs.([round.(v, digits=0) for v in value.(varsbin)]-value.(varsbin)) .<= fill(10^-5, size(varsbin))) \n",
    "        ) #Test de resolution\n",
    "        TR=true\n",
    "        println(\"TR\")\n",
    "        #if (value(benef) >= BestProfit)\n",
    "        if (objective_value(model2) >= BestProfit)\n",
    "            Bestsol = value.(x)\n",
    "            #BestProfit=value(benef)\n",
    "            BestProfit=objective_value(model2)\n",
    "        end\n",
    "    else\n",
    "        println(\"non sondable\")\n",
    "    end\n",
    "    TA, TO, TR, Bestsol, BestProfit\n",
    "end"
   ]
  },
  {
   "cell_type": "markdown",
   "metadata": {},
   "source": [
    "### Procédure de séparation et stratégie d'exploration permettant de se placer au prochain noeud à traiter"
   ]
  },
  {
   "cell_type": "code",
   "execution_count": 5,
   "metadata": {},
   "outputs": [
    {
     "data": {
      "text/plain": [
       "ExplorerAutreNoeud_relaxlin (generic function with 1 method)"
      ]
     },
     "execution_count": 5,
     "metadata": {},
     "output_type": "execute_result"
    }
   ],
   "source": [
    "\n",
    "function SeparerNoeud_relaxlin(varsshouldbebinary, listvars, listvals)\n",
    "    # le noeud est non-sondable. Appliquer le critère de séparation pour le séparer en sous-noeuds \n",
    "    # et choisir un noeud-fils le plus à gauche   \n",
    "    \n",
    "    #find a fractionnal variable\n",
    "    i, var = 1, 0\n",
    "    while((i <= length(varsshouldbebinary)) && (var==0))\n",
    "        #if(varsshouldbebinary[i] ∉ listvars)\n",
    "        if(abs(round(value(varsshouldbebinary[i]), digits=0) - value(varsshouldbebinary[i]) ) >= 10^-5)\n",
    "            var=varsshouldbebinary[i]\n",
    "        end\n",
    "        i+=1\n",
    "    end\n",
    "    \n",
    "    #=\n",
    "    #find most fractionnal variable ?\n",
    "    i, var, maxfrac = -1, 0, 0.0\n",
    "    for i in 1:length(varsshouldbebinary)\n",
    "        if(abs(round(value(varsshouldbebinary[i]), digits=0) - value(varsshouldbebinary[i]) ) >= maxfrac) \n",
    "            #if a variable is more fractinonal\n",
    "            var=varsshouldbebinary[i]\n",
    "            maxfrac=abs(round(value(varsshouldbebinary[i]), digits=0) - value(varsshouldbebinary[i]) )\n",
    "            #println(i, \" \", var, \" \", maxfrac)\n",
    "        end\n",
    "    end\n",
    "    =#\n",
    "    \n",
    "\n",
    "    set_lower_bound(var,1.0)\n",
    "    set_upper_bound(var,1.0)\n",
    "\n",
    "    push!(listvars,var) #stocker l'identite de la variable choisie pour la séparation\n",
    "    push!(listvals,1.0) #stocker la branche choisie, identifiee par la valeur de la variable choisie\n",
    "    listvars, listvals\n",
    "end\n",
    "\n",
    "\n",
    "function ExplorerAutreNoeud_relaxlin(listvars, listvals, listnodes)\n",
    "    #this node is sondable, go back to parent node then right child if possible\n",
    "    \n",
    "    stop=false\n",
    "    #check if we are not at the root node\n",
    "    if (length(listvars)>= 1)\n",
    "        #go back to parent node\n",
    "        var=pop!(listvars)\n",
    "        theval=pop!(listvals)\n",
    "        tmp=pop!(listnodes)\n",
    "        set_lower_bound(var,0.0)\n",
    "        set_upper_bound(var,1.0)\n",
    "\n",
    "        #go to right child if possible, otherwise go back to parent\n",
    "        while( (theval==0.0) && (length(listvars)>= 1))\n",
    "            var=pop!(listvars)\n",
    "            theval=pop!(listvals)\n",
    "            tmp=pop!(listnodes)\n",
    "            set_lower_bound(var,0.0) \n",
    "            set_upper_bound(var,1.0)\n",
    "        end\n",
    "        if theval==1.0\n",
    "            set_lower_bound(var,0.0)\n",
    "            set_upper_bound(var,0.0)\n",
    "            push!(listvars,var)\n",
    "            push!(listvals,0.0)\n",
    "        else\n",
    "            println(\"\\nFINISHED\")\n",
    "            stop=true\n",
    "        end\n",
    "    else\n",
    "        #the root node was sondable\n",
    "        println(\"\\nFINISHED\")\n",
    "        stop=true\n",
    "    end\n",
    "    listvars, listvals, listnodes, stop \n",
    "end"
   ]
  },
  {
   "cell_type": "markdown",
   "metadata": {},
   "source": [
    "###  Création de la relaxation linéaire (= modèle associé au noeud 0): <span style=\"color:red\"> SECTION A SUPPRIMER !!!! </span>\n",
    "\n",
    "<span style=\"color:red\"> Cette section est à commenter/supprimer et remplacer par vos propres calculs de bornes supérieures et autres, par exemple basées sur les bornes 1 et 2 vues en cours, ou d'autres calculs de bornes de votre choix/conception validés au préalable par votre encadrant/e de TP </span>"
   ]
  },
  {
   "cell_type": "code",
   "execution_count": 72,
   "metadata": {},
   "outputs": [
    {
     "data": {
      "text/plain": [
       "ResolutionDynamique (generic function with 2 methods)"
      ]
     },
     "execution_count": 72,
     "metadata": {},
     "output_type": "execute_result"
    }
   ],
   "source": [
    "function ResolutionDynamique(i, j, R, price, weight,indices_correspond,solution)\n",
    "    # Cas de base\n",
    "    if (j <= 0 || i == 0)   \n",
    "        return 0,[v for v in solution]\n",
    "    elseif (i == 1) \n",
    "        indices = findall(x -> x <= j, weight)\n",
    "        if (indices == [])\n",
    "            return 0,[v for v in solution]\n",
    "        end\n",
    "        choosen_prices = [price[indices[i]] for i in 1:length(indices)]\n",
    "        choosen_indices_correspond = [indices_correspond[indices[i]] for i in 1:length(indices)]\n",
    "        resultat = maximum(choosen_prices)\n",
    "        rs = findall(x->x==resultat,choosen_prices)\n",
    "        r = rs[1]\n",
    "        newsolution = [v for v in solution]\n",
    "        newsolution[choosen_indices_correspond[r]] = 1\n",
    "        return resultat,newsolution\n",
    "    else\n",
    "        maxR = maximum(R)\n",
    "        ks = findall(x -> x == maxR, R)\n",
    "        k = ks[1]\n",
    "        weight_choosen = weight[k]\n",
    "        price_choosen = price[k]\n",
    "        # mise a jour de R\n",
    "        newR  = [v for v in R]\n",
    "        deleteat!(newR, k)\n",
    "        #mise à jour de price\n",
    "        newprice  = [v for v in price]\n",
    "        deleteat!(newprice, k)\n",
    "        # mise à jour de weight\n",
    "        newweight  = [ v for v in weight]\n",
    "        deleteat!(newweight, k)\n",
    "        #mise à jour de indices_correspond\n",
    "        newindices_correspond = [v for v in indices_correspond]\n",
    "        deleteat!(newindices_correspond, k)\n",
    "        # Formule récursive\n",
    "        ci1j,newsolution = ResolutionDynamique(i-1, j, newR, newprice, newweight,newindices_correspond,solution)\n",
    "        if(weight_choosen <= j)\n",
    "            ci1jk,newsolutionk = ResolutionDynamique(i-1, j-weight_choosen, newR, newprice, newweight,newindices_correspond,solution)\n",
    "            if (ci1j <= ci1jk + price_choosen)\n",
    "                newsolutionk[indices_correspond[k]] = 1\n",
    "                return ci1jk + price_choosen,[v for v in newsolutionk]\n",
    "            else\n",
    "                return ci1j,[v for v in newsolution]\n",
    "            end\n",
    "        else\n",
    "            return ci1j,[v for v in newsolution]\n",
    "        end\n",
    "    end\n",
    "end"
   ]
  },
  {
   "cell_type": "markdown",
   "metadata": {},
   "source": [
    "### Boucle principale : résoudre la relaxation linéaire, appliquer les tests de sondabilité, identifier le prochain noeud, répéter."
   ]
  },
  {
   "cell_type": "code",
   "execution_count": 76,
   "metadata": {},
   "outputs": [
    {
     "data": {
      "text/plain": [
       "SolveDynamic (generic function with 1 method)"
      ]
     },
     "execution_count": 76,
     "metadata": {},
     "output_type": "execute_result"
    }
   ],
   "source": [
    "\n",
    "function SolveDynamic(filename)\n",
    "\n",
    "        price, weight, capacity = readDynamic(filename)\n",
    "    \n",
    "         \n",
    "        # Liste contenant les ratios de tous les objets\n",
    "        R = price./weight\n",
    "\n",
    "        BestProfit = -1\n",
    "        Bestsol = []\n",
    "        \n",
    "        j = capacity\n",
    "        \n",
    "        i = length(price)\n",
    "        indices_correspond = [j for j in 1:i]\n",
    "        solution = zeros(i)\n",
    "            print(\"\\nSolutionDynamique \\n\"); \n",
    "        \n",
    "            BestProfit,solutionfinale = ResolutionDynamique(i, j, R, price, weight,indices_correspond,solution)\n",
    "\n",
    "        return BestProfit,solutionfinale\n",
    "   \n",
    "\n",
    "end\n"
   ]
  },
  {
   "cell_type": "markdown",
   "metadata": {},
   "source": [
    "### Affichage du résultat final"
   ]
  },
  {
   "cell_type": "code",
   "execution_count": 85,
   "metadata": {},
   "outputs": [
    {
     "name": "stdout",
     "output_type": "stream",
     "text": [
      "\n",
      "SolutionDynamique \n",
      "  0.000200 seconds (298 allocations: 14.922 KiB)\n",
      "\n",
      "******\n",
      "\n",
      "Optimal value = 65\n",
      "******\n",
      "\n",
      "solution optimale =[0.0, 1.0, 0.0, 1.0]\n"
     ]
    }
   ],
   "source": [
    "@time BestProfit,solution = SolveDynamic(\"instancesETU/KNAPnewformat/test.opb.txt\")\n",
    "println(\"\\n******\\n\\nOptimal value = \", BestProfit,\"\\n******\\n\\nsolution optimale =\",solution)"
   ]
  },
  {
   "cell_type": "code",
   "execution_count": 83,
   "metadata": {},
   "outputs": [
    {
     "name": "stdout",
     "output_type": "stream",
     "text": [
      "[\"almost_strongly_correlated\", \"circle\", \"inverse_strongly_correlated\", \"multiple_strongly_correlated\", \"profit_ceiling\", \"similar_weights\", \"strongly_correlated\", \"strongly_correlated_span\", \"subset_sum\", \"uncorrelated\", \"uncorrelated_span\", \"weakly_correlated\", \"weakly_correlated_span\"]\n",
      "almost_strongly_correlated : \n",
      "[\"knapPI_5_10000_10000_1_-1484157.opb.txt\", \"knapPI_5_10000_10000_2_-2405704.opb.txt\", \"knapPI_5_10000_10000_3_-3195902.opb.txt\", \"knapPI_5_10000_10000_4_-4012574.opb.txt\", \"knapPI_5_10000_10000_5_-4687981.opb.txt\", \"knapPI_5_10000_1000_1_-145393.opb.txt\", \"knapPI_5_10000_1000_2_-238597.opb.txt\", \"knapPI_5_10000_1000_3_-320932.opb.txt\", \"knapPI_5_10000_1000_4_-396116.opb.txt\", \"knapPI_5_10000_1000_5_-466744.opb.txt\", \"knapPI_5_1000_10000_1_-146390.opb.txt\", \"knapPI_5_1000_10000_2_-243637.opb.txt\", \"knapPI_5_1000_10000_3_-322069.opb.txt\", \"knapPI_5_1000_10000_4_-393112.opb.txt\", \"knapPI_5_1000_10000_5_-468478.opb.txt\", \"knapPI_5_1000_1000_1_-14202.opb.txt\", \"knapPI_5_1000_1000_2_-24297.opb.txt\", \"knapPI_5_1000_1000_3_-31556.opb.txt\", \"knapPI_5_1000_1000_4_-40866.opb.txt\", \"knapPI_5_1000_1000_5_-46434.opb.txt\", \"knapPI_5_100_10000_1_-23965.opb.txt\", \"knapPI_5_100_10000_2_-23420.opb.txt\", \"knapPI_5_100_10000_3_-31938.opb.txt\", \"knapPI_5_100_10000_4_-37099.opb.txt\", \"knapPI_5_100_10000_5_-43621.opb.txt\", \"knapPI_5_100_1000_1_-2295.opb.txt\", \"knapPI_5_100_1000_2_-2399.opb.txt\", \"knapPI_5_100_1000_3_-3094.opb.txt\", \"knapPI_5_100_1000_4_-3735.opb.txt\", \"knapPI_5_100_1000_5_-4470.opb.txt\", \"knapPI_5_2000_10000_1_-292470.opb.txt\", \"knapPI_5_2000_10000_2_-480757.opb.txt\", \"knapPI_5_2000_10000_3_-635043.opb.txt\", \"knapPI_5_2000_10000_4_-795557.opb.txt\", \"knapPI_5_2000_10000_5_-952740.opb.txt\", \"knapPI_5_2000_1000_1_-28124.opb.txt\", \"knapPI_5_2000_1000_2_-48006.opb.txt\", \"knapPI_5_2000_1000_3_-63340.opb.txt\", \"knapPI_5_2000_1000_4_-80350.opb.txt\", \"knapPI_5_2000_1000_5_-93005.opb.txt\", \"knapPI_5_200_10000_1_-28310.opb.txt\", \"knapPI_5_200_10000_2_-45993.opb.txt\", \"knapPI_5_200_10000_3_-64848.opb.txt\", \"knapPI_5_200_10000_4_-76130.opb.txt\", \"knapPI_5_200_10000_5_-95568.opb.txt\", \"knapPI_5_200_1000_1_-2706.opb.txt\", \"knapPI_5_200_1000_2_-4928.opb.txt\", \"knapPI_5_200_1000_3_-6247.opb.txt\", \"knapPI_5_200_1000_4_-8020.opb.txt\", \"knapPI_5_200_1000_5_-9271.opb.txt\", \"knapPI_5_5000_10000_1_-733679.opb.txt\", \"knapPI_5_5000_10000_2_-1193699.opb.txt\", \"knapPI_5_5000_10000_3_-1594464.opb.txt\", \"knapPI_5_5000_10000_4_-1991503.opb.txt\", \"knapPI_5_5000_10000_5_-2351338.opb.txt\", \"knapPI_5_5000_1000_1_-71745.opb.txt\", \"knapPI_5_5000_1000_2_-118929.opb.txt\", \"knapPI_5_5000_1000_3_-158893.opb.txt\", \"knapPI_5_5000_1000_4_-199316.opb.txt\", \"knapPI_5_5000_1000_5_-233473.opb.txt\", \"knapPI_5_500_10000_1_-70063.opb.txt\", \"knapPI_5_500_10000_2_-120936.opb.txt\", \"knapPI_5_500_10000_3_-158731.opb.txt\", \"knapPI_5_500_10000_4_-194082.opb.txt\", \"knapPI_5_500_10000_5_-235050.opb.txt\", \"knapPI_5_500_1000_1_-7241.opb.txt\", \"knapPI_5_500_1000_2_-12369.opb.txt\", \"knapPI_5_500_1000_3_-15918.opb.txt\", \"knapPI_5_500_1000_4_-20267.opb.txt\", \"knapPI_5_500_1000_5_-22976.opb.txt\", \"knapPI_5_50_10000_1_-21980.opb.txt\", \"knapPI_5_50_10000_2_-18843.opb.txt\", \"knapPI_5_50_10000_3_-21864.opb.txt\", \"knapPI_5_50_10000_4_-18105.opb.txt\", \"knapPI_5_50_10000_5_-22000.opb.txt\", \"knapPI_5_50_1000_1_-2096.opb.txt\", \"knapPI_5_50_1000_2_-1901.opb.txt\", \"knapPI_5_50_1000_3_-1944.opb.txt\", \"knapPI_5_50_1000_4_-1872.opb.txt\", \"knapPI_5_50_1000_5_-2351.opb.txt\"]\n",
      "circle : \n",
      "[\"knapPI_16_10000_1000_1_-277046.opb.txt\", \"knapPI_16_10000_1000_2_-464756.opb.txt\", \"knapPI_16_10000_1000_3_-633245.opb.txt\", \"knapPI_16_10000_1000_4_-775707.opb.txt\", \"knapPI_16_10000_1000_5_-912198.opb.txt\", \"knapPI_16_1000_1000_1_-27147.opb.txt\", \"knapPI_16_1000_1000_2_-44773.opb.txt\", \"knapPI_16_1000_1000_3_-64241.opb.txt\", \"knapPI_16_1000_1000_4_-77577.opb.txt\", \"knapPI_16_1000_1000_5_-91854.opb.txt\", \"knapPI_16_100_1000_1_-4400.opb.txt\", \"knapPI_16_100_1000_2_-3898.opb.txt\", \"knapPI_16_100_1000_3_-6166.opb.txt\", \"knapPI_16_100_1000_4_-8018.opb.txt\", \"knapPI_16_100_1000_5_-8569.opb.txt\", \"knapPI_16_2000_1000_1_-54945.opb.txt\", \"knapPI_16_2000_1000_2_-91425.opb.txt\", \"knapPI_16_2000_1000_3_-128038.opb.txt\", \"knapPI_16_2000_1000_4_-156978.opb.txt\", \"knapPI_16_2000_1000_5_-183168.opb.txt\", \"knapPI_16_200_1000_1_-5370.opb.txt\", \"knapPI_16_200_1000_2_-7963.opb.txt\", \"knapPI_16_200_1000_3_-13071.opb.txt\", \"knapPI_16_200_1000_4_-15937.opb.txt\", \"knapPI_16_200_1000_5_-18008.opb.txt\", \"knapPI_16_20_1000_1_-2291.opb.txt\", \"knapPI_16_20_1000_2_-2296.opb.txt\", \"knapPI_16_20_1000_3_-2189.opb.txt\", \"knapPI_16_20_1000_4_-2893.opb.txt\", \"knapPI_16_20_1000_5_-3230.opb.txt\", \"knapPI_16_5000_1000_1_-138116.opb.txt\", \"knapPI_16_5000_1000_2_-232847.opb.txt\", \"knapPI_16_5000_1000_3_-319681.opb.txt\", \"knapPI_16_5000_1000_4_-388055.opb.txt\", \"knapPI_16_5000_1000_5_-456766.opb.txt\", \"knapPI_16_500_1000_1_-13145.opb.txt\", \"knapPI_16_500_1000_2_-22574.opb.txt\", \"knapPI_16_500_1000_3_-31941.opb.txt\", \"knapPI_16_500_1000_4_-38303.opb.txt\", \"knapPI_16_500_1000_5_-45921.opb.txt\", \"knapPI_16_50_1000_1_-3408.opb.txt\", \"knapPI_16_50_1000_2_-3322.opb.txt\", \"knapPI_16_50_1000_3_-3818.opb.txt\", \"knapPI_16_50_1000_4_-3908.opb.txt\", \"knapPI_16_50_1000_5_-4195.opb.txt\"]\n",
      "knapPI_16_20_1000_1_-2291.opb.txt\n",
      "\n",
      "SolutionDynamique \n",
      "  0.001010 seconds (36.39 k allocations: 2.440 MiB)\n",
      "\n",
      "******\n",
      "\n",
      "Optimal value = 2291\n",
      "******\n",
      "\n",
      "solution optimale =[0.0, 0.0, 1.0, 0.0, 0.0, 1.0, 0.0, 0.0, 0.0, 0.0, 0.0, 0.0, 0.0, 0.0, 1.0, 0.0, 1.0, 0.0, 0.0, 0.0]\n",
      "knapPI_16_20_1000_2_-2296.opb.txt\n",
      "\n",
      "SolutionDynamique \n",
      "  0.025007 seconds (534.44 k allocations: 47.975 MiB, 19.36% gc time)\n",
      "\n",
      "******\n",
      "\n",
      "Optimal value = 2802\n",
      "******\n",
      "\n",
      "solution optimale =[1.0, 0.0, 0.0, 0.0, 0.0, 1.0, 0.0, 0.0, 0.0, 0.0, 0.0, 0.0, 0.0, 0.0, 1.0, 0.0, 0.0, 0.0, 0.0, 0.0, 0.0, 0.0, 0.0, 0.0, 0.0, 0.0, 1.0, 0.0, 0.0, 0.0, 0.0, 0.0, 0.0, 0.0, 0.0, 1.0, 0.0, 1.0, 0.0, 0.0]\n",
      "knapPI_16_20_1000_3_-2189.opb.txt\n",
      "\n",
      "SolutionDynamique \n",
      "  0.478841 seconds (7.64 M allocations: 857.262 MiB, 20.79% gc time)\n",
      "\n",
      "******\n",
      "\n",
      "Optimal value = 3267\n",
      "******\n",
      "\n",
      "solution optimale =[1.0, 0.0, 0.0, 0.0, 0.0, 1.0, 0.0, 0.0, 0.0, 0.0, 0.0, 0.0, 0.0, 0.0, 1.0, 0.0, 0.0, 0.0, 0.0, 0.0, 0.0, 0.0, 0.0, 0.0, 0.0, 0.0, 1.0, 0.0, 0.0, 0.0, 0.0, 0.0, 0.0, 0.0, 1.0, 1.0, 0.0, 0.0, 0.0, 0.0, 0.0, 0.0, 0.0, 0.0, 0.0, 0.0, 1.0, 0.0, 0.0, 0.0, 0.0, 1.0, 0.0, 0.0, 0.0, 0.0, 0.0, 0.0, 0.0, 0.0]\n",
      "knapPI_16_20_1000_4_-2893.opb.txt\n",
      "\n",
      "SolutionDynamique \n",
      "  8.835447 seconds (117.46 M allocations: 15.483 GiB, 22.43% gc time)\n",
      "\n",
      "******\n",
      "\n",
      "Optimal value = 3853\n",
      "******\n",
      "\n",
      "solution optimale =[1.0, 0.0, 0.0, 0.0, 0.0, 0.0, 0.0, 0.0, 0.0, 0.0, 0.0, 0.0, 0.0, 0.0, 1.0, 0.0, 0.0, 0.0, 0.0, 0.0, 0.0, 0.0, 0.0, 0.0, 0.0, 0.0, 1.0, 0.0, 0.0, 0.0, 0.0, 0.0, 0.0, 0.0, 1.0, 0.0, 0.0, 1.0, 0.0, 0.0, 0.0, 0.0, 0.0, 0.0, 0.0, 0.0, 1.0, 0.0, 0.0, 0.0, 0.0, 1.0, 0.0, 0.0, 0.0, 0.0, 0.0, 0.0, 0.0, 0.0, 0.0, 0.0, 0.0, 1.0, 0.0, 0.0, 0.0, 0.0, 1.0, 0.0, 0.0, 0.0, 0.0, 0.0, 1.0, 0.0, 0.0, 0.0, 0.0, 0.0]\n",
      "knapPI_16_20_1000_5_-3230.opb.txt\n",
      "\n",
      "SolutionDynamique \n"
     ]
    },
    {
     "ename": "InterruptException",
     "evalue": "\u001b[91mInterruptException:\u001b[39m",
     "output_type": "error",
     "traceback": [
      "\u001b[91mInterruptException:\u001b[39m",
      "",
      "Stacktrace:",
      " [1] Pairs at ./iterators.jl:169 [inlined]",
      " [2] pairs at ./iterators.jl:218 [inlined]",
      " [3] pairs at ./iterators.jl:224 [inlined]",
      " [4] findall at ./array.jl:2024 [inlined]",
      " [5] ResolutionDynamique(::Int64, ::Int64, ::Array{Float64,1}, ::Array{Int64,1}, ::Array{Int64,1}, ::Array{Int64,1}, ::Array{Float64,1}) at ./In[72]:20",
      " [6] ResolutionDynamique(::Int64, ::Int64, ::Array{Float64,1}, ::Array{Int64,1}, ::Array{Int64,1}, ::Array{Int64,1}, ::Array{Float64,1}) at ./In[72]:37 (repeats 6 times)",
      " [7] ResolutionDynamique(::Int64, ::Int64, ::Array{Float64,1}, ::Array{Int64,1}, ::Array{Int64,1}, ::Array{Int64,1}, ::Array{Float64,1}) at ./In[72]:39",
      " [8] ResolutionDynamique(::Int64, ::Int64, ::Array{Float64,1}, ::Array{Int64,1}, ::Array{Int64,1}, ::Array{Int64,1}, ::Array{Float64,1}) at ./In[72]:37 (repeats 5 times)",
      " [9] ResolutionDynamique(::Int64, ::Int64, ::Array{Float64,1}, ::Array{Int64,1}, ::Array{Int64,1}, ::Array{Int64,1}, ::Array{Float64,1}) at ./In[72]:39",
      " [10] ResolutionDynamique(::Int64, ::Int64, ::Array{Float64,1}, ::Array{Int64,1}, ::Array{Int64,1}, ::Array{Int64,1}, ::Array{Float64,1}) at ./In[72]:37 (repeats 4 times)",
      " [11] ResolutionDynamique(::Int64, ::Int64, ::Array{Float64,1}, ::Array{Int64,1}, ::Array{Int64,1}, ::Array{Int64,1}, ::Array{Float64,1}) at ./In[72]:39",
      " [12] ResolutionDynamique(::Int64, ::Int64, ::Array{Float64,1}, ::Array{Int64,1}, ::Array{Int64,1}, ::Array{Int64,1}, ::Array{Float64,1}) at ./In[72]:37 (repeats 4 times)",
      " [13] ResolutionDynamique(::Int64, ::Int64, ::Array{Float64,1}, ::Array{Int64,1}, ::Array{Int64,1}, ::Array{Int64,1}, ::Array{Float64,1}) at ./In[72]:39",
      " [14] ResolutionDynamique(::Int64, ::Int64, ::Array{Float64,1}, ::Array{Int64,1}, ::Array{Int64,1}, ::Array{Int64,1}, ::Array{Float64,1}) at ./In[72]:37 (repeats 2 times)",
      " [15] ResolutionDynamique(::Int64, ::Int64, ::Array{Float64,1}, ::Array{Int64,1}, ::Array{Int64,1}, ::Array{Int64,1}, ::Array{Float64,1}) at ./In[72]:39",
      " [16] ResolutionDynamique(::Int64, ::Int64, ::Array{Float64,1}, ::Array{Int64,1}, ::Array{Int64,1}, ::Array{Int64,1}, ::Array{Float64,1}) at ./In[72]:37 (repeats 2 times)",
      " [17] ResolutionDynamique(::Int64, ::Int64, ::Array{Float64,1}, ::Array{Int64,1}, ::Array{Int64,1}, ::Array{Int64,1}, ::Array{Float64,1}) at ./In[72]:39",
      " [18] ResolutionDynamique(::Int64, ::Int64, ::Array{Float64,1}, ::Array{Int64,1}, ::Array{Int64,1}, ::Array{Int64,1}, ::Array{Float64,1}) at ./In[72]:37",
      " [19] ResolutionDynamique(::Int64, ::Int64, ::Array{Float64,1}, ::Array{Int64,1}, ::Array{Int64,1}, ::Array{Int64,1}, ::Array{Float64,1}) at ./In[72]:39",
      " [20] ResolutionDynamique(::Int64, ::Int64, ::Array{Float64,1}, ::Array{Any,1}, ::Array{Any,1}, ::Array{Int64,1}, ::Array{Float64,1}) at ./In[72]:37",
      " [21] SolveDynamic(::String) at ./In[76]:20",
      " [22] macro expansion at ./util.jl:175 [inlined]",
      " [23] top-level scope at ./In[83]:13"
     ]
    }
   ],
   "source": [
    "list_dossiers = readdir(\"instancesETU/KNAPnewformat\")\n",
    "deleteat!(list_dossiers,10)\n",
    "println(list_dossiers)\n",
    "for j in 1:length(list_dossiers)\n",
    "    i = list_dossiers[j]\n",
    "    list_fichiers = readdir(\"instancesETU/KNAPnewformat/\"*i)\n",
    "    println(i*\" : \")\n",
    "    println(list_fichiers)\n",
    "    for k in 1:length(list_fichiers)\n",
    "        f = list_fichiers[k]\n",
    "        if ((findfirst(\"_20_\",f) != nothing) || ((findfirst(\"_50_\",f) != nothing) && ((findfirst(\"_5_\",f) == nothing))))\n",
    "            println(f)\n",
    "            @time BestProfit, Bestsol = SolveDynamic(\"instancesETU/KNAPnewformat/\"*i*\"/\"*f)\n",
    "            println(\"\\n******\\n\\nOptimal value = \", BestProfit,\"\\n******\\n\\nsolution optimale =\",Bestsol)\n",
    "        end\n",
    "    end\n",
    "end"
   ]
  },
  {
   "cell_type": "code",
   "execution_count": null,
   "metadata": {},
   "outputs": [],
   "source": []
  }
 ],
 "metadata": {
  "kernelspec": {
   "display_name": "Julia 1.4.2",
   "language": "julia",
   "name": "julia-1.4"
  },
  "language_info": {
   "file_extension": ".jl",
   "mimetype": "application/julia",
   "name": "julia",
   "version": "1.4.2"
  }
 },
 "nbformat": 4,
 "nbformat_minor": 4
}
