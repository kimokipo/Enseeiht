{
 "cells": [
  {
   "cell_type": "markdown",
   "metadata": {
    "slideshow": {
     "slide_type": "slide"
    }
   },
   "source": [
    "# Reconstruction parcimonieuse ou compressive sensing"
   ]
  },
  {
   "cell_type": "markdown",
   "metadata": {
    "slideshow": {
     "slide_type": "slide"
    }
   },
   "source": [
    "## I. Cadre général et première tentative."
   ]
  },
  {
   "cell_type": "markdown",
   "metadata": {
    "slideshow": {
     "slide_type": "subslide"
    }
   },
   "source": [
    "Le but du TP est de montrer que des techniques d'optimisation pour le Machine Learning permettent de récupérer des signaux qui admettent dans une certaine base une représentation parcimonieuse, c'est à dire mettant en jeu un faible nombre de coefficients. \n",
    "\n",
    "On s'intéresse donc à la reconstruction d'un vecteur $x$ (ici une image codées en niveaux de gris) en utilisant les valeurs de combinaisons aléatoire de certains pixels. Les combinaisons sont représentées par une matrice $\\Phi$. \n",
    "\n",
    "Une première approche consiste à résoudre le problème $$ \\min_x \\frac{1}{2} ||\\Phi x-y||_2^2$$ pour retrouver l'image.\n",
    "\n",
    "**Question 1 :** Commenter et compléter le code constituant le reste de la section I.\n"
   ]
  },
  {
   "cell_type": "code",
   "execution_count": 2,
   "metadata": {},
   "outputs": [
    {
     "name": "stderr",
     "output_type": "stream",
     "text": [
      "\u001b[32m\u001b[1m   Updating\u001b[22m\u001b[39m registry at `/applications/julia/.julia/registries/General`\n",
      "┌ Warning: Some registries failed to update:\n",
      "│     — `/applications/julia/.julia/registries/General` — registry dirty\n",
      "└ @ Pkg.Types /buildworker/worker/package_linux64/build/usr/share/julia/stdlib/v1.4/Pkg/src/Types.jl:1131\n",
      "\u001b[32m\u001b[1m  Resolving\u001b[22m\u001b[39m package versions...\n",
      "\u001b[32m\u001b[1m  Installed\u001b[22m\u001b[39m CustomUnitRanges ────────── v1.0.2\n",
      "\u001b[32m\u001b[1m  Installed\u001b[22m\u001b[39m Images ──────────────────── v0.24.1\n",
      "\u001b[32m\u001b[1m  Installed\u001b[22m\u001b[39m IndirectArrays ──────────── v0.5.1\n",
      "\u001b[32m\u001b[1m  Installed\u001b[22m\u001b[39m ArrayInterface ──────────── v3.1.1\n",
      "\u001b[32m\u001b[1m  Installed\u001b[22m\u001b[39m ComputationalResources ──── v0.3.2\n",
      "\u001b[32m\u001b[1m  Installed\u001b[22m\u001b[39m ImageFiltering ──────────── v0.6.21\n",
      "\u001b[32m\u001b[1m  Installed\u001b[22m\u001b[39m Gadfly ──────────────────── v1.3.3\n",
      "\u001b[32m\u001b[1m  Installed\u001b[22m\u001b[39m DualNumbers ─────────────── v0.6.5\n",
      "\u001b[32m\u001b[1m  Installed\u001b[22m\u001b[39m ImageMorphology ─────────── v0.2.11\n",
      "\u001b[32m\u001b[1m  Installed\u001b[22m\u001b[39m ImageDistances ──────────── v0.2.13\n",
      "\u001b[32m\u001b[1m  Installed\u001b[22m\u001b[39m ColorVectorSpace ────────── v0.8.7\n",
      "\u001b[32m\u001b[1m  Installed\u001b[22m\u001b[39m FFTViews ────────────────── v0.3.2\n",
      "\u001b[32m\u001b[1m  Installed\u001b[22m\u001b[39m Netpbm ──────────────────── v1.0.1\n",
      "\u001b[32m\u001b[1m  Installed\u001b[22m\u001b[39m CoordinateTransformations ─ v0.6.2\n",
      "\u001b[32m\u001b[1m  Installed\u001b[22m\u001b[39m ImageAxes ───────────────── v0.6.9\n",
      "\u001b[32m\u001b[1m  Installed\u001b[22m\u001b[39m ImageMagick_jll ─────────── v6.9.10-12+3\n",
      "\u001b[32m\u001b[1m  Installed\u001b[22m\u001b[39m ImageMetadata ───────────── v0.9.5\n",
      "\u001b[32m\u001b[1m  Installed\u001b[22m\u001b[39m CatIndices ──────────────── v0.2.2\n",
      "\u001b[32m\u001b[1m  Installed\u001b[22m\u001b[39m ImageContrastAdjustment ─── v0.3.7\n",
      "\u001b[32m\u001b[1m  Installed\u001b[22m\u001b[39m AxisArrays ──────────────── v0.4.4\n",
      "\u001b[32m\u001b[1m  Installed\u001b[22m\u001b[39m StaticArrays ────────────── v0.12.5\n",
      "\u001b[32m\u001b[1m  Installed\u001b[22m\u001b[39m ImageCore ───────────────── v0.8.22\n",
      "\u001b[32m\u001b[1m  Installed\u001b[22m\u001b[39m GeometryBasics ──────────── v0.3.12\n",
      "\u001b[32m\u001b[1m  Installed\u001b[22m\u001b[39m IdentityRanges ──────────── v0.3.1\n",
      "\u001b[32m\u001b[1m  Installed\u001b[22m\u001b[39m JpegTurbo_jll ───────────── v2.0.1+3\n",
      "\u001b[32m\u001b[1m  Installed\u001b[22m\u001b[39m Quaternions ─────────────── v0.4.2\n",
      "\u001b[32m\u001b[1m  Installed\u001b[22m\u001b[39m ImageQualityIndexes ─────── v0.2.2\n",
      "\u001b[32m\u001b[1m  Installed\u001b[22m\u001b[39m StructArrays ────────────── v0.5.1\n",
      "\u001b[32m\u001b[1m  Installed\u001b[22m\u001b[39m Rotations ───────────────── v1.1.0\n",
      "\u001b[32m\u001b[1m  Installed\u001b[22m\u001b[39m RangeArrays ─────────────── v0.3.2\n",
      "\u001b[32m\u001b[1m  Installed\u001b[22m\u001b[39m TiledIteration ──────────── v0.3.1\n",
      "\u001b[32m\u001b[1m  Installed\u001b[22m\u001b[39m Libtiff_jll ─────────────── v4.1.0+2\n",
      "\u001b[32m\u001b[1m  Installed\u001b[22m\u001b[39m ImageShow ───────────────── v0.3.1\n",
      "\u001b[32m\u001b[1m  Installed\u001b[22m\u001b[39m ImageMagick ─────────────── v1.2.2\n",
      "\u001b[32m\u001b[1m  Installed\u001b[22m\u001b[39m ImageTransformations ────── v0.8.13\n",
      "######################################################################### 100,0%\n",
      "######################################################################### 100,0%\n",
      "######################################################################### 100,0%\n",
      "\u001b[32m\u001b[1m   Updating\u001b[22m\u001b[39m `/applications/julia/.julia/environments/v1.4/Project.toml`\n",
      " \u001b[90m [c91e804a]\u001b[39m\u001b[95m ↓ Gadfly v1.3.4 ⇒ v1.3.3\u001b[39m\n",
      " \u001b[90m [916415d5]\u001b[39m\u001b[92m + Images v0.24.1\u001b[39m\n",
      "\u001b[32m\u001b[1m   Updating\u001b[22m\u001b[39m `/applications/julia/.julia/environments/v1.4/Manifest.toml`\n",
      " \u001b[90m [4fba245c]\u001b[39m\u001b[95m ↓ ArrayInterface v3.2.1 ⇒ v3.1.1\u001b[39m\n",
      " \u001b[90m [39de3d68]\u001b[39m\u001b[92m + AxisArrays v0.4.4\u001b[39m\n",
      " \u001b[90m [aafaddc9]\u001b[39m\u001b[92m + CatIndices v0.2.2\u001b[39m\n",
      " \u001b[90m [c3611d14]\u001b[39m\u001b[95m ↓ ColorVectorSpace v0.9.8 ⇒ v0.8.7\u001b[39m\n",
      " \u001b[90m [ed09eef8]\u001b[39m\u001b[92m + ComputationalResources v0.3.2\u001b[39m\n",
      " \u001b[90m [150eb455]\u001b[39m\u001b[92m + CoordinateTransformations v0.6.2\u001b[39m\n",
      " \u001b[90m [dc8bdbbb]\u001b[39m\u001b[92m + CustomUnitRanges v1.0.2\u001b[39m\n",
      " \u001b[90m [fa6b7ba4]\u001b[39m\u001b[92m + DualNumbers v0.6.5\u001b[39m\n",
      " \u001b[90m [4f61f5a4]\u001b[39m\u001b[92m + FFTViews v0.3.2\u001b[39m\n",
      " \u001b[90m [c91e804a]\u001b[39m\u001b[95m ↓ Gadfly v1.3.4 ⇒ v1.3.3\u001b[39m\n",
      " \u001b[90m [5c1252a2]\u001b[39m\u001b[95m ↓ GeometryBasics v0.3.13 ⇒ v0.3.12\u001b[39m\n",
      " \u001b[90m [bbac6d45]\u001b[39m\u001b[92m + IdentityRanges v0.3.1\u001b[39m\n",
      " \u001b[90m [2803e5a7]\u001b[39m\u001b[92m + ImageAxes v0.6.9\u001b[39m\n",
      " \u001b[90m [f332f351]\u001b[39m\u001b[92m + ImageContrastAdjustment v0.3.7\u001b[39m\n",
      " \u001b[90m [a09fc81d]\u001b[39m\u001b[95m ↓ ImageCore v0.9.3 ⇒ v0.8.22\u001b[39m\n",
      " \u001b[90m [51556ac3]\u001b[39m\u001b[92m + ImageDistances v0.2.13\u001b[39m\n",
      " \u001b[90m [6a3955dd]\u001b[39m\u001b[92m + ImageFiltering v0.6.21\u001b[39m\n",
      " \u001b[90m [6218d12a]\u001b[39m\u001b[92m + ImageMagick v1.2.2\u001b[39m\n",
      " \u001b[90m [c73af94c]\u001b[39m\u001b[92m + ImageMagick_jll v6.9.10-12+3\u001b[39m\n",
      " \u001b[90m [bc367c6b]\u001b[39m\u001b[92m + ImageMetadata v0.9.5\u001b[39m\n",
      " \u001b[90m [787d08f9]\u001b[39m\u001b[92m + ImageMorphology v0.2.11\u001b[39m\n",
      " \u001b[90m [2996bd0c]\u001b[39m\u001b[92m + ImageQualityIndexes v0.2.2\u001b[39m\n",
      " \u001b[90m [4e3cecfd]\u001b[39m\u001b[92m + ImageShow v0.3.1\u001b[39m\n",
      " \u001b[90m [02fcd773]\u001b[39m\u001b[92m + ImageTransformations v0.8.13\u001b[39m\n",
      " \u001b[90m [916415d5]\u001b[39m\u001b[92m + Images v0.24.1\u001b[39m\n",
      " \u001b[90m [9b13fd28]\u001b[39m\u001b[95m ↓ IndirectArrays v1.0.0 ⇒ v0.5.1\u001b[39m\n",
      " \u001b[90m [aacddb02]\u001b[39m\u001b[92m + JpegTurbo_jll v2.0.1+3\u001b[39m\n",
      " \u001b[90m [89763e89]\u001b[39m\u001b[92m + Libtiff_jll v4.1.0+2\u001b[39m\n",
      " \u001b[90m [f09324ee]\u001b[39m\u001b[95m ↓ Netpbm v1.0.2 ⇒ v1.0.1\u001b[39m\n",
      " \u001b[90m [94ee1d12]\u001b[39m\u001b[92m + Quaternions v0.4.2\u001b[39m\n",
      " \u001b[90m [b3c3ace0]\u001b[39m\u001b[92m + RangeArrays v0.3.2\u001b[39m\n",
      " \u001b[90m [6038ab10]\u001b[39m\u001b[92m + Rotations v1.1.0\u001b[39m\n",
      " \u001b[90m [aedffcd0]\u001b[39m\u001b[91m - Static v0.4.0\u001b[39m\n",
      " \u001b[90m [90137ffa]\u001b[39m\u001b[95m ↓ StaticArrays v1.2.13 ⇒ v0.12.5\u001b[39m\n",
      " \u001b[90m [09ab397b]\u001b[39m\u001b[95m ↓ StructArrays v0.6.3 ⇒ v0.5.1\u001b[39m\n",
      " \u001b[90m [62fd8b95]\u001b[39m\u001b[91m - TensorCore v0.1.1\u001b[39m\n",
      " \u001b[90m [06e1c1a7]\u001b[39m\u001b[92m + TiledIteration v0.3.1\u001b[39m\n",
      "\u001b[32m\u001b[1m  Resolving\u001b[22m\u001b[39m package versions...\n",
      "\u001b[32m\u001b[1m   Updating\u001b[22m\u001b[39m `/applications/julia/.julia/environments/v1.4/Project.toml`\n",
      "\u001b[90m [no changes]\u001b[39m\n",
      "\u001b[32m\u001b[1m   Updating\u001b[22m\u001b[39m `/applications/julia/.julia/environments/v1.4/Manifest.toml`\n",
      "\u001b[90m [no changes]\u001b[39m\n",
      "\u001b[32m\u001b[1m  Resolving\u001b[22m\u001b[39m package versions...\n",
      "\u001b[32m\u001b[1m   Updating\u001b[22m\u001b[39m `/applications/julia/.julia/environments/v1.4/Project.toml`\n",
      " \u001b[90m [37e2e46d]\u001b[39m\u001b[92m + LinearAlgebra \u001b[39m\n",
      "\u001b[32m\u001b[1m   Updating\u001b[22m\u001b[39m `/applications/julia/.julia/environments/v1.4/Manifest.toml`\n",
      "\u001b[90m [no changes]\u001b[39m\n",
      "\u001b[32m\u001b[1m  Resolving\u001b[22m\u001b[39m package versions...\n",
      "\u001b[32m\u001b[1m   Updating\u001b[22m\u001b[39m `/applications/julia/.julia/environments/v1.4/Project.toml`\n",
      " \u001b[90m [7a1cc6ca]\u001b[39m\u001b[92m + FFTW v1.3.0\u001b[39m\n",
      "\u001b[32m\u001b[1m   Updating\u001b[22m\u001b[39m `/applications/julia/.julia/environments/v1.4/Manifest.toml`\n",
      "\u001b[90m [no changes]\u001b[39m\n"
     ]
    }
   ],
   "source": [
    "using Pkg\n",
    "Pkg.add(\"Images\")\n",
    "Pkg.add(\"Colors\")\n",
    "Pkg.add(\"LinearAlgebra\")\n",
    "Pkg.add(\"FFTW\")"
   ]
  },
  {
   "cell_type": "code",
   "execution_count": 3,
   "metadata": {
    "slideshow": {
     "slide_type": "slide"
    }
   },
   "outputs": [
    {
     "name": "stderr",
     "output_type": "stream",
     "text": [
      "┌ Info: Precompiling Images [916415d5-f1e6-5110-898d-aaa5f9f070e0]\n",
      "└ @ Base loading.jl:1260\n",
      "┌ Info: Precompiling ImageIO [82e4d734-157c-48bb-816b-45c225c6df19]\n",
      "└ @ Base loading.jl:1260\n",
      "┌ Info: Precompiling TiffImages [731e570b-9d59-4bfa-96dc-6df516fadf69]\n",
      "└ @ Base loading.jl:1260\n",
      "┌ Warning: `convert(Array{Gray}, img)` will soon switch to returning an array with non-concrete element type, which adds flexibility but\n",
      "│ with great cost to performance. To maintain the current behavior, use `Gray.(img)` instead.\n",
      "│   caller = top-level scope at In[3]:19\n",
      "└ @ Core In[3]:19\n",
      "┌ Info: Precompiling PNGFiles [f57f5aa1-a3ce-4bc8-8ab9-96f992907883]\n",
      "└ @ Base loading.jl:1260\n",
      "┌ Info: Precompiling ImageMagick [6218d12a-5da1-5696-b52f-db25d2ecc6d1]\n",
      "└ @ Base loading.jl:1260\n"
     ]
    },
    {
     "data": {
      "image/png": "[encoded data removed]",
      "text/plain": [
       "256×256 view(::Array{Gray{N0f8},2}, :, :) with eltype Gray{Normed{UInt8,8}}:\n",
       " Gray{N0f8}(0.612)  Gray{N0f8}(0.624)  …  Gray{N0f8}(0.596)\n",
       " Gray{N0f8}(0.627)  Gray{N0f8}(0.604)     Gray{N0f8}(0.6)\n",
       " Gray{N0f8}(0.612)  Gray{N0f8}(0.624)     Gray{N0f8}(0.596)\n",
       " Gray{N0f8}(0.627)  Gray{N0f8}(0.604)     Gray{N0f8}(0.6)\n",
       " Gray{N0f8}(0.612)  Gray{N0f8}(0.6)       Gray{N0f8}(0.592)\n",
       " Gray{N0f8}(0.608)  Gray{N0f8}(0.608)  …  Gray{N0f8}(0.6)\n",
       " Gray{N0f8}(0.612)  Gray{N0f8}(0.6)       Gray{N0f8}(0.584)\n",
       " Gray{N0f8}(0.624)  Gray{N0f8}(0.624)     Gray{N0f8}(0.576)\n",
       " Gray{N0f8}(0.62)   Gray{N0f8}(0.608)     Gray{N0f8}(0.576)\n",
       " Gray{N0f8}(0.608)  Gray{N0f8}(0.604)     Gray{N0f8}(0.6)\n",
       " Gray{N0f8}(0.604)  Gray{N0f8}(0.616)  …  Gray{N0f8}(0.608)\n",
       " Gray{N0f8}(0.596)  Gray{N0f8}(0.588)     Gray{N0f8}(0.58)\n",
       " Gray{N0f8}(0.616)  Gray{N0f8}(0.6)       Gray{N0f8}(0.592)\n",
       " ⋮                                     ⋱  ⋮\n",
       " Gray{N0f8}(0.522)  Gray{N0f8}(0.482)     Gray{N0f8}(0.384)\n",
       " Gray{N0f8}(0.561)  Gray{N0f8}(0.502)  …  Gray{N0f8}(0.467)\n",
       " Gray{N0f8}(0.318)  Gray{N0f8}(0.416)     Gray{N0f8}(0.38)\n",
       " Gray{N0f8}(0.416)  Gray{N0f8}(0.549)     Gray{N0f8}(0.533)\n",
       " Gray{N0f8}(0.537)  Gray{N0f8}(0.478)     Gray{N0f8}(0.376)\n",
       " Gray{N0f8}(0.569)  Gray{N0f8}(0.455)     Gray{N0f8}(0.376)\n",
       " Gray{N0f8}(0.447)  Gray{N0f8}(0.482)  …  Gray{N0f8}(0.392)\n",
       " Gray{N0f8}(0.384)  Gray{N0f8}(0.447)     Gray{N0f8}(0.416)\n",
       " Gray{N0f8}(0.498)  Gray{N0f8}(0.455)     Gray{N0f8}(0.471)\n",
       " Gray{N0f8}(0.447)  Gray{N0f8}(0.518)     Gray{N0f8}(0.447)\n",
       " Gray{N0f8}(0.475)  Gray{N0f8}(0.494)     Gray{N0f8}(0.443)\n",
       " Gray{N0f8}(0.475)  Gray{N0f8}(0.494)  …  Gray{N0f8}(0.443)"
      ]
     },
     "execution_count": 3,
     "metadata": {},
     "output_type": "execute_result"
    }
   ],
   "source": [
    "#\n",
    "# Installation des librairies\n",
    "#\n",
    "#\n",
    "#\n",
    "\n",
    "#\n",
    "# Repertoire ou se trouve le fichier cameraman.tif\n",
    "#\n",
    "#cd(\"$(homedir())/\") \n",
    "\n",
    "#\n",
    "# Chargement des librairies de traitement d'image\n",
    "#\n",
    "\n",
    "using Images, Colors, LinearAlgebra, FFTW\n",
    "\n",
    "img1 = load(\"cameraman.tif\");    # \n",
    "img=convert(Array{Gray},img1);   # \n",
    "A = convert(Array{Float64,2},img);  # \n",
    "\n",
    "tmp=@view img1[:,:]"
   ]
  },
  {
   "cell_type": "code",
   "execution_count": 4,
   "metadata": {
    "slideshow": {
     "slide_type": "subslide"
    }
   },
   "outputs": [
    {
     "data": {
      "image/png": "[encoded data removed]",
      "text/plain": [
       "30×30 view(reinterpret(Gray{Float64}, ::Array{Float64,2}), :, :) with eltype Gray{Float64}:\n",
       " Gray{Float64}(0.705882)   …  Gray{Float64}(0.721569)\n",
       " Gray{Float64}(0.698039)      Gray{Float64}(0.713725)\n",
       " Gray{Float64}(0.701961)      Gray{Float64}(0.717647)\n",
       " Gray{Float64}(0.701961)      Gray{Float64}(0.729412)\n",
       " Gray{Float64}(0.705882)      Gray{Float64}(0.717647)\n",
       " Gray{Float64}(0.698039)   …  Gray{Float64}(0.764706)\n",
       " Gray{Float64}(0.709804)      Gray{Float64}(0.588235)\n",
       " Gray{Float64}(0.701961)      Gray{Float64}(0.0705882)\n",
       " Gray{Float64}(0.690196)      Gray{Float64}(0.0588235)\n",
       " Gray{Float64}(0.709804)      Gray{Float64}(0.0627451)\n",
       " Gray{Float64}(0.701961)   …  Gray{Float64}(0.0627451)\n",
       " Gray{Float64}(0.713725)      Gray{Float64}(0.0588235)\n",
       " Gray{Float64}(0.705882)      Gray{Float64}(0.054902)\n",
       " ⋮                         ⋱  \n",
       " Gray{Float64}(0.513725)      Gray{Float64}(0.054902)\n",
       " Gray{Float64}(0.0941176)     Gray{Float64}(0.0627451)\n",
       " Gray{Float64}(0.0588235)  …  Gray{Float64}(0.0588235)\n",
       " Gray{Float64}(0.0588235)     Gray{Float64}(0.0627451)\n",
       " Gray{Float64}(0.0627451)     Gray{Float64}(0.054902)\n",
       " Gray{Float64}(0.0666667)     Gray{Float64}(0.0627451)\n",
       " Gray{Float64}(0.0588235)     Gray{Float64}(0.0588235)\n",
       " Gray{Float64}(0.054902)   …  Gray{Float64}(0.0588235)\n",
       " Gray{Float64}(0.0470588)     Gray{Float64}(0.0588235)\n",
       " Gray{Float64}(0.0431373)     Gray{Float64}(0.054902)\n",
       " Gray{Float64}(0.0431373)     Gray{Float64}(0.054902)\n",
       " Gray{Float64}(0.0392157)     Gray{Float64}(0.0588235)"
      ]
     },
     "execution_count": 4,
     "metadata": {},
     "output_type": "execute_result"
    }
   ],
   "source": [
    "# Extraction d'une sous-image contrastée\n",
    "k    = 30;\n",
    "orig = 60;\n",
    "Aloc   = A[orig:orig+k-1,orig:orig+k-1];\n",
    "x   = (Aloc[:]);\n",
    "n   = length(x);\n",
    "m   = 500; \n",
    "Phi = randn(m,n);\n",
    "\n",
    "imhsv=colorview(Gray,float(Aloc));\n",
    "tmp=@view imhsv[:,:]\n",
    "\n",
    "#\n",
    "# Fin Extraction\n",
    "#\n"
   ]
  },
  {
   "cell_type": "markdown",
   "metadata": {},
   "source": [
    "**Question 2 :** Résoudre le problème de moindres carrés $$\\min_x || \\Phi x -y ||_2,$$ et afficher le résultat (attention, l'image doit être en niveaux de gris). Que constate-t-on?"
   ]
  },
  {
   "cell_type": "code",
   "execution_count": 31,
   "metadata": {},
   "outputs": [
    {
     "name": "stdout",
     "output_type": "stream",
     "text": [
      "248.62303637231005\n",
      "11.625991564635235"
     ]
    },
    {
     "data": {
      "image/png": "[encoded data removed]",
      "text/plain": [
       "30×30 view(reinterpret(Gray{Float64}, ::Array{Float64,2}), :, :) with eltype Gray{Float64}:\n",
       " Gray{Float64}(0.63095)    …  Gray{Float64}(0.646459)\n",
       " Gray{Float64}(0.718691)      Gray{Float64}(0.727074)\n",
       " Gray{Float64}(0.262287)      Gray{Float64}(0.578344)\n",
       " Gray{Float64}(0.753349)      Gray{Float64}(0.426646)\n",
       " Gray{Float64}(0.746131)      Gray{Float64}(0.411194)\n",
       " Gray{Float64}(0.30023)    …  Gray{Float64}(0.424616)\n",
       " Gray{Float64}(0.617815)      Gray{Float64}(0.357535)\n",
       " Gray{Float64}(0.632095)      Gray{Float64}(0.470378)\n",
       " Gray{Float64}(0.530132)      Gray{Float64}(0.498091)\n",
       " Gray{Float64}(0.555632)      Gray{Float64}(0.618115)\n",
       " Gray{Float64}(0.0143538)  …  Gray{Float64}(0.366269)\n",
       " Gray{Float64}(0.455124)      Gray{Float64}(0.873727)\n",
       " Gray{Float64}(0.554404)      Gray{Float64}(0.645929)\n",
       " ⋮                         ⋱  \n",
       " Gray{Float64}(0.598915)      Gray{Float64}(0.383683)\n",
       " Gray{Float64}(0.31317)       Gray{Float64}(0.478755)\n",
       " Gray{Float64}(0.318953)   …  Gray{Float64}(0.46985)\n",
       " Gray{Float64}(0.554235)      Gray{Float64}(0.832561)\n",
       " Gray{Float64}(0.517736)      Gray{Float64}(0.569594)\n",
       " Gray{Float64}(0.258091)      Gray{Float64}(0.244758)\n",
       " Gray{Float64}(0.775961)      Gray{Float64}(0.447837)\n",
       " Gray{Float64}(0.731015)   …  Gray{Float64}(0.605267)\n",
       " Gray{Float64}(0.508044)      Gray{Float64}(0.411414)\n",
       " Gray{Float64}(0.437032)      Gray{Float64}(0.477553)\n",
       " Gray{Float64}(0.444844)      Gray{Float64}(0.56106)\n",
       " Gray{Float64}(0.522251)      Gray{Float64}(0.616422)"
      ]
     },
     "execution_count": 31,
     "metadata": {},
     "output_type": "execute_result"
    }
   ],
   "source": [
    "y     = Phi*x ; # Vecteur des \"observations\" de l'image\n",
    "## A compléter\n",
    "result = inv(transpose(Phi)*Phi)*transpose(Phi)*y;\n",
    "result = (result.-minimum(result))/(maximum(result)-minimum(result))\n",
    "image_result = reshape(result,k,k)\n",
    "residu = norm(Phi*result-y,2)\n",
    "println(residu)\n",
    "imhsv_result=colorview(Gray,float(image_result));\n",
    "print(norm(image_result[:].-x))\n",
    "tmp=@view imhsv_result[:,:]\n",
    "## Fin à compléter"
   ]
  },
  {
   "cell_type": "markdown",
   "metadata": {
    "slideshow": {
     "slide_type": "slide"
    }
   },
   "source": [
    "#### II. Compressive sensing"
   ]
  },
  {
   "cell_type": "markdown",
   "metadata": {
    "slideshow": {
     "slide_type": "fragment"
    }
   },
   "source": [
    "\n",
    "On désire utiliser à présent la transformation discrète en cosinus pour obtenir une représentaiton parcimonieuse d'une image. Cette transfomation bijective est obtenue avec la fonction `dct`, son inverse s'appelant `idct`.\n",
    "\n",
    "A partir de la fonction IDCT de Julia, on calcule la matrice  $\\Theta = \\Phi*\\Psi$, avec $\\Psi$ la matrice représentative de IDCT dans la base canonique.\n"
   ]
  },
  {
   "cell_type": "code",
   "execution_count": 8,
   "metadata": {
    "slideshow": {
     "slide_type": "slide"
    }
   },
   "outputs": [],
   "source": [
    "Theta = zeros(m,n);\n",
    "for ii = 1:n\n",
    "    ii\n",
    "    ek = zeros(1,n);\n",
    "    ek[ii] = 1;\n",
    "    psi = idct(ek)';\n",
    "    Theta[:,ii] = Phi*psi;\n",
    "end"
   ]
  },
  {
   "cell_type": "markdown",
   "metadata": {
    "slideshow": {
     "slide_type": "slide"
    }
   },
   "source": [
    "### II.1. Utilisation d'un algorithme de sous-gradient"
   ]
  },
  {
   "cell_type": "markdown",
   "metadata": {
    "slideshow": {
     "slide_type": "slide"
    }
   },
   "source": [
    "**Qestion 3 :** Soit $\\lambda > 0$ (ici $\\lambda=100$). Expliquer l'intérêt de \n",
    " calculer $x_{sg}= \\Psi z$ où $z$ résout $$\\min_z \\frac{1}{2} ||\\Phi  \\cdot \\Psi  \\cdot z -y||_2^2+ \\lambda ||z||_1.$$ \n",
    " \n",
    "**Qestion 4 :** Justifier la convexité de la fonctionnelle et donner son sous-différentiel.\n",
    "\n",
    "**Qestion 5 :** Compléter ci-dessous le code de sous-gradient projeté. Vous considèrerez les différents choix de pas $\\alpha_i$ vus en cours, et trouverez des réglages permettant d'obtenir un bon rendu visuel. On pourra se rappeler du fait que la solution de norme minimale a une norme inférieure à dix.\n"
   ]
  },
  {
   "cell_type": "code",
   "execution_count": 9,
   "metadata": {},
   "outputs": [
    {
     "data": {
      "text/plain": [
       "sou_gradient_1 (generic function with 1 method)"
      ]
     },
     "execution_count": 9,
     "metadata": {},
     "output_type": "execute_result"
    }
   ],
   "source": [
    "function sou_gradient_1(z,alpha)\n",
    "    n = length(z)\n",
    "    somme = zeros(n,1)\n",
    "    for i=1:n\n",
    "        ek = zeros(n,1);\n",
    "        ek[i] = 1;\n",
    "        if (z[i] > 0)\n",
    "            somme = somme .+ ek\n",
    "        elseif(z[i] < 0)\n",
    "            somme = somme .- ek\n",
    "        else\n",
    "            somme = somme .+ alpha *ek\n",
    "        end\n",
    "    end\n",
    "    return somme\n",
    "end"
   ]
  },
  {
   "cell_type": "code",
   "execution_count": 113,
   "metadata": {
    "slideshow": {
     "slide_type": "slide"
    }
   },
   "outputs": [
    {
     "name": "stdout",
     "output_type": "stream",
     "text": [
      "residu : 48.824082492482425\n",
      "norm de z : 10.696327904375405"
     ]
    },
    {
     "data": {
      "image/svg+xml": [
       "<?xml version=\"1.0\" encoding=\"utf-8\"?>\n",
       "<svg xmlns=\"http://www.w3.org/2000/svg\" xmlns:xlink=\"http://www.w3.org/1999/xlink\" width=\"600\" height=\"400\" viewBox=\"0 0 2400 1600\">\n",
       "<defs>\n",
       "  <clipPath id=\"clip580\">\n",
       "    <rect x=\"0\" y=\"0\" width=\"2400\" height=\"1600\"/>\n",
       "  </clipPath>\n",
       "</defs>\n",
       "<path clip-path=\"url(#clip580)\" d=\"\n",
       "M0 1600 L2400 1600 L2400 0 L0 0  Z\n",
       "  \" fill=\"#ffffff\" fill-rule=\"evenodd\" fill-opacity=\"1\"/>\n",
       "<defs>\n",
       "  <clipPath id=\"clip581\">\n",
       "    <rect x=\"480\" y=\"0\" width=\"1681\" height=\"1600\"/>\n",
       "  </clipPath>\n",
       "</defs>\n",
       "<path clip-path=\"url(#clip580)\" d=\"\n",
       "M315.676 1423.18 L2352.76 1423.18 L2352.76 47.2441 L315.676 47.2441  Z\n",
       "  \" fill=\"#ffffff\" fill-rule=\"evenodd\" fill-opacity=\"1\"/>\n",
       "<defs>\n",
       "  <clipPath id=\"clip582\">\n",
       "    <rect x=\"315\" y=\"47\" width=\"2038\" height=\"1377\"/>\n",
       "  </clipPath>\n",
       "</defs>\n",
       "<polyline clip-path=\"url(#clip582)\" style=\"stroke:#000000; stroke-width:2; stroke-opacity:0.1; fill:none\" points=\"\n",
       "  371.407,1423.18 371.407,47.2441 \n",
       "  \"/>\n",
       "<polyline clip-path=\"url(#clip582)\" style=\"stroke:#000000; stroke-width:2; stroke-opacity:0.1; fill:none\" points=\"\n",
       "  851.851,1423.18 851.851,47.2441 \n",
       "  \"/>\n",
       "<polyline clip-path=\"url(#clip582)\" style=\"stroke:#000000; stroke-width:2; stroke-opacity:0.1; fill:none\" points=\"\n",
       "  1332.29,1423.18 1332.29,47.2441 \n",
       "  \"/>\n",
       "<polyline clip-path=\"url(#clip582)\" style=\"stroke:#000000; stroke-width:2; stroke-opacity:0.1; fill:none\" points=\"\n",
       "  1812.74,1423.18 1812.74,47.2441 \n",
       "  \"/>\n",
       "<polyline clip-path=\"url(#clip582)\" style=\"stroke:#000000; stroke-width:2; stroke-opacity:0.1; fill:none\" points=\"\n",
       "  2293.18,1423.18 2293.18,47.2441 \n",
       "  \"/>\n",
       "<polyline clip-path=\"url(#clip580)\" style=\"stroke:#000000; stroke-width:4; stroke-opacity:1; fill:none\" points=\"\n",
       "  315.676,1423.18 2352.76,1423.18 \n",
       "  \"/>\n",
       "<polyline clip-path=\"url(#clip580)\" style=\"stroke:#000000; stroke-width:4; stroke-opacity:1; fill:none\" points=\"\n",
       "  371.407,1423.18 371.407,1406.67 \n",
       "  \"/>\n",
       "<polyline clip-path=\"url(#clip580)\" style=\"stroke:#000000; stroke-width:4; stroke-opacity:1; fill:none\" points=\"\n",
       "  851.851,1423.18 851.851,1406.67 \n",
       "  \"/>\n",
       "<polyline clip-path=\"url(#clip580)\" style=\"stroke:#000000; stroke-width:4; stroke-opacity:1; fill:none\" points=\"\n",
       "  1332.29,1423.18 1332.29,1406.67 \n",
       "  \"/>\n",
       "<polyline clip-path=\"url(#clip580)\" style=\"stroke:#000000; stroke-width:4; stroke-opacity:1; fill:none\" points=\"\n",
       "  1812.74,1423.18 1812.74,1406.67 \n",
       "  \"/>\n",
       "<polyline clip-path=\"url(#clip580)\" style=\"stroke:#000000; stroke-width:4; stroke-opacity:1; fill:none\" points=\"\n",
       "  2293.18,1423.18 2293.18,1406.67 \n",
       "  \"/>\n",
       "<path clip-path=\"url(#clip580)\" d=\"M 0 0 M371.407 1452.37 Q367.796 1452.37 365.968 1455.94 Q364.162 1459.48 364.162 1466.61 Q364.162 1473.71 365.968 1477.28 Q367.796 1480.82 371.407 1480.82 Q375.042 1480.82 376.847 1477.28 Q378.676 1473.71 378.676 1466.61 Q378.676 1459.48 376.847 1455.94 Q375.042 1452.37 371.407 1452.37 M371.407 1448.67 Q377.218 1448.67 380.273 1453.27 Q383.352 1457.86 383.352 1466.61 Q383.352 1475.33 380.273 1479.94 Q377.218 1484.52 371.407 1484.52 Q365.597 1484.52 362.519 1479.94 Q359.463 1475.33 359.463 1466.61 Q359.463 1457.86 362.519 1453.27 Q365.597 1448.67 371.407 1448.67 Z\" fill=\"#000000\" fill-rule=\"evenodd\" fill-opacity=\"1\" /><path clip-path=\"url(#clip580)\" d=\"M 0 0 M819.988 1479.92 L836.307 1479.92 L836.307 1483.85 L814.363 1483.85 L814.363 1479.92 Q817.025 1477.16 821.608 1472.53 Q826.214 1467.88 827.395 1466.54 Q829.64 1464.01 830.52 1462.28 Q831.423 1460.52 831.423 1458.83 Q831.423 1456.07 829.478 1454.34 Q827.557 1452.6 824.455 1452.6 Q822.256 1452.6 819.802 1453.37 Q817.372 1454.13 814.594 1455.68 L814.594 1450.96 Q817.418 1449.82 819.872 1449.25 Q822.325 1448.67 824.362 1448.67 Q829.733 1448.67 832.927 1451.35 Q836.122 1454.04 836.122 1458.53 Q836.122 1460.66 835.311 1462.58 Q834.524 1464.48 832.418 1467.07 Q831.839 1467.74 828.737 1470.96 Q825.636 1474.15 819.988 1479.92 Z\" fill=\"#000000\" fill-rule=\"evenodd\" fill-opacity=\"1\" /><path clip-path=\"url(#clip580)\" d=\"M 0 0 M841.423 1449.29 L859.779 1449.29 L859.779 1453.23 L845.705 1453.23 L845.705 1461.7 Q846.723 1461.35 847.742 1461.19 Q848.76 1461 849.779 1461 Q855.566 1461 858.946 1464.18 Q862.325 1467.35 862.325 1472.76 Q862.325 1478.34 858.853 1481.44 Q855.381 1484.52 849.061 1484.52 Q846.886 1484.52 844.617 1484.15 Q842.372 1483.78 839.964 1483.04 L839.964 1478.34 Q842.048 1479.48 844.27 1480.03 Q846.492 1480.59 848.969 1480.59 Q852.973 1480.59 855.311 1478.48 Q857.649 1476.38 857.649 1472.76 Q857.649 1469.15 855.311 1467.05 Q852.973 1464.94 848.969 1464.94 Q847.094 1464.94 845.219 1465.36 Q843.367 1465.77 841.423 1466.65 L841.423 1449.29 Z\" fill=\"#000000\" fill-rule=\"evenodd\" fill-opacity=\"1\" /><path clip-path=\"url(#clip580)\" d=\"M 0 0 M877.395 1452.37 Q873.784 1452.37 871.955 1455.94 Q870.149 1459.48 870.149 1466.61 Q870.149 1473.71 871.955 1477.28 Q873.784 1480.82 877.395 1480.82 Q881.029 1480.82 882.834 1477.28 Q884.663 1473.71 884.663 1466.61 Q884.663 1459.48 882.834 1455.94 Q881.029 1452.37 877.395 1452.37 M877.395 1448.67 Q883.205 1448.67 886.26 1453.27 Q889.339 1457.86 889.339 1466.61 Q889.339 1475.33 886.26 1479.94 Q883.205 1484.52 877.395 1484.52 Q871.584 1484.52 868.506 1479.94 Q865.45 1475.33 865.45 1466.61 Q865.45 1457.86 868.506 1453.27 Q871.584 1448.67 877.395 1448.67 Z\" fill=\"#000000\" fill-rule=\"evenodd\" fill-opacity=\"1\" /><path clip-path=\"url(#clip580)\" d=\"M 0 0 M1295.56 1449.29 L1313.91 1449.29 L1313.91 1453.23 L1299.84 1453.23 L1299.84 1461.7 Q1300.86 1461.35 1301.88 1461.19 Q1302.9 1461 1303.91 1461 Q1309.7 1461 1313.08 1464.18 Q1316.46 1467.35 1316.46 1472.76 Q1316.46 1478.34 1312.99 1481.44 Q1309.52 1484.52 1303.2 1484.52 Q1301.02 1484.52 1298.75 1484.15 Q1296.51 1483.78 1294.1 1483.04 L1294.1 1478.34 Q1296.18 1479.48 1298.41 1480.03 Q1300.63 1480.59 1303.1 1480.59 Q1307.11 1480.59 1309.45 1478.48 Q1311.78 1476.38 1311.78 1472.76 Q1311.78 1469.15 1309.45 1467.05 Q1307.11 1464.94 1303.1 1464.94 Q1301.23 1464.94 1299.35 1465.36 Q1297.5 1465.77 1295.56 1466.65 L1295.56 1449.29 Z\" fill=\"#000000\" fill-rule=\"evenodd\" fill-opacity=\"1\" /><path clip-path=\"url(#clip580)\" d=\"M 0 0 M1331.53 1452.37 Q1327.92 1452.37 1326.09 1455.94 Q1324.28 1459.48 1324.28 1466.61 Q1324.28 1473.71 1326.09 1477.28 Q1327.92 1480.82 1331.53 1480.82 Q1335.16 1480.82 1336.97 1477.28 Q1338.8 1473.71 1338.8 1466.61 Q1338.8 1459.48 1336.97 1455.94 Q1335.16 1452.37 1331.53 1452.37 M1331.53 1448.67 Q1337.34 1448.67 1340.4 1453.27 Q1343.47 1457.86 1343.47 1466.61 Q1343.47 1475.33 1340.4 1479.94 Q1337.34 1484.52 1331.53 1484.52 Q1325.72 1484.52 1322.64 1479.94 Q1319.59 1475.33 1319.59 1466.61 Q1319.59 1457.86 1322.64 1453.27 Q1325.72 1448.67 1331.53 1448.67 Z\" fill=\"#000000\" fill-rule=\"evenodd\" fill-opacity=\"1\" /><path clip-path=\"url(#clip580)\" d=\"M 0 0 M1358.54 1452.37 Q1354.93 1452.37 1353.1 1455.94 Q1351.3 1459.48 1351.3 1466.61 Q1351.3 1473.71 1353.1 1477.28 Q1354.93 1480.82 1358.54 1480.82 Q1362.18 1480.82 1363.98 1477.28 Q1365.81 1473.71 1365.81 1466.61 Q1365.81 1459.48 1363.98 1455.94 Q1362.18 1452.37 1358.54 1452.37 M1358.54 1448.67 Q1364.35 1448.67 1367.41 1453.27 Q1370.49 1457.86 1370.49 1466.61 Q1370.49 1475.33 1367.41 1479.94 Q1364.35 1484.52 1358.54 1484.52 Q1352.73 1484.52 1349.66 1479.94 Q1346.6 1475.33 1346.6 1466.61 Q1346.6 1457.86 1349.66 1453.27 Q1352.73 1448.67 1358.54 1448.67 Z\" fill=\"#000000\" fill-rule=\"evenodd\" fill-opacity=\"1\" /><path clip-path=\"url(#clip580)\" d=\"M 0 0 M1775.11 1449.29 L1797.33 1449.29 L1797.33 1451.28 L1784.79 1483.85 L1779.9 1483.85 L1791.71 1453.23 L1775.11 1453.23 L1775.11 1449.29 Z\" fill=\"#000000\" fill-rule=\"evenodd\" fill-opacity=\"1\" /><path clip-path=\"url(#clip580)\" d=\"M 0 0 M1802.45 1449.29 L1820.8 1449.29 L1820.8 1453.23 L1806.73 1453.23 L1806.73 1461.7 Q1807.75 1461.35 1808.77 1461.19 Q1809.79 1461 1810.8 1461 Q1816.59 1461 1819.97 1464.18 Q1823.35 1467.35 1823.35 1472.76 Q1823.35 1478.34 1819.88 1481.44 Q1816.41 1484.52 1810.09 1484.52 Q1807.91 1484.52 1805.64 1484.15 Q1803.4 1483.78 1800.99 1483.04 L1800.99 1478.34 Q1803.07 1479.48 1805.3 1480.03 Q1807.52 1480.59 1809.99 1480.59 Q1814 1480.59 1816.34 1478.48 Q1818.68 1476.38 1818.68 1472.76 Q1818.68 1469.15 1816.34 1467.05 Q1814 1464.94 1809.99 1464.94 Q1808.12 1464.94 1806.24 1465.36 Q1804.39 1465.77 1802.45 1466.65 L1802.45 1449.29 Z\" fill=\"#000000\" fill-rule=\"evenodd\" fill-opacity=\"1\" /><path clip-path=\"url(#clip580)\" d=\"M 0 0 M1838.42 1452.37 Q1834.81 1452.37 1832.98 1455.94 Q1831.17 1459.48 1831.17 1466.61 Q1831.17 1473.71 1832.98 1477.28 Q1834.81 1480.82 1838.42 1480.82 Q1842.05 1480.82 1843.86 1477.28 Q1845.69 1473.71 1845.69 1466.61 Q1845.69 1459.48 1843.86 1455.94 Q1842.05 1452.37 1838.42 1452.37 M1838.42 1448.67 Q1844.23 1448.67 1847.29 1453.27 Q1850.36 1457.86 1850.36 1466.61 Q1850.36 1475.33 1847.29 1479.94 Q1844.23 1484.52 1838.42 1484.52 Q1832.61 1484.52 1829.53 1479.94 Q1826.48 1475.33 1826.48 1466.61 Q1826.48 1457.86 1829.53 1453.27 Q1832.61 1448.67 1838.42 1448.67 Z\" fill=\"#000000\" fill-rule=\"evenodd\" fill-opacity=\"1\" /><path clip-path=\"url(#clip580)\" d=\"M 0 0 M2243.04 1479.92 L2250.68 1479.92 L2250.68 1453.55 L2242.37 1455.22 L2242.37 1450.96 L2250.63 1449.29 L2255.31 1449.29 L2255.31 1479.92 L2262.95 1479.92 L2262.95 1483.85 L2243.04 1483.85 L2243.04 1479.92 Z\" fill=\"#000000\" fill-rule=\"evenodd\" fill-opacity=\"1\" /><path clip-path=\"url(#clip580)\" d=\"M 0 0 M2278.02 1452.37 Q2274.41 1452.37 2272.58 1455.94 Q2270.77 1459.48 2270.77 1466.61 Q2270.77 1473.71 2272.58 1477.28 Q2274.41 1480.82 2278.02 1480.82 Q2281.65 1480.82 2283.46 1477.28 Q2285.29 1473.71 2285.29 1466.61 Q2285.29 1459.48 2283.46 1455.94 Q2281.65 1452.37 2278.02 1452.37 M2278.02 1448.67 Q2283.83 1448.67 2286.88 1453.27 Q2289.96 1457.86 2289.96 1466.61 Q2289.96 1475.33 2286.88 1479.94 Q2283.83 1484.52 2278.02 1484.52 Q2272.21 1484.52 2269.13 1479.94 Q2266.07 1475.33 2266.07 1466.61 Q2266.07 1457.86 2269.13 1453.27 Q2272.21 1448.67 2278.02 1448.67 Z\" fill=\"#000000\" fill-rule=\"evenodd\" fill-opacity=\"1\" /><path clip-path=\"url(#clip580)\" d=\"M 0 0 M2305.03 1452.37 Q2301.42 1452.37 2299.59 1455.94 Q2297.79 1459.48 2297.79 1466.61 Q2297.79 1473.71 2299.59 1477.28 Q2301.42 1480.82 2305.03 1480.82 Q2308.67 1480.82 2310.47 1477.28 Q2312.3 1473.71 2312.3 1466.61 Q2312.3 1459.48 2310.47 1455.94 Q2308.67 1452.37 2305.03 1452.37 M2305.03 1448.67 Q2310.84 1448.67 2313.9 1453.27 Q2316.98 1457.86 2316.98 1466.61 Q2316.98 1475.33 2313.9 1479.94 Q2310.84 1484.52 2305.03 1484.52 Q2299.22 1484.52 2296.14 1479.94 Q2293.09 1475.33 2293.09 1466.61 Q2293.09 1457.86 2296.14 1453.27 Q2299.22 1448.67 2305.03 1448.67 Z\" fill=\"#000000\" fill-rule=\"evenodd\" fill-opacity=\"1\" /><path clip-path=\"url(#clip580)\" d=\"M 0 0 M2332.05 1452.37 Q2328.44 1452.37 2326.61 1455.94 Q2324.8 1459.48 2324.8 1466.61 Q2324.8 1473.71 2326.61 1477.28 Q2328.44 1480.82 2332.05 1480.82 Q2335.68 1480.82 2337.49 1477.28 Q2339.31 1473.71 2339.31 1466.61 Q2339.31 1459.48 2337.49 1455.94 Q2335.68 1452.37 2332.05 1452.37 M2332.05 1448.67 Q2337.86 1448.67 2340.91 1453.27 Q2343.99 1457.86 2343.99 1466.61 Q2343.99 1475.33 2340.91 1479.94 Q2337.86 1484.52 2332.05 1484.52 Q2326.24 1484.52 2323.16 1479.94 Q2320.1 1475.33 2320.1 1466.61 Q2320.1 1457.86 2323.16 1453.27 Q2326.24 1448.67 2332.05 1448.67 Z\" fill=\"#000000\" fill-rule=\"evenodd\" fill-opacity=\"1\" /><path clip-path=\"url(#clip580)\" d=\"M 0 0 M1201.12 1520.4 L1206.98 1520.4 L1206.98 1556.04 L1201.12 1556.04 L1201.12 1520.4 M1201.12 1506.52 L1206.98 1506.52 L1206.98 1513.93 L1201.12 1513.93 L1201.12 1506.52 Z\" fill=\"#000000\" fill-rule=\"evenodd\" fill-opacity=\"1\" /><path clip-path=\"url(#clip580)\" d=\"M 0 0 M1218.92 1510.27 L1218.92 1520.4 L1230.98 1520.4 L1230.98 1524.95 L1218.92 1524.95 L1218.92 1544.3 Q1218.92 1548.66 1220.09 1549.9 Q1221.3 1551.14 1224.96 1551.14 L1230.98 1551.14 L1230.98 1556.04 L1224.96 1556.04 Q1218.19 1556.04 1215.61 1553.53 Q1213.03 1550.98 1213.03 1544.3 L1213.03 1524.95 L1208.73 1524.95 L1208.73 1520.4 L1213.03 1520.4 L1213.03 1510.27 L1218.92 1510.27 Z\" fill=\"#000000\" fill-rule=\"evenodd\" fill-opacity=\"1\" /><path clip-path=\"url(#clip580)\" d=\"M 0 0 M1267.61 1536.76 L1267.61 1539.62 L1240.69 1539.62 Q1241.07 1545.67 1244.32 1548.85 Q1247.59 1552 1253.42 1552 Q1256.79 1552 1259.94 1551.17 Q1263.13 1550.35 1266.25 1548.69 L1266.25 1554.23 Q1263.1 1555.57 1259.78 1556.27 Q1256.47 1556.97 1253.07 1556.97 Q1244.54 1556.97 1239.54 1552 Q1234.58 1547.04 1234.58 1538.57 Q1234.58 1529.82 1239.29 1524.69 Q1244.03 1519.54 1252.05 1519.54 Q1259.24 1519.54 1263.41 1524.18 Q1267.61 1528.8 1267.61 1536.76 M1261.76 1535.04 Q1261.69 1530.23 1259.05 1527.37 Q1256.44 1524.5 1252.11 1524.5 Q1247.21 1524.5 1244.25 1527.27 Q1241.32 1530.04 1240.88 1535.07 L1261.76 1535.04 Z\" fill=\"#000000\" fill-rule=\"evenodd\" fill-opacity=\"1\" /><path clip-path=\"url(#clip580)\" d=\"M 0 0 M1294.41 1525.87 Q1293.43 1525.3 1292.25 1525.04 Q1291.1 1524.76 1289.7 1524.76 Q1284.74 1524.76 1282.06 1528 Q1279.42 1531.22 1279.42 1537.27 L1279.42 1556.04 L1273.53 1556.04 L1273.53 1520.4 L1279.42 1520.4 L1279.42 1525.93 Q1281.27 1522.69 1284.23 1521.13 Q1287.19 1519.54 1291.42 1519.54 Q1292.03 1519.54 1292.76 1519.63 Q1293.49 1519.7 1294.38 1519.85 L1294.41 1525.87 Z\" fill=\"#000000\" fill-rule=\"evenodd\" fill-opacity=\"1\" /><path clip-path=\"url(#clip580)\" d=\"M 0 0 M1316.76 1538.12 Q1309.66 1538.12 1306.92 1539.75 Q1304.19 1541.37 1304.19 1545.29 Q1304.19 1548.4 1306.22 1550.25 Q1308.29 1552.07 1311.82 1552.07 Q1316.69 1552.07 1319.62 1548.63 Q1322.58 1545.16 1322.58 1539.43 L1322.58 1538.12 L1316.76 1538.12 M1328.44 1535.71 L1328.44 1556.04 L1322.58 1556.04 L1322.58 1550.63 Q1320.58 1553.88 1317.59 1555.44 Q1314.59 1556.97 1310.26 1556.97 Q1304.79 1556.97 1301.54 1553.91 Q1298.33 1550.82 1298.33 1545.67 Q1298.33 1539.65 1302.34 1536.6 Q1306.38 1533.54 1314.37 1533.54 L1322.58 1533.54 L1322.58 1532.97 Q1322.58 1528.93 1319.91 1526.73 Q1317.27 1524.5 1312.46 1524.5 Q1309.41 1524.5 1306.51 1525.23 Q1303.61 1525.97 1300.94 1527.43 L1300.94 1522.02 Q1304.15 1520.78 1307.18 1520.17 Q1310.2 1519.54 1313.07 1519.54 Q1320.8 1519.54 1324.62 1523.55 Q1328.44 1527.56 1328.44 1535.71 Z\" fill=\"#000000\" fill-rule=\"evenodd\" fill-opacity=\"1\" /><path clip-path=\"url(#clip580)\" d=\"M 0 0 M1340.37 1510.27 L1340.37 1520.4 L1352.44 1520.4 L1352.44 1524.95 L1340.37 1524.95 L1340.37 1544.3 Q1340.37 1548.66 1341.55 1549.9 Q1342.76 1551.14 1346.42 1551.14 L1352.44 1551.14 L1352.44 1556.04 L1346.42 1556.04 Q1339.64 1556.04 1337.06 1553.53 Q1334.49 1550.98 1334.49 1544.3 L1334.49 1524.95 L1330.19 1524.95 L1330.19 1520.4 L1334.49 1520.4 L1334.49 1510.27 L1340.37 1510.27 Z\" fill=\"#000000\" fill-rule=\"evenodd\" fill-opacity=\"1\" /><path clip-path=\"url(#clip580)\" d=\"M 0 0 M1358.58 1520.4 L1364.44 1520.4 L1364.44 1556.04 L1358.58 1556.04 L1358.58 1520.4 M1358.58 1506.52 L1364.44 1506.52 L1364.44 1513.93 L1358.58 1513.93 L1358.58 1506.52 Z\" fill=\"#000000\" fill-rule=\"evenodd\" fill-opacity=\"1\" /><path clip-path=\"url(#clip580)\" d=\"M 0 0 M1384.39 1524.5 Q1379.68 1524.5 1376.95 1528.19 Q1374.21 1531.85 1374.21 1538.25 Q1374.21 1544.65 1376.91 1548.34 Q1379.65 1552 1384.39 1552 Q1389.07 1552 1391.81 1548.31 Q1394.55 1544.62 1394.55 1538.25 Q1394.55 1531.92 1391.81 1528.23 Q1389.07 1524.5 1384.39 1524.5 M1384.39 1519.54 Q1392.03 1519.54 1396.39 1524.5 Q1400.75 1529.47 1400.75 1538.25 Q1400.75 1547 1396.39 1552 Q1392.03 1556.97 1384.39 1556.97 Q1376.72 1556.97 1372.36 1552 Q1368.03 1547 1368.03 1538.25 Q1368.03 1529.47 1372.36 1524.5 Q1376.72 1519.54 1384.39 1519.54 Z\" fill=\"#000000\" fill-rule=\"evenodd\" fill-opacity=\"1\" /><path clip-path=\"url(#clip580)\" d=\"M 0 0 M1436.53 1534.53 L1436.53 1556.04 L1430.67 1556.04 L1430.67 1534.72 Q1430.67 1529.66 1428.7 1527.14 Q1426.73 1524.63 1422.78 1524.63 Q1418.04 1524.63 1415.3 1527.65 Q1412.56 1530.68 1412.56 1535.9 L1412.56 1556.04 L1406.67 1556.04 L1406.67 1520.4 L1412.56 1520.4 L1412.56 1525.93 Q1414.66 1522.72 1417.5 1521.13 Q1420.36 1519.54 1424.08 1519.54 Q1430.23 1519.54 1433.38 1523.36 Q1436.53 1527.14 1436.53 1534.53 Z\" fill=\"#000000\" fill-rule=\"evenodd\" fill-opacity=\"1\" /><path clip-path=\"url(#clip580)\" d=\"M 0 0 M1465.4 1521.45 L1465.4 1526.98 Q1462.91 1525.71 1460.24 1525.07 Q1457.57 1524.44 1454.7 1524.44 Q1450.34 1524.44 1448.15 1525.77 Q1445.98 1527.11 1445.98 1529.79 Q1445.98 1531.82 1447.54 1533 Q1449.1 1534.15 1453.81 1535.2 L1455.82 1535.64 Q1462.06 1536.98 1464.67 1539.43 Q1467.31 1541.85 1467.31 1546.21 Q1467.31 1551.17 1463.36 1554.07 Q1459.45 1556.97 1452.57 1556.97 Q1449.71 1556.97 1446.59 1556.39 Q1443.5 1555.85 1440.06 1554.74 L1440.06 1548.69 Q1443.31 1550.38 1446.46 1551.24 Q1449.61 1552.07 1452.7 1552.07 Q1456.84 1552.07 1459.06 1550.66 Q1461.29 1549.23 1461.29 1546.65 Q1461.29 1544.27 1459.67 1542.99 Q1458.08 1541.72 1452.63 1540.54 L1450.6 1540.07 Q1445.15 1538.92 1442.74 1536.56 Q1440.32 1534.18 1440.32 1530.04 Q1440.32 1525.01 1443.88 1522.27 Q1447.45 1519.54 1454 1519.54 Q1457.25 1519.54 1460.11 1520.01 Q1462.98 1520.49 1465.4 1521.45 Z\" fill=\"#000000\" fill-rule=\"evenodd\" fill-opacity=\"1\" /><polyline clip-path=\"url(#clip582)\" style=\"stroke:#000000; stroke-width:2; stroke-opacity:0.1; fill:none\" points=\"\n",
       "  315.676,1116.98 2352.76,1116.98 \n",
       "  \"/>\n",
       "<polyline clip-path=\"url(#clip582)\" style=\"stroke:#000000; stroke-width:2; stroke-opacity:0.1; fill:none\" points=\"\n",
       "  315.676,774.493 2352.76,774.493 \n",
       "  \"/>\n",
       "<polyline clip-path=\"url(#clip582)\" style=\"stroke:#000000; stroke-width:2; stroke-opacity:0.1; fill:none\" points=\"\n",
       "  315.676,432.008 2352.76,432.008 \n",
       "  \"/>\n",
       "<polyline clip-path=\"url(#clip582)\" style=\"stroke:#000000; stroke-width:2; stroke-opacity:0.1; fill:none\" points=\"\n",
       "  315.676,89.5228 2352.76,89.5228 \n",
       "  \"/>\n",
       "<polyline clip-path=\"url(#clip580)\" style=\"stroke:#000000; stroke-width:4; stroke-opacity:1; fill:none\" points=\"\n",
       "  315.676,1423.18 315.676,47.2441 \n",
       "  \"/>\n",
       "<polyline clip-path=\"url(#clip580)\" style=\"stroke:#000000; stroke-width:4; stroke-opacity:1; fill:none\" points=\"\n",
       "  315.676,1116.98 340.121,1116.98 \n",
       "  \"/>\n",
       "<polyline clip-path=\"url(#clip580)\" style=\"stroke:#000000; stroke-width:4; stroke-opacity:1; fill:none\" points=\"\n",
       "  315.676,774.493 340.121,774.493 \n",
       "  \"/>\n",
       "<polyline clip-path=\"url(#clip580)\" style=\"stroke:#000000; stroke-width:4; stroke-opacity:1; fill:none\" points=\"\n",
       "  315.676,432.008 340.121,432.008 \n",
       "  \"/>\n",
       "<polyline clip-path=\"url(#clip580)\" style=\"stroke:#000000; stroke-width:4; stroke-opacity:1; fill:none\" points=\"\n",
       "  315.676,89.5228 340.121,89.5228 \n",
       "  \"/>\n",
       "<path clip-path=\"url(#clip580)\" d=\"M 0 0 M116.297 1136.77 L123.936 1136.77 L123.936 1110.4 L115.626 1112.07 L115.626 1107.81 L123.89 1106.15 L128.566 1106.15 L128.566 1136.77 L136.204 1136.77 L136.204 1140.71 L116.297 1140.71 L116.297 1136.77 Z\" fill=\"#000000\" fill-rule=\"evenodd\" fill-opacity=\"1\" /><path clip-path=\"url(#clip580)\" d=\"M 0 0 M141.274 1134.83 L146.158 1134.83 L146.158 1140.71 L141.274 1140.71 L141.274 1134.83 Z\" fill=\"#000000\" fill-rule=\"evenodd\" fill-opacity=\"1\" /><path clip-path=\"url(#clip580)\" d=\"M 0 0 M161.227 1109.22 Q157.616 1109.22 155.788 1112.79 Q153.982 1116.33 153.982 1123.46 Q153.982 1130.57 155.788 1134.13 Q157.616 1137.67 161.227 1137.67 Q164.862 1137.67 166.667 1134.13 Q168.496 1130.57 168.496 1123.46 Q168.496 1116.33 166.667 1112.79 Q164.862 1109.22 161.227 1109.22 M161.227 1105.52 Q167.038 1105.52 170.093 1110.13 Q173.172 1114.71 173.172 1123.46 Q173.172 1132.19 170.093 1136.79 Q167.038 1141.38 161.227 1141.38 Q155.417 1141.38 152.339 1136.79 Q149.283 1132.19 149.283 1123.46 Q149.283 1114.71 152.339 1110.13 Q155.417 1105.52 161.227 1105.52 Z\" fill=\"#000000\" fill-rule=\"evenodd\" fill-opacity=\"1\" /><path clip-path=\"url(#clip580)\" d=\"M 0 0 M206.412 1115.24 L195.834 1125.87 L206.412 1136.45 L203.658 1139.25 L193.033 1128.62 L182.408 1139.25 L179.676 1136.45 L190.232 1125.87 L179.676 1115.24 L182.408 1112.44 L193.033 1123.07 L203.658 1112.44 L206.412 1115.24 Z\" fill=\"#000000\" fill-rule=\"evenodd\" fill-opacity=\"1\" /><path clip-path=\"url(#clip580)\" d=\"M 0 0 M212.292 1136.77 L219.931 1136.77 L219.931 1110.4 L211.621 1112.07 L211.621 1107.81 L219.885 1106.15 L224.56 1106.15 L224.56 1136.77 L232.199 1136.77 L232.199 1140.71 L212.292 1140.71 L212.292 1136.77 Z\" fill=\"#000000\" fill-rule=\"evenodd\" fill-opacity=\"1\" /><path clip-path=\"url(#clip580)\" d=\"M 0 0 M247.269 1109.22 Q243.658 1109.22 241.829 1112.79 Q240.023 1116.33 240.023 1123.46 Q240.023 1130.57 241.829 1134.13 Q243.658 1137.67 247.269 1137.67 Q250.903 1137.67 252.708 1134.13 Q254.537 1130.57 254.537 1123.46 Q254.537 1116.33 252.708 1112.79 Q250.903 1109.22 247.269 1109.22 M247.269 1105.52 Q253.079 1105.52 256.134 1110.13 Q259.213 1114.71 259.213 1123.46 Q259.213 1132.19 256.134 1136.79 Q253.079 1141.38 247.269 1141.38 Q241.459 1141.38 238.38 1136.79 Q235.324 1132.19 235.324 1123.46 Q235.324 1114.71 238.38 1110.13 Q241.459 1105.52 247.269 1105.52 Z\" fill=\"#000000\" fill-rule=\"evenodd\" fill-opacity=\"1\" /><path clip-path=\"url(#clip580)\" d=\"M 0 0 M271.89 1088.53 L262.298 1103.51 L271.89 1103.51 L271.89 1088.53 M270.893 1085.21 L275.67 1085.21 L275.67 1103.51 L279.676 1103.51 L279.676 1106.67 L275.67 1106.67 L275.67 1113.29 L271.89 1113.29 L271.89 1106.67 L259.213 1106.67 L259.213 1103.01 L270.893 1085.21 Z\" fill=\"#000000\" fill-rule=\"evenodd\" fill-opacity=\"1\" /><path clip-path=\"url(#clip580)\" d=\"M 0 0 M117.293 794.285 L124.931 794.285 L124.931 767.92 L116.621 769.586 L116.621 765.327 L124.885 763.66 L129.561 763.66 L129.561 794.285 L137.2 794.285 L137.2 798.22 L117.293 798.22 L117.293 794.285 Z\" fill=\"#000000\" fill-rule=\"evenodd\" fill-opacity=\"1\" /><path clip-path=\"url(#clip580)\" d=\"M 0 0 M142.269 792.341 L147.153 792.341 L147.153 798.22 L142.269 798.22 L142.269 792.341 Z\" fill=\"#000000\" fill-rule=\"evenodd\" fill-opacity=\"1\" /><path clip-path=\"url(#clip580)\" d=\"M 0 0 M152.269 763.66 L170.626 763.66 L170.626 767.595 L156.552 767.595 L156.552 776.068 Q157.57 775.72 158.589 775.558 Q159.607 775.373 160.626 775.373 Q166.413 775.373 169.792 778.544 Q173.172 781.716 173.172 787.132 Q173.172 792.711 169.7 795.813 Q166.227 798.892 159.908 798.892 Q157.732 798.892 155.464 798.521 Q153.218 798.151 150.811 797.41 L150.811 792.711 Q152.894 793.845 155.116 794.401 Q157.339 794.956 159.815 794.956 Q163.82 794.956 166.158 792.85 Q168.496 790.744 168.496 787.132 Q168.496 783.521 166.158 781.415 Q163.82 779.308 159.815 779.308 Q157.94 779.308 156.065 779.725 Q154.214 780.142 152.269 781.021 L152.269 763.66 Z\" fill=\"#000000\" fill-rule=\"evenodd\" fill-opacity=\"1\" /><path clip-path=\"url(#clip580)\" d=\"M 0 0 M206.412 772.757 L195.834 783.382 L206.412 793.961 L203.658 796.762 L193.033 786.137 L182.408 796.762 L179.676 793.961 L190.232 783.382 L179.676 772.757 L182.408 769.957 L193.033 780.582 L203.658 769.957 L206.412 772.757 Z\" fill=\"#000000\" fill-rule=\"evenodd\" fill-opacity=\"1\" /><path clip-path=\"url(#clip580)\" d=\"M 0 0 M212.292 794.285 L219.931 794.285 L219.931 767.92 L211.621 769.586 L211.621 765.327 L219.885 763.66 L224.56 763.66 L224.56 794.285 L232.199 794.285 L232.199 798.22 L212.292 798.22 L212.292 794.285 Z\" fill=\"#000000\" fill-rule=\"evenodd\" fill-opacity=\"1\" /><path clip-path=\"url(#clip580)\" d=\"M 0 0 M247.269 766.739 Q243.658 766.739 241.829 770.304 Q240.023 773.845 240.023 780.975 Q240.023 788.081 241.829 791.646 Q243.658 795.188 247.269 795.188 Q250.903 795.188 252.708 791.646 Q254.537 788.081 254.537 780.975 Q254.537 773.845 252.708 770.304 Q250.903 766.739 247.269 766.739 M247.269 763.035 Q253.079 763.035 256.134 767.642 Q259.213 772.225 259.213 780.975 Q259.213 789.702 256.134 794.308 Q253.079 798.892 247.269 798.892 Q241.459 798.892 238.38 794.308 Q235.324 789.702 235.324 780.975 Q235.324 772.225 238.38 767.642 Q241.459 763.035 247.269 763.035 Z\" fill=\"#000000\" fill-rule=\"evenodd\" fill-opacity=\"1\" /><path clip-path=\"url(#clip580)\" d=\"M 0 0 M271.89 746.04 L262.298 761.03 L271.89 761.03 L271.89 746.04 M270.893 742.73 L275.67 742.73 L275.67 761.03 L279.676 761.03 L279.676 764.19 L275.67 764.19 L275.67 770.81 L271.89 770.81 L271.89 764.19 L259.213 764.19 L259.213 760.522 L270.893 742.73 Z\" fill=\"#000000\" fill-rule=\"evenodd\" fill-opacity=\"1\" /><path clip-path=\"url(#clip580)\" d=\"M 0 0 M119.885 451.8 L136.204 451.8 L136.204 455.735 L114.26 455.735 L114.26 451.8 Q116.922 449.046 121.505 444.416 Q126.112 439.763 127.292 438.421 Q129.538 435.898 130.417 434.161 Q131.32 432.402 131.32 430.712 Q131.32 427.958 129.376 426.222 Q127.455 424.486 124.353 424.486 Q122.154 424.486 119.7 425.249 Q117.269 426.013 114.492 427.564 L114.492 422.842 Q117.316 421.708 119.769 421.129 Q122.223 420.55 124.26 420.55 Q129.63 420.55 132.825 423.236 Q136.019 425.921 136.019 430.411 Q136.019 432.541 135.209 434.462 Q134.422 436.36 132.316 438.953 Q131.737 439.624 128.635 442.842 Q125.533 446.036 119.885 451.8 Z\" fill=\"#000000\" fill-rule=\"evenodd\" fill-opacity=\"1\" /><path clip-path=\"url(#clip580)\" d=\"M 0 0 M141.274 449.856 L146.158 449.856 L146.158 455.735 L141.274 455.735 L141.274 449.856 Z\" fill=\"#000000\" fill-rule=\"evenodd\" fill-opacity=\"1\" /><path clip-path=\"url(#clip580)\" d=\"M 0 0 M161.227 424.254 Q157.616 424.254 155.788 427.819 Q153.982 431.361 153.982 438.49 Q153.982 445.597 155.788 449.161 Q157.616 452.703 161.227 452.703 Q164.862 452.703 166.667 449.161 Q168.496 445.597 168.496 438.49 Q168.496 431.361 166.667 427.819 Q164.862 424.254 161.227 424.254 M161.227 420.55 Q167.038 420.55 170.093 425.157 Q173.172 429.74 173.172 438.49 Q173.172 447.217 170.093 451.823 Q167.038 456.407 161.227 456.407 Q155.417 456.407 152.339 451.823 Q149.283 447.217 149.283 438.49 Q149.283 429.74 152.339 425.157 Q155.417 420.55 161.227 420.55 Z\" fill=\"#000000\" fill-rule=\"evenodd\" fill-opacity=\"1\" /><path clip-path=\"url(#clip580)\" d=\"M 0 0 M206.412 430.273 L195.834 440.898 L206.412 451.476 L203.658 454.277 L193.033 443.652 L182.408 454.277 L179.676 451.476 L190.232 440.898 L179.676 430.273 L182.408 427.472 L193.033 438.097 L203.658 427.472 L206.412 430.273 Z\" fill=\"#000000\" fill-rule=\"evenodd\" fill-opacity=\"1\" /><path clip-path=\"url(#clip580)\" d=\"M 0 0 M212.292 451.8 L219.931 451.8 L219.931 425.435 L211.621 427.101 L211.621 422.842 L219.885 421.175 L224.56 421.175 L224.56 451.8 L232.199 451.8 L232.199 455.735 L212.292 455.735 L212.292 451.8 Z\" fill=\"#000000\" fill-rule=\"evenodd\" fill-opacity=\"1\" /><path clip-path=\"url(#clip580)\" d=\"M 0 0 M247.269 424.254 Q243.658 424.254 241.829 427.819 Q240.023 431.361 240.023 438.49 Q240.023 445.597 241.829 449.161 Q243.658 452.703 247.269 452.703 Q250.903 452.703 252.708 449.161 Q254.537 445.597 254.537 438.49 Q254.537 431.361 252.708 427.819 Q250.903 424.254 247.269 424.254 M247.269 420.55 Q253.079 420.55 256.134 425.157 Q259.213 429.74 259.213 438.49 Q259.213 447.217 256.134 451.823 Q253.079 456.407 247.269 456.407 Q241.459 456.407 238.38 451.823 Q235.324 447.217 235.324 438.49 Q235.324 429.74 238.38 425.157 Q241.459 420.55 247.269 420.55 Z\" fill=\"#000000\" fill-rule=\"evenodd\" fill-opacity=\"1\" /><path clip-path=\"url(#clip580)\" d=\"M 0 0 M271.89 403.555 L262.298 418.545 L271.89 418.545 L271.89 403.555 M270.893 400.245 L275.67 400.245 L275.67 418.545 L279.676 418.545 L279.676 421.705 L275.67 421.705 L275.67 428.325 L271.89 428.325 L271.89 421.705 L259.213 421.705 L259.213 418.037 L270.893 400.245 Z\" fill=\"#000000\" fill-rule=\"evenodd\" fill-opacity=\"1\" /><path clip-path=\"url(#clip580)\" d=\"M 0 0 M120.88 109.315 L137.2 109.315 L137.2 113.25 L115.256 113.25 L115.256 109.315 Q117.918 106.561 122.501 101.931 Q127.107 97.2783 128.288 95.9357 Q130.533 93.4126 131.413 91.6765 Q132.316 89.9172 132.316 88.2274 Q132.316 85.4728 130.371 83.7367 Q128.45 82.0006 125.348 82.0006 Q123.149 82.0006 120.695 82.7645 Q118.265 83.5284 115.487 85.0793 L115.487 80.3571 Q118.311 79.2229 120.765 78.6442 Q123.218 78.0655 125.255 78.0655 Q130.626 78.0655 133.82 80.7506 Q137.015 83.4358 137.015 87.9265 Q137.015 90.0561 136.204 91.9774 Q135.417 93.8756 133.311 96.4681 Q132.732 97.1394 129.63 100.357 Q126.529 103.551 120.88 109.315 Z\" fill=\"#000000\" fill-rule=\"evenodd\" fill-opacity=\"1\" /><path clip-path=\"url(#clip580)\" d=\"M 0 0 M142.269 107.371 L147.153 107.371 L147.153 113.25 L142.269 113.25 L142.269 107.371 Z\" fill=\"#000000\" fill-rule=\"evenodd\" fill-opacity=\"1\" /><path clip-path=\"url(#clip580)\" d=\"M 0 0 M152.269 78.6904 L170.626 78.6904 L170.626 82.6256 L156.552 82.6256 L156.552 91.0978 Q157.57 90.7506 158.589 90.5885 Q159.607 90.4033 160.626 90.4033 Q166.413 90.4033 169.792 93.5746 Q173.172 96.7459 173.172 102.163 Q173.172 107.741 169.7 110.843 Q166.227 113.922 159.908 113.922 Q157.732 113.922 155.464 113.551 Q153.218 113.181 150.811 112.44 L150.811 107.741 Q152.894 108.875 155.116 109.431 Q157.339 109.987 159.815 109.987 Q163.82 109.987 166.158 107.88 Q168.496 105.774 168.496 102.163 Q168.496 98.5515 166.158 96.445 Q163.82 94.3385 159.815 94.3385 Q157.94 94.3385 156.065 94.7552 Q154.214 95.1718 152.269 96.0515 L152.269 78.6904 Z\" fill=\"#000000\" fill-rule=\"evenodd\" fill-opacity=\"1\" /><path clip-path=\"url(#clip580)\" d=\"M 0 0 M206.412 87.7876 L195.834 98.4126 L206.412 108.991 L203.658 111.792 L193.033 101.167 L182.408 111.792 L179.676 108.991 L190.232 98.4126 L179.676 87.7876 L182.408 84.9867 L193.033 95.6117 L203.658 84.9867 L206.412 87.7876 Z\" fill=\"#000000\" fill-rule=\"evenodd\" fill-opacity=\"1\" /><path clip-path=\"url(#clip580)\" d=\"M 0 0 M212.292 109.315 L219.931 109.315 L219.931 82.9497 L211.621 84.6163 L211.621 80.3571 L219.885 78.6904 L224.56 78.6904 L224.56 109.315 L232.199 109.315 L232.199 113.25 L212.292 113.25 L212.292 109.315 Z\" fill=\"#000000\" fill-rule=\"evenodd\" fill-opacity=\"1\" /><path clip-path=\"url(#clip580)\" d=\"M 0 0 M247.269 81.7691 Q243.658 81.7691 241.829 85.3339 Q240.023 88.8756 240.023 96.0052 Q240.023 103.112 241.829 106.676 Q243.658 110.218 247.269 110.218 Q250.903 110.218 252.708 106.676 Q254.537 103.112 254.537 96.0052 Q254.537 88.8756 252.708 85.3339 Q250.903 81.7691 247.269 81.7691 M247.269 78.0655 Q253.079 78.0655 256.134 82.6719 Q259.213 87.2552 259.213 96.0052 Q259.213 104.732 256.134 109.338 Q253.079 113.922 247.269 113.922 Q241.459 113.922 238.38 109.338 Q235.324 104.732 235.324 96.0052 Q235.324 87.2552 238.38 82.6719 Q241.459 78.0655 247.269 78.0655 Z\" fill=\"#000000\" fill-rule=\"evenodd\" fill-opacity=\"1\" /><path clip-path=\"url(#clip580)\" d=\"M 0 0 M271.89 61.0702 L262.298 76.06 L271.89 76.06 L271.89 61.0702 M270.893 57.76 L275.67 57.76 L275.67 76.06 L279.676 76.06 L279.676 79.2197 L275.67 79.2197 L275.67 85.84 L271.89 85.84 L271.89 79.2197 L259.213 79.2197 L259.213 75.5522 L270.893 57.76 Z\" fill=\"#000000\" fill-rule=\"evenodd\" fill-opacity=\"1\" /><path clip-path=\"url(#clip580)\" d=\"M 0 0 M38.479 759.593 L43.3487 759.593 L43.3487 765.194 Q43.3487 768.345 44.6219 769.587 Q45.895 770.796 49.2052 770.796 L52.3562 770.796 L52.3562 761.152 L56.9077 761.152 L56.9077 770.796 L88.0042 770.796 L88.0042 776.685 L56.9077 776.685 L56.9077 782.286 L52.3562 782.286 L52.3562 776.685 L49.8736 776.685 Q43.9216 776.685 41.2162 773.915 Q38.479 771.146 38.479 765.131 L38.479 759.593 Z\" fill=\"#000000\" fill-rule=\"evenodd\" fill-opacity=\"1\" /><path clip-path=\"url(#clip580)\" d=\"M 0 0 M38.5426 739.382 Q45.8632 743.647 53.0246 745.715 Q60.186 747.784 67.5384 747.784 Q74.8908 747.784 82.1159 745.715 Q89.3091 743.615 96.5979 739.382 L96.5979 744.474 Q89.1182 749.248 81.8931 751.635 Q74.668 753.991 67.5384 753.991 Q60.4406 753.991 53.2474 751.635 Q46.0542 749.28 38.5426 744.474 L38.5426 739.382 Z\" fill=\"#000000\" fill-rule=\"evenodd\" fill-opacity=\"1\" /><path clip-path=\"url(#clip580)\" d=\"M 0 0 M52.3562 735.785 L52.3562 707.967 L57.7034 707.967 L83.3254 729.992 L83.3254 707.967 L88.0042 707.967 L88.0042 736.581 L82.657 736.581 L57.035 714.555 L57.035 735.785 L52.3562 735.785 Z\" fill=\"#000000\" fill-rule=\"evenodd\" fill-opacity=\"1\" /><path clip-path=\"url(#clip580)\" d=\"M 0 0 M38.5426 702.747 L38.5426 697.654 Q46.0542 692.88 53.2474 690.525 Q60.4406 688.138 67.5384 688.138 Q74.668 688.138 81.8931 690.525 Q89.1182 692.88 96.5979 697.654 L96.5979 702.747 Q89.3091 698.514 82.1159 696.445 Q74.8908 694.344 67.5384 694.344 Q60.186 694.344 53.0246 696.445 Q45.8632 698.514 38.5426 702.747 Z\" fill=\"#000000\" fill-rule=\"evenodd\" fill-opacity=\"1\" /><polyline clip-path=\"url(#clip582)\" style=\"stroke:#009af9; stroke-width:4; stroke-opacity:1; fill:none\" points=\"\n",
       "  373.329,86.1857 375.251,288.374 377.173,438.856 379.094,551.85 381.016,639.75 382.938,709.326 384.86,765.917 386.782,812.96 388.703,851.526 390.625,885.914 \n",
       "  392.547,914.591 394.469,940.568 396.39,963.651 398.312,984.76 400.234,1003.48 402.156,1020.59 404.078,1036.76 405.999,1051.38 407.921,1066.1 409.843,1078.8 \n",
       "  411.765,1089.63 413.686,1102.46 415.608,1112.76 417.53,1122.83 419.452,1133.25 421.373,1142 423.295,1151.55 425.217,1158.98 427.139,1167.83 429.061,1175.01 \n",
       "  430.982,1182.72 432.904,1189.89 434.826,1196.59 436.748,1202.68 438.669,1208.64 440.591,1215.5 442.513,1220.34 444.435,1226.13 446.357,1232.47 448.278,1236.85 \n",
       "  450.2,1242.44 452.122,1246.14 454.044,1251.73 455.965,1255.69 457.887,1260.29 459.809,1265.04 461.731,1268.49 463.653,1272.67 465.574,1276.28 467.496,1280.76 \n",
       "  469.418,1284.1 471.34,1286.9 473.261,1290.17 475.183,1294.44 477.105,1296.85 479.027,1300.61 480.948,1302.17 482.87,1305.6 484.792,1308.7 486.714,1311.71 \n",
       "  488.636,1313.87 490.557,1316.47 492.479,1318.39 494.401,1321.01 496.323,1323.25 498.244,1324.69 500.166,1328.1 502.088,1328.99 504.01,1331.57 505.932,1332.99 \n",
       "  507.853,1335.45 509.775,1336.26 511.697,1339.09 513.619,1340.22 515.54,1341.55 517.462,1343.26 519.384,1344.93 521.306,1345.27 523.227,1348.36 525.149,1348.6 \n",
       "  527.071,1350.13 528.993,1352.05 530.915,1352.49 532.836,1354.17 534.758,1354.67 536.68,1356.67 538.602,1357.08 540.523,1357.98 542.445,1358.88 544.367,1359.81 \n",
       "  546.289,1361.44 548.211,1361.8 550.132,1362.41 552.054,1363.59 553.976,1364.34 555.898,1364.7 557.819,1365.76 559.741,1365.62 561.663,1368.33 563.585,1366.76 \n",
       "  565.506,1368.1 567.428,1369.32 569.35,1369.28 571.272,1370.24 573.194,1370.42 575.115,1370.72 577.037,1371.86 578.959,1372.04 580.881,1371.56 582.802,1373.36 \n",
       "  584.724,1373 586.646,1373.93 588.568,1374.16 590.49,1374.29 592.411,1375.27 594.333,1374.49 596.255,1375.31 598.177,1376.25 600.098,1376.04 602.02,1376.38 \n",
       "  603.942,1376.83 605.864,1377.11 607.786,1377.01 609.707,1377.01 611.629,1378.09 613.551,1378.46 615.473,1378.14 617.394,1377.49 619.316,1379.05 621.238,1379.44 \n",
       "  623.16,1378.14 625.081,1378.82 627.003,1379.77 628.925,1379.21 630.847,1378.97 632.769,1379.95 634.69,1380.12 636.612,1380.05 638.534,1379.2 640.456,1381.24 \n",
       "  642.377,1379.6 644.299,1381.19 646.221,1379.85 648.143,1380.63 650.065,1380.62 651.986,1381.01 653.908,1380.96 655.83,1380.89 657.752,1381.04 659.673,1380.99 \n",
       "  661.595,1381.3 663.517,1381.38 665.439,1381.59 667.36,1380.38 669.282,1381.99 671.204,1381.19 673.126,1381.81 675.048,1380.67 676.969,1382.33 678.891,1381.29 \n",
       "  680.813,1381.34 682.735,1381.83 684.656,1382.32 686.578,1381.92 688.5,1381.44 690.422,1382.86 692.344,1381.37 694.265,1381.75 696.187,1383.06 698.109,1381.07 \n",
       "  700.031,1382.45 701.952,1381.57 703.874,1382.09 705.796,1382.32 707.718,1381.8 709.64,1382.28 711.561,1383.07 713.483,1381.34 715.405,1382.25 717.327,1382.5 \n",
       "  719.248,1382.22 721.17,1382.36 723.092,1382.25 725.014,1382.49 726.935,1382.08 728.857,1382.21 730.779,1382.25 732.701,1382.27 734.623,1382.87 736.544,1382.24 \n",
       "  738.466,1382.87 740.388,1381.62 742.31,1382.86 744.231,1381.64 746.153,1382.95 748.075,1382.53 749.997,1382.18 751.919,1382.15 753.84,1383.11 755.762,1382.32 \n",
       "  757.684,1381.79 759.606,1383.05 761.527,1382.49 763.449,1382.23 765.371,1382.69 767.293,1382.84 769.214,1381.64 771.136,1382.79 773.058,1382.61 774.98,1382.15 \n",
       "  776.902,1383.37 778.823,1381.94 780.745,1382.7 782.667,1382.84 784.589,1382.26 786.51,1382.9 788.432,1382.14 790.354,1382.61 792.276,1382.5 794.198,1382.38 \n",
       "  796.119,1383 798.041,1382.27 799.963,1382.92 801.885,1382.25 803.806,1382.91 805.728,1382.79 807.65,1382.47 809.572,1382.71 811.494,1382.08 813.415,1382.96 \n",
       "  815.337,1382.34 817.259,1383 819.181,1382.05 821.102,1382.88 823.024,1382.78 824.946,1382.43 826.868,1382.53 828.789,1382.27 830.711,1383.12 832.633,1382.97 \n",
       "  834.555,1381.73 836.477,1383.34 838.398,1382.81 840.32,1381.96 842.242,1382.2 844.164,1383.23 846.085,1381.59 848.007,1383.71 849.929,1381.94 851.851,1382.86 \n",
       "  853.773,1382.32 855.694,1382.96 857.616,1382.55 859.538,1382.93 861.46,1382.05 863.381,1383.53 865.303,1381.76 867.225,1383.06 869.147,1381.93 871.068,1382.79 \n",
       "  872.99,1382.71 874.912,1382.6 876.834,1382.37 878.756,1382.47 880.677,1382.82 882.599,1382.89 884.521,1382.71 886.443,1382.5 888.364,1382.14 890.286,1383.16 \n",
       "  892.208,1382.06 894.13,1382.77 896.052,1382.88 897.973,1382.97 899.895,1382 901.817,1383.23 903.739,1382.03 905.66,1382.79 907.582,1382.82 909.504,1381.92 \n",
       "  911.426,1383.84 913.348,1381.72 915.269,1382.93 917.191,1382.75 919.113,1382.77 921.035,1382.12 922.956,1383.33 924.878,1382.59 926.8,1382.27 928.722,1382.96 \n",
       "  930.643,1382.55 932.565,1382.75 934.487,1382.22 936.409,1383.58 938.331,1381.85 940.252,1382.91 942.174,1382.11 944.096,1383.02 946.018,1383.03 947.939,1381.92 \n",
       "  949.861,1382.66 951.783,1382.79 953.705,1382.84 955.627,1382.41 957.548,1383.35 959.47,1381.85 961.392,1383.07 963.314,1382.51 965.235,1382.33 967.157,1383.37 \n",
       "  969.079,1382.33 971.001,1382.22 972.922,1383.14 974.844,1382.36 976.766,1381.94 978.688,1383.23 980.61,1382.57 982.531,1383.2 984.453,1382.11 986.375,1382.06 \n",
       "  988.297,1383.82 990.218,1382.35 992.14,1382.62 994.062,1382.28 995.984,1383.16 997.906,1382.63 999.827,1381.93 1001.75,1383.1 1003.67,1382.67 1005.59,1382.67 \n",
       "  1007.51,1382.43 1009.44,1382.47 1011.36,1383.15 1013.28,1382.35 1015.2,1382.72 1017.12,1382.47 1019.05,1382.85 1020.97,1382.54 1022.89,1382.68 1024.81,1382.63 \n",
       "  1026.73,1382.41 1028.65,1382.76 1030.58,1382.37 1032.5,1382.58 1034.42,1383.41 1036.34,1381.81 1038.26,1383.24 1040.18,1381.97 1042.11,1383.33 1044.03,1382.54 \n",
       "  1045.95,1382.7 1047.87,1381.91 1049.79,1383.24 1051.72,1383.36 1053.64,1382.24 1055.56,1382.57 1057.48,1381.69 1059.4,1384.15 1061.32,1382.05 1063.25,1382.34 \n",
       "  1065.17,1383.14 1067.09,1382.43 1069.01,1382.9 1070.93,1381.67 1072.85,1383.3 1074.78,1383.17 1076.7,1381.35 1078.62,1383.57 1080.54,1382.49 1082.46,1382.78 \n",
       "  1084.39,1382.06 1086.31,1383.13 1088.23,1382.38 1090.15,1382.88 1092.07,1381.93 1093.99,1383.32 1095.92,1382.52 1097.84,1382.66 1099.76,1382.82 1101.68,1382.25 \n",
       "  1103.6,1383.09 1105.52,1382.41 1107.45,1382.29 1109.37,1382.72 1111.29,1382.96 1113.21,1382.34 1115.13,1382.49 1117.06,1383.75 1118.98,1381.97 1120.9,1382.93 \n",
       "  1122.82,1382.49 1124.74,1382.64 1126.66,1382.56 1128.59,1382.19 1130.51,1383.05 1132.43,1382.87 1134.35,1382.48 1136.27,1382.83 1138.2,1381.97 1140.12,1382.31 \n",
       "  1142.04,1383.49 1143.96,1382.08 1145.88,1382.89 1147.8,1382.54 1149.73,1382.5 1151.65,1382.51 1153.57,1382.51 1155.49,1383.08 1157.41,1382.18 1159.33,1383.57 \n",
       "  1161.26,1382.34 1163.18,1382.69 1165.1,1382.33 1167.02,1383.01 1168.94,1382.04 1170.87,1383.14 1172.79,1382.37 1174.71,1382.98 1176.63,1383.07 1178.55,1382.38 \n",
       "  1180.47,1382.9 1182.4,1382.27 1184.32,1382.92 1186.24,1382.27 1188.16,1383.67 1190.08,1381.33 1192,1382.73 1193.93,1383.42 1195.85,1382.69 1197.77,1381.59 \n",
       "  1199.69,1383.02 1201.61,1382.85 1203.54,1382.66 1205.46,1382.53 1207.38,1382.82 1209.3,1382.16 1211.22,1382.28 1213.14,1383.5 1215.07,1381.91 1216.99,1382.91 \n",
       "  1218.91,1382.69 1220.83,1382.81 1222.75,1382.32 1224.67,1382.82 1226.6,1382.61 1228.52,1382.23 1230.44,1383.28 1232.36,1381.97 1234.28,1383.16 1236.21,1382.76 \n",
       "  1238.13,1382.91 1240.05,1383.28 1241.97,1381.47 1243.89,1382.76 1245.81,1382.6 1247.74,1383.13 1249.66,1382.11 1251.58,1383.02 1253.5,1383.2 1255.42,1382.34 \n",
       "  1257.34,1382.52 1259.27,1382.61 1261.19,1382.62 1263.11,1382.36 1265.03,1383.35 1266.95,1382.41 1268.88,1382.82 1270.8,1382.32 1272.72,1383.35 1274.64,1381.91 \n",
       "  1276.56,1383.32 1278.48,1382.48 1280.41,1382.91 1282.33,1382.49 1284.25,1382.29 1286.17,1383.09 1288.09,1382.56 1290.02,1381.91 1291.94,1382.9 1293.86,1383.46 \n",
       "  1295.78,1381.97 1297.7,1382.66 1299.62,1383.08 1301.55,1382.5 1303.47,1382.91 1305.39,1381.67 1307.31,1382.56 1309.23,1383.46 1311.15,1382.24 1313.08,1382.7 \n",
       "  1315,1382.51 1316.92,1383.1 1318.84,1382.38 1320.76,1382.51 1322.69,1382.47 1324.61,1383.13 1326.53,1382.6 1328.45,1382.8 1330.37,1382.19 1332.29,1383.01 \n",
       "  1334.22,1382.61 1336.14,1382.08 1338.06,1383.21 1339.98,1382.79 1341.9,1382.33 1343.82,1382.54 1345.75,1382.44 1347.67,1383.25 1349.59,1382.35 1351.51,1383.16 \n",
       "  1353.43,1382.81 1355.36,1382.01 1357.28,1383.24 1359.2,1381.71 1361.12,1383.5 1363.04,1381.85 1364.96,1383.4 1366.89,1382.19 1368.81,1382.1 1370.73,1382.9 \n",
       "  1372.65,1382.84 1374.57,1383.15 1376.49,1382.25 1378.42,1383.33 1380.34,1381.72 1382.26,1383.08 1384.18,1382.09 1386.1,1383.38 1388.03,1382.69 1389.95,1381.95 \n",
       "  1391.87,1383.25 1393.79,1382.3 1395.71,1383.1 1397.63,1382.99 1399.56,1382.09 1401.48,1382.94 1403.4,1382.29 1405.32,1383.07 1407.24,1382.44 1409.17,1382.35 \n",
       "  1411.09,1382.69 1413.01,1382.66 1414.93,1382.36 1416.85,1383.61 1418.77,1381.46 1420.7,1383.17 1422.62,1382.64 1424.54,1382.42 1426.46,1382.87 1428.38,1383.17 \n",
       "  1430.3,1382.15 1432.23,1382.15 1434.15,1383.19 1436.07,1382.78 1437.99,1382.31 1439.91,1382.91 1441.84,1382.25 1443.76,1383.51 1445.68,1381.7 1447.6,1383.09 \n",
       "  1449.52,1383.26 1451.44,1382.28 1453.37,1382.22 1455.29,1383.69 1457.21,1381.4 1459.13,1383.07 1461.05,1382.44 1462.97,1382.71 1464.9,1383.17 1466.82,1382.19 \n",
       "  1468.74,1382.89 1470.66,1382.12 1472.58,1383.14 1474.51,1382.69 1476.43,1382.79 1478.35,1382.19 1480.27,1383.28 1482.19,1382.33 1484.11,1382.83 1486.04,1382.12 \n",
       "  1487.96,1382.71 1489.88,1382.86 1491.8,1382.53 1493.72,1382.27 1495.64,1382.92 1497.57,1382.93 1499.49,1382.33 1501.41,1382.31 1503.33,1383.36 1505.25,1382.41 \n",
       "  1507.18,1382.88 1509.1,1382.7 1511.02,1382.83 1512.94,1382.52 1514.86,1383.21 1516.78,1381.86 1518.71,1382.59 1520.63,1382.77 1522.55,1383.12 1524.47,1382.87 \n",
       "  1526.39,1382.12 1528.32,1382.87 1530.24,1381.65 1532.16,1382.88 1534.08,1382.57 1536,1383.16 1537.92,1381.51 1539.85,1383.62 1541.77,1382.49 1543.69,1382.24 \n",
       "  1545.61,1382.73 1547.53,1382.96 1549.45,1382.1 1551.38,1382.88 1553.3,1382.81 1555.22,1382.26 1557.14,1383.14 1559.06,1382.38 1560.99,1382.74 1562.91,1382.75 \n",
       "  1564.83,1382.16 1566.75,1383.29 1568.67,1382.37 1570.59,1382.97 1572.52,1382.17 1574.44,1382.8 1576.36,1383 1578.28,1382.58 1580.2,1381.62 1582.12,1383.56 \n",
       "  1584.05,1382.51 1585.97,1382.92 1587.89,1381.89 1589.81,1383.18 1591.73,1382.49 1593.66,1383.44 1595.58,1381.6 1597.5,1383.18 1599.42,1382.77 1601.34,1382.55 \n",
       "  1603.26,1382.13 1605.19,1383.34 1607.11,1382.18 1609.03,1383.06 1610.95,1382.19 1612.87,1383.15 1614.79,1382.53 1616.72,1382.17 1618.64,1382.9 1620.56,1383.08 \n",
       "  1622.48,1382.67 1624.4,1382.16 1626.33,1383.61 1628.25,1381.76 1630.17,1382.5 1632.09,1382.94 1634.01,1382.19 1635.93,1382.78 1637.86,1383.01 1639.78,1382.09 \n",
       "  1641.7,1383.17 1643.62,1382.24 1645.54,1383.05 1647.47,1382.96 1649.39,1382.44 1651.31,1382.62 1653.23,1382.87 1655.15,1382.27 1657.07,1382.88 1659,1381.77 \n",
       "  1660.92,1383.41 1662.84,1382.47 1664.76,1382.61 1666.68,1382.1 1668.6,1383.72 1670.53,1381.84 1672.45,1382.74 1674.37,1382.4 1676.29,1383.1 1678.21,1382.17 \n",
       "  1680.14,1383.23 1682.06,1382.28 1683.98,1382.72 1685.9,1382.66 1687.82,1382.37 1689.74,1383.28 1691.67,1382.47 1693.59,1382.14 1695.51,1383.17 1697.43,1382.97 \n",
       "  1699.35,1381.65 1701.27,1383.26 1703.2,1382.5 1705.12,1382.45 1707.04,1382.8 1708.96,1382.56 1710.88,1382.76 1712.81,1382.69 1714.73,1382.29 1716.65,1382.44 \n",
       "  1718.57,1383.31 1720.49,1381.84 1722.41,1382.96 1724.34,1382.55 1726.26,1382.72 1728.18,1383.05 1730.1,1381.97 1732.02,1383.72 1733.94,1380.95 1735.87,1383.39 \n",
       "  1737.79,1382.33 1739.71,1382.62 1741.63,1382.77 1743.55,1382.53 1745.48,1382.76 1747.4,1382.63 1749.32,1382.63 1751.24,1382.51 1753.16,1383.08 1755.08,1382.28 \n",
       "  1757.01,1383.06 1758.93,1382.23 1760.85,1382.81 1762.77,1382.77 1764.69,1382.44 1766.61,1382.95 1768.54,1381.96 1770.46,1383.23 1772.38,1382.73 1774.3,1382.89 \n",
       "  1776.22,1381.78 1778.15,1383.15 1780.07,1382.73 1781.99,1382.46 1783.91,1381.66 1785.83,1383.68 1787.75,1382.18 1789.68,1383.02 1791.6,1382.32 1793.52,1382.34 \n",
       "  1795.44,1383.06 1797.36,1382.29 1799.29,1383.11 1801.21,1382.52 1803.13,1382.39 1805.05,1383.11 1806.97,1382.41 1808.89,1382.27 1810.82,1383.39 1812.74,1381.91 \n",
       "  1814.66,1383.22 1816.58,1382.52 1818.5,1382.57 1820.42,1382.29 1822.35,1382.65 1824.27,1382.66 1826.19,1383.22 1828.11,1382.41 1830.03,1382.75 1831.96,1383.03 \n",
       "  1833.88,1382.42 1835.8,1382.28 1837.72,1383.03 1839.64,1382.94 1841.56,1382.99 1843.49,1382.26 1845.41,1382.68 1847.33,1382.59 1849.25,1381.94 1851.17,1383.36 \n",
       "  1853.09,1382.79 1855.02,1382.74 1856.94,1381.59 1858.86,1383.22 1860.78,1382.26 1862.7,1383.45 1864.63,1381.8 1866.55,1382.81 1868.47,1382.77 1870.39,1382.23 \n",
       "  1872.31,1382.96 1874.23,1382.5 1876.16,1382.54 1878.08,1383.4 1880,1382.35 1881.92,1382.37 1883.84,1382.42 1885.76,1382.95 1887.69,1382.75 1889.61,1382.69 \n",
       "  1891.53,1382.45 1893.45,1382.33 1895.37,1382.42 1897.3,1382.69 1899.22,1383.5 1901.14,1382.15 1903.06,1382.42 1904.98,1382.2 1906.9,1383.25 1908.83,1382.75 \n",
       "  1910.75,1382.19 1912.67,1382.72 1914.59,1382.86 1916.51,1383.26 1918.44,1381.79 1920.36,1383.58 1922.28,1382.14 1924.2,1382.92 1926.12,1382.6 1928.04,1382.58 \n",
       "  1929.97,1382.74 1931.89,1382.66 1933.81,1382.52 1935.73,1382.15 1937.65,1383.28 1939.57,1382.33 1941.5,1382.98 1943.42,1382.78 1945.34,1382.87 1947.26,1382.47 \n",
       "  1949.18,1383.01 1951.11,1382.32 1953.03,1382.39 1954.95,1383.12 1956.87,1381.83 1958.79,1382.9 1960.71,1382.67 1962.64,1382.99 1964.56,1382.38 1966.48,1382.81 \n",
       "  1968.4,1382.5 1970.32,1383.28 1972.24,1381.97 1974.17,1382.98 1976.09,1382.36 1978.01,1382.66 1979.93,1383.05 1981.85,1382.41 1983.78,1383 1985.7,1382.08 \n",
       "  1987.62,1382.57 1989.54,1382.98 1991.46,1381.9 1993.38,1383.48 1995.31,1381.85 1997.23,1383.96 1999.15,1381.26 2001.07,1384.24 2002.99,1381.36 2004.91,1383.21 \n",
       "  2006.84,1381.92 2008.76,1383.25 2010.68,1382.46 2012.6,1382.67 2014.52,1382.65 2016.45,1382.16 2018.37,1383.42 2020.29,1381.89 2022.21,1382.87 2024.13,1382.89 \n",
       "  2026.05,1383.04 2027.98,1381.69 2029.9,1382.5 2031.82,1383.36 2033.74,1382.54 2035.66,1382.62 2037.59,1382.46 2039.51,1382.35 2041.43,1383.85 2043.35,1381.58 \n",
       "  2045.27,1382.62 2047.19,1382.93 2049.12,1381.97 2051.04,1383.23 2052.96,1382.08 2054.88,1383.64 2056.8,1381.56 2058.72,1383.56 2060.65,1382.12 2062.57,1383.1 \n",
       "  2064.49,1382.47 2066.41,1382.33 2068.33,1383 2070.26,1383.39 2072.18,1382.21 2074.1,1382.29 2076.02,1382.99 2077.94,1382.02 2079.86,1382.91 2081.79,1383.02 \n",
       "  2083.71,1382.59 2085.63,1382.72 2087.55,1382.53 2089.47,1382.57 2091.39,1382.36 2093.32,1383.15 2095.24,1382.37 2097.16,1382.37 2099.08,1382.15 2101,1383.85 \n",
       "  2102.93,1381.81 2104.85,1382.84 2106.77,1382.68 2108.69,1382.26 2110.61,1383.16 2112.53,1382.42 2114.46,1383.02 2116.38,1382.62 2118.3,1382.3 2120.22,1382.68 \n",
       "  2122.14,1382.75 2124.06,1381.73 2125.99,1382.84 2127.91,1382.53 2129.83,1382.97 2131.75,1382.48 2133.67,1382.69 2135.6,1383.21 2137.52,1382.85 2139.44,1382.78 \n",
       "  2141.36,1381.56 2143.28,1383.29 2145.2,1383.05 2147.13,1382.13 2149.05,1382.02 2150.97,1383.36 2152.89,1382.38 2154.81,1382.81 2156.74,1382.72 2158.66,1382.71 \n",
       "  2160.58,1382.96 2162.5,1382.41 2164.42,1382.62 2166.34,1383.31 2168.27,1381.95 2170.19,1382.84 2172.11,1381.9 2174.03,1383.05 2175.95,1382.45 2177.87,1382.03 \n",
       "  2179.8,1383.26 2181.72,1382.34 2183.64,1382.74 2185.56,1382.94 2187.48,1382.86 2189.41,1382.32 2191.33,1382 2193.25,1383.21 2195.17,1382.72 2197.09,1382.53 \n",
       "  2199.01,1382.71 2200.94,1382.02 2202.86,1383.1 2204.78,1382.76 2206.7,1382.29 2208.62,1382.97 2210.54,1382.62 2212.47,1383.07 2214.39,1381.95 2216.31,1383.07 \n",
       "  2218.23,1382.95 2220.15,1382.84 2222.08,1381.82 2224,1383.15 2225.92,1382.02 2227.84,1383.2 2229.76,1382.72 2231.68,1382.74 2233.61,1382.12 2235.53,1382.96 \n",
       "  2237.45,1382.18 2239.37,1382.7 2241.29,1382.76 2243.21,1383.32 2245.14,1381.98 2247.06,1382.28 2248.98,1383.25 2250.9,1382.23 2252.82,1383.05 2254.75,1382.59 \n",
       "  2256.67,1382.76 2258.59,1382.43 2260.51,1382.59 2262.43,1383.41 2264.35,1382.52 2266.28,1382.01 2268.2,1383.12 2270.12,1382.22 2272.04,1383.08 2273.96,1382.53 \n",
       "  2275.88,1382.76 2277.81,1382.55 2279.73,1383.58 2281.65,1381.74 2283.57,1382.49 2285.49,1382.72 2287.42,1382.68 2289.34,1382.78 2291.26,1382.01 2293.18,1382.76 \n",
       "  2295.1,1383.19 \n",
       "  \"/>\n",
       "<path clip-path=\"url(#clip580)\" d=\"\n",
       "M2007.49 214.069 L2284.85 214.069 L2284.85 93.1086 L2007.49 93.1086  Z\n",
       "  \" fill=\"#ffffff\" fill-rule=\"evenodd\" fill-opacity=\"1\"/>\n",
       "<polyline clip-path=\"url(#clip580)\" style=\"stroke:#000000; stroke-width:4; stroke-opacity:1; fill:none\" points=\"\n",
       "  2007.49,214.069 2284.85,214.069 2284.85,93.1086 2007.49,93.1086 2007.49,214.069 \n",
       "  \"/>\n",
       "<polyline clip-path=\"url(#clip580)\" style=\"stroke:#009af9; stroke-width:4; stroke-opacity:1; fill:none\" points=\"\n",
       "  2030.13,153.589 2165.93,153.589 \n",
       "  \"/>\n",
       "<path clip-path=\"url(#clip580)\" d=\"M 0 0 M2202.41 173.276 Q2200.6 177.906 2198.89 179.318 Q2197.18 180.73 2194.31 180.73 L2190.9 180.73 L2190.9 177.165 L2193.4 177.165 Q2195.16 177.165 2196.14 176.332 Q2197.11 175.498 2198.29 172.396 L2199.05 170.452 L2188.57 144.943 L2193.08 144.943 L2201.18 165.221 L2209.28 144.943 L2213.8 144.943 L2202.41 173.276 Z\" fill=\"#000000\" fill-rule=\"evenodd\" fill-opacity=\"1\" /><path clip-path=\"url(#clip580)\" d=\"M 0 0 M2219.68 166.933 L2227.32 166.933 L2227.32 140.568 L2219.01 142.235 L2219.01 137.975 L2227.27 136.309 L2231.95 136.309 L2231.95 166.933 L2239.58 166.933 L2239.58 170.869 L2219.68 170.869 L2219.68 166.933 Z\" fill=\"#000000\" fill-rule=\"evenodd\" fill-opacity=\"1\" /></svg>\n"
      ]
     },
     "execution_count": 113,
     "metadata": {},
     "output_type": "execute_result"
    }
   ],
   "source": [
    "using Plots\n",
    "z = zeros(k^2,1); i=0; lambda=100; alpha=0; nbiters = 1000;\n",
    "les_fs = zeros(nbiters+1,1);\n",
    "f(t) = 1/2*norm(Theta*t-y)^2 + lambda*norm(t,1) \n",
    "g = Theta'*(Theta*z - y)+lambda*sign.(z)\n",
    "choix_pas = 10^-4; # 1 cas a, 2 cas b, 3 cas c\n",
    "z_new = z - choix_pas*g\n",
    "les_fs[1] = f(z_new);\n",
    "while (i <= nbiters)\n",
    "    i = i + 1;\n",
    "    ## A compléter\n",
    "    z = [j for j in z_new]\n",
    "    g = Theta'*(Theta*z - y)+lambda*sign.(z)\n",
    "    choix_pas = 10^-4; \n",
    "    z_new = z - choix_pas*g\n",
    "    les_fs[i] = f(z_new);\n",
    "    ## fin à compléter\n",
    "end\n",
    "println(\"residu : \",norm(Theta*z_new-y))\n",
    "norm(Theta\\y)\n",
    "z = z_new;\n",
    "print(\"norm de z : \",norm(z))\n",
    "plot([i for i = 1:(nbiters+1)],les_fs,xlabel = \"iterations\",ylabel = \"f(z)\")"
   ]
  },
  {
   "cell_type": "markdown",
   "metadata": {
    "slideshow": {
     "slide_type": "slide"
    }
   },
   "source": [
    "**Question 6 :** Expliquer le code suivant et conclure sur l'utilisation du sous-gradient"
   ]
  },
  {
   "cell_type": "code",
   "execution_count": 114,
   "metadata": {
    "slideshow": {
     "slide_type": "slide"
    }
   },
   "outputs": [
    {
     "data": {
      "image/png": "[encoded data removed]",
      "text/plain": [
       "30×30 view(reinterpret(Gray{Float64}, ::Array{Float64,2}), :, :) with eltype Gray{Float64}:\n",
       " Gray{Float64}(0.516233)  Gray{Float64}(0.521806)  …  Gray{Float64}(0.616673)\n",
       " Gray{Float64}(0.554526)  Gray{Float64}(0.640411)     Gray{Float64}(0.679384)\n",
       " Gray{Float64}(0.551277)  Gray{Float64}(0.656111)     Gray{Float64}(0.673743)\n",
       " Gray{Float64}(0.615971)  Gray{Float64}(0.723819)     Gray{Float64}(0.677862)\n",
       " Gray{Float64}(0.640037)  Gray{Float64}(0.795873)     Gray{Float64}(0.694606)\n",
       " Gray{Float64}(0.609864)  Gray{Float64}(0.794901)  …  Gray{Float64}(0.697134)\n",
       " Gray{Float64}(0.652183)  Gray{Float64}(0.858803)     Gray{Float64}(0.570497)\n",
       " Gray{Float64}(0.650484)  Gray{Float64}(0.842793)     Gray{Float64}(0.313174)\n",
       " Gray{Float64}(0.67836)   Gray{Float64}(0.809477)     Gray{Float64}(0.244567)\n",
       " Gray{Float64}(0.636937)  Gray{Float64}(0.747712)     Gray{Float64}(0.222586)\n",
       " Gray{Float64}(0.632916)  Gray{Float64}(0.804148)  …  Gray{Float64}(0.22227)\n",
       " Gray{Float64}(0.8035)    Gray{Float64}(0.908085)     Gray{Float64}(0.217863)\n",
       " Gray{Float64}(0.832623)  Gray{Float64}(0.894813)     Gray{Float64}(0.151592)\n",
       " ⋮                                                 ⋱  \n",
       " Gray{Float64}(0.710511)  Gray{Float64}(0.497062)     Gray{Float64}(0.182915)\n",
       " Gray{Float64}(0.503099)  Gray{Float64}(0.345697)     Gray{Float64}(0.174846)\n",
       " Gray{Float64}(0.399249)  Gray{Float64}(0.325655)  …  Gray{Float64}(0.126916)\n",
       " Gray{Float64}(0.477116)  Gray{Float64}(0.358791)     Gray{Float64}(0.148647)\n",
       " Gray{Float64}(0.436541)  Gray{Float64}(0.267056)     Gray{Float64}(0.209681)\n",
       " Gray{Float64}(0.408057)  Gray{Float64}(0.27382)      Gray{Float64}(0.395277)\n",
       " Gray{Float64}(0.32553)   Gray{Float64}(0.222071)     Gray{Float64}(0.415549)\n",
       " Gray{Float64}(0.364237)  Gray{Float64}(0.162791)  …  Gray{Float64}(0.420707)\n",
       " Gray{Float64}(0.347014)  Gray{Float64}(0.218237)     Gray{Float64}(0.452701)\n",
       " Gray{Float64}(0.309833)  Gray{Float64}(0.228942)     Gray{Float64}(0.459091)\n",
       " Gray{Float64}(0.360237)  Gray{Float64}(0.266593)     Gray{Float64}(0.48519)\n",
       " Gray{Float64}(0.392954)  Gray{Float64}(0.363063)     Gray{Float64}(0.486232)"
      ]
     },
     "execution_count": 114,
     "metadata": {},
     "output_type": "execute_result"
    }
   ],
   "source": [
    "function my_function(n,k,z)\n",
    "    x2 = zeros(n,1);\n",
    "    for ii = 1:n\n",
    "        ii\n",
    "        ek = zeros(1,n);\n",
    "        ek[ii] = 1;\n",
    "        psi = idct(ek)';\n",
    "        x2 = x2+psi*z[ii];\n",
    "    end\n",
    "    x2 = reshape(x2,k,k);\n",
    "    x2 = 1/(maximum(x2).-minimum(x2))*(x2.-minimum(x2));\n",
    "    return x2\n",
    "end\n",
    "#\n",
    "x2 = my_function(n,k,z);\n",
    "imhsv = colorview(Gray, float(x2));\n",
    "tmp=@view imhsv[:,:]"
   ]
  },
  {
   "cell_type": "markdown",
   "metadata": {
    "slideshow": {
     "slide_type": "slide"
    }
   },
   "source": [
    "# II.2. Utilisation d'un algorithme de sous-gradient projeté\n"
   ]
  },
  {
   "cell_type": "markdown",
   "metadata": {
    "slideshow": {
     "slide_type": "fragment"
    }
   },
   "source": [
    "**Question 7 :**  Expliquer l'intérêt de \n",
    " calculer $x_{sgp}= \\Psi z$ où $z$ résout $$\\min_{\\Phi  \\cdot \\Psi  \\cdot z =y}  ||z||_1.$$"
   ]
  },
  {
   "cell_type": "markdown",
   "metadata": {
    "slideshow": {
     "slide_type": "slide"
    }
   },
   "source": [
    "**Question 8 :** Rappeler la formule de la projection sur le convexe $\\{x, \\Phi  \\cdot \\Psi  \\cdot z =y \\}$ vue en cours."
   ]
  },
  {
   "cell_type": "markdown",
   "metadata": {
    "slideshow": {
     "slide_type": "fragment"
    }
   },
   "source": [
    "**Question 9 :** Résoudre ce problème par l'algorithme de sous-gradient projeté et finaliser le calcul de la solution."
   ]
  },
  {
   "cell_type": "code",
   "execution_count": 99,
   "metadata": {},
   "outputs": [
    {
     "data": {
      "text/plain": [
       "progection (generic function with 1 method)"
      ]
     },
     "execution_count": 99,
     "metadata": {},
     "output_type": "execute_result"
    }
   ],
   "source": [
    "function progection(z,A,b)\n",
    "    m,n = size(A)\n",
    "    projete = [i for i in z]\n",
    "    colonne = [A[1,j] for j in 1:n]\n",
    "    ligne = transpose(colonne)\n",
    "    produit = ligne*projete\n",
    "    projete_new = projete .- (produit[1]-b[1])./(norm(colonne)^2).*colonne\n",
    "    for i=2:m\n",
    "        projete = [j for j in projete_new]\n",
    "        colonne = [A[i,j] for j in 1:n]\n",
    "        ligne = transpose(colonne)\n",
    "        produit = ligne*projete\n",
    "        projete_new = projete .- (produit[1]-b[i])./(norm(colonne)^2).*colonne\n",
    "    end\n",
    "    return projete_new\n",
    "end     "
   ]
  },
  {
   "cell_type": "code",
   "execution_count": 100,
   "metadata": {},
   "outputs": [
    {
     "data": {
      "text/plain": [
       "progection2 (generic function with 1 method)"
      ]
     },
     "execution_count": 100,
     "metadata": {},
     "output_type": "execute_result"
    }
   ],
   "source": [
    "function progection2(z,alpha,pas,Theta)\n",
    "    n = length(z)\n",
    "    I = zeros(n,n)\n",
    "    for i = 1:n\n",
    "        I[i,i] = 1;\n",
    "    end\n",
    "    cons = pas*(I .- Theta'*inv(Theta*Theta')*Theta)\n",
    "    projete = [i for i in z]\n",
    "    projete_new = projete .- cons*sign.(projete)\n",
    "    return projete_new\n",
    "end     "
   ]
  },
  {
   "cell_type": "code",
   "execution_count": 1,
   "metadata": {
    "slideshow": {
     "slide_type": "slide"
    }
   },
   "outputs": [
    {
     "ename": "UndefVarError",
     "evalue": "\u001b[91mUndefVarError: k not defined\u001b[39m",
     "output_type": "error",
     "traceback": [
      "\u001b[91mUndefVarError: k not defined\u001b[39m",
      "",
      "Stacktrace:",
      " [1] top-level scope at In[1]:1"
     ]
    }
   ],
   "source": [
    "z = zeros(k^2,1); \n",
    "i=0;\n",
    "alpha = 1;nbiters = 1000;\n",
    "les_fs = zeros(nbiters+1,1);\n",
    "##Initialisation (possible)\n",
    "## A compléter\n",
    "\n",
    "f(t) = norm(t,1) \n",
    "g = sign.(z)\n",
    "choix_pas = 1; # 1 cas a, 2 cas b, 3 cas c\n",
    "z_new = progection(z - choix_pas*g,Theta,y)\n",
    "#z_new = progection2(z,alpha,choix_pas,Theta)\n",
    "## Fin à compléter\n",
    "\n",
    "while i <= nbiters\n",
    "    i = i + 1; \n",
    "    ## A compléter\n",
    "    z = [j for j in z_new]\n",
    "    g = sign.(z)\n",
    "    choix_pas = 1/sqrt(i); # 1 cas a, 2 cas b, 3 cas c\n",
    "    z_new = progection(z - choix_pas*g,Theta,y)\n",
    "    les_fs[i] = f(z_new);\n",
    "    #z_new = progection2(z,alpha,choix_pas,Theta)\n",
    "    ## Fin à compléter\n",
    "end\n",
    "println(norm(Theta*z_new-y))\n",
    "norm(Theta\\y)\n",
    "z = z_new;\n",
    "print(norm(z))\n",
    "plot([i for i = 1:(nbiters+1)],les_fs,xlabel = \"iterations\",ylabel = \"f(z)\")"
   ]
  },
  {
   "cell_type": "code",
   "execution_count": 110,
   "metadata": {
    "slideshow": {
     "slide_type": "subslide"
    }
   },
   "outputs": [
    {
     "name": "stdout",
     "output_type": "stream",
     "text": [
      "4.501560899621403"
     ]
    },
    {
     "data": {
      "image/png": "[encoded data removed]",
      "text/plain": [
       "30×30 view(reinterpret(Gray{Float64}, ::Array{Float64,2}), :, :) with eltype Gray{Float64}:\n",
       " Gray{Float64}(0.683093)  Gray{Float64}(0.66489)   …  Gray{Float64}(0.739002)\n",
       " Gray{Float64}(0.668141)  Gray{Float64}(0.774085)     Gray{Float64}(0.766616)\n",
       " Gray{Float64}(0.741105)  Gray{Float64}(0.74313)      Gray{Float64}(0.827876)\n",
       " Gray{Float64}(0.792554)  Gray{Float64}(0.77143)      Gray{Float64}(0.876827)\n",
       " Gray{Float64}(0.795521)  Gray{Float64}(0.849752)     Gray{Float64}(0.899287)\n",
       " Gray{Float64}(0.745051)  Gray{Float64}(0.876085)  …  Gray{Float64}(0.797103)\n",
       " Gray{Float64}(0.80422)   Gray{Float64}(0.893436)     Gray{Float64}(0.677082)\n",
       " Gray{Float64}(0.730238)  Gray{Float64}(0.883938)     Gray{Float64}(0.247469)\n",
       " Gray{Float64}(0.743455)  Gray{Float64}(0.817053)     Gray{Float64}(0.200992)\n",
       " Gray{Float64}(0.702849)  Gray{Float64}(0.753312)     Gray{Float64}(0.230031)\n",
       " Gray{Float64}(0.625952)  Gray{Float64}(0.836199)  …  Gray{Float64}(0.198257)\n",
       " Gray{Float64}(0.779749)  Gray{Float64}(0.888539)     Gray{Float64}(0.180025)\n",
       " Gray{Float64}(0.761778)  Gray{Float64}(0.894284)     Gray{Float64}(0.244812)\n",
       " ⋮                                                 ⋱  \n",
       " Gray{Float64}(0.599348)  Gray{Float64}(0.444763)     Gray{Float64}(0.244691)\n",
       " Gray{Float64}(0.384154)  Gray{Float64}(0.287315)     Gray{Float64}(0.134768)\n",
       " Gray{Float64}(0.257866)  Gray{Float64}(0.276484)  …  Gray{Float64}(0.155838)\n",
       " Gray{Float64}(0.343899)  Gray{Float64}(0.325243)     Gray{Float64}(0.08142)\n",
       " Gray{Float64}(0.334799)  Gray{Float64}(0.18122)      Gray{Float64}(0.108475)\n",
       " Gray{Float64}(0.336023)  Gray{Float64}(0.296182)     Gray{Float64}(0.217513)\n",
       " Gray{Float64}(0.161768)  Gray{Float64}(0.263551)     Gray{Float64}(0.24724)\n",
       " Gray{Float64}(0.203644)  Gray{Float64}(0.181069)  …  Gray{Float64}(0.295505)\n",
       " Gray{Float64}(0.202597)  Gray{Float64}(0.170155)     Gray{Float64}(0.226021)\n",
       " Gray{Float64}(0.235304)  Gray{Float64}(0.238942)     Gray{Float64}(0.273724)\n",
       " Gray{Float64}(0.239776)  Gray{Float64}(0.180314)     Gray{Float64}(0.278407)\n",
       " Gray{Float64}(0.265794)  Gray{Float64}(0.276208)     Gray{Float64}(0.255236)"
      ]
     },
     "execution_count": 110,
     "metadata": {},
     "output_type": "execute_result"
    }
   ],
   "source": [
    "x3 = my_function(n,k,z);\n",
    "imhsv = colorview(Gray,float(x3));\n",
    "print(norm(x3[:].-x))\n",
    "tmp =@view imhsv[:,:]"
   ]
  },
  {
   "cell_type": "code",
   "execution_count": null,
   "metadata": {},
   "outputs": [],
   "source": []
  },
  {
   "cell_type": "code",
   "execution_count": null,
   "metadata": {},
   "outputs": [],
   "source": []
  }
 ],
 "metadata": {
  "anaconda-cloud": {},
  "celltoolbar": "Slideshow",
  "kernelspec": {
   "display_name": "Julia 1.4.2",
   "language": "julia",
   "name": "julia-1.4"
  },
  "language_info": {
   "file_extension": ".jl",
   "mimetype": "application/julia",
   "name": "julia",
   "version": "1.4.2"
  }
 },
 "nbformat": 4,
 "nbformat_minor": 1
}
