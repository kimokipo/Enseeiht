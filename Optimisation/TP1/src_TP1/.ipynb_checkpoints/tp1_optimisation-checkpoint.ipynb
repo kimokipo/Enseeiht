{
 "cells": [
  {
   "cell_type": "markdown",
   "metadata": {
    "slideshow": {
     "slide_type": "slide"
    }
   },
   "source": [
    "# Reconstruction parcimonieuse ou compressive sensing"
   ]
  },
  {
   "cell_type": "markdown",
   "metadata": {
    "slideshow": {
     "slide_type": "slide"
    }
   },
   "source": [
    "## I. Cadre général et première tentative."
   ]
  },
  {
   "cell_type": "markdown",
   "metadata": {
    "slideshow": {
     "slide_type": "subslide"
    }
   },
   "source": [
    "Le but du TP est de montrer que des techniques d'optimisation pour le Machine Learning permettent de récupérer des signaux qui admettent dans une certaine base une représentation parcimonieuse, c'est à dire mettant en jeu un faible nombre de coefficients. \n",
    "\n",
    "On s'intéresse donc à la reconstruction d'un vecteur $x$ (ici une image codées en niveaux de gris) en utilisant les valeurs de combinaisons aléatoire de certains pixels. Les combinaisons sont représentées par une matrice $\\Phi$. \n",
    "\n",
    "Une première approche consiste à résoudre le problème $$ \\min_x \\frac{1}{2} ||\\Phi x-y||_2^2$$ pour retrouver l'image.\n",
    "\n",
    "**Question 1 :** Commenter et compléter le code constituant le reste de la section I.\n"
   ]
  },
  {
   "cell_type": "code",
   "execution_count": 2,
   "metadata": {},
   "outputs": [
    {
     "name": "stderr",
     "output_type": "stream",
     "text": [
      "\u001b[32m\u001b[1m   Updating\u001b[22m\u001b[39m registry at `/applications/julia/.julia/registries/General`\n",
      "┌ Warning: Some registries failed to update:\n",
      "│     — `/applications/julia/.julia/registries/General` — registry dirty\n",
      "└ @ Pkg.Types /buildworker/worker/package_linux64/build/usr/share/julia/stdlib/v1.4/Pkg/src/Types.jl:1131\n",
      "\u001b[32m\u001b[1m  Resolving\u001b[22m\u001b[39m package versions...\n",
      "\u001b[32m\u001b[1m  Installed\u001b[22m\u001b[39m CustomUnitRanges ────────── v1.0.2\n",
      "\u001b[32m\u001b[1m  Installed\u001b[22m\u001b[39m Images ──────────────────── v0.24.1\n",
      "\u001b[32m\u001b[1m  Installed\u001b[22m\u001b[39m IndirectArrays ──────────── v0.5.1\n",
      "\u001b[32m\u001b[1m  Installed\u001b[22m\u001b[39m ArrayInterface ──────────── v3.1.1\n",
      "\u001b[32m\u001b[1m  Installed\u001b[22m\u001b[39m ComputationalResources ──── v0.3.2\n",
      "\u001b[32m\u001b[1m  Installed\u001b[22m\u001b[39m ImageFiltering ──────────── v0.6.21\n",
      "\u001b[32m\u001b[1m  Installed\u001b[22m\u001b[39m Gadfly ──────────────────── v1.3.3\n",
      "\u001b[32m\u001b[1m  Installed\u001b[22m\u001b[39m DualNumbers ─────────────── v0.6.5\n",
      "\u001b[32m\u001b[1m  Installed\u001b[22m\u001b[39m ImageMorphology ─────────── v0.2.11\n",
      "\u001b[32m\u001b[1m  Installed\u001b[22m\u001b[39m ImageDistances ──────────── v0.2.13\n",
      "\u001b[32m\u001b[1m  Installed\u001b[22m\u001b[39m ColorVectorSpace ────────── v0.8.7\n",
      "\u001b[32m\u001b[1m  Installed\u001b[22m\u001b[39m FFTViews ────────────────── v0.3.2\n",
      "\u001b[32m\u001b[1m  Installed\u001b[22m\u001b[39m Netpbm ──────────────────── v1.0.1\n",
      "\u001b[32m\u001b[1m  Installed\u001b[22m\u001b[39m CoordinateTransformations ─ v0.6.2\n",
      "\u001b[32m\u001b[1m  Installed\u001b[22m\u001b[39m ImageAxes ───────────────── v0.6.9\n",
      "\u001b[32m\u001b[1m  Installed\u001b[22m\u001b[39m ImageMagick_jll ─────────── v6.9.10-12+3\n",
      "\u001b[32m\u001b[1m  Installed\u001b[22m\u001b[39m ImageMetadata ───────────── v0.9.5\n",
      "\u001b[32m\u001b[1m  Installed\u001b[22m\u001b[39m CatIndices ──────────────── v0.2.2\n",
      "\u001b[32m\u001b[1m  Installed\u001b[22m\u001b[39m ImageContrastAdjustment ─── v0.3.7\n",
      "\u001b[32m\u001b[1m  Installed\u001b[22m\u001b[39m AxisArrays ──────────────── v0.4.4\n",
      "\u001b[32m\u001b[1m  Installed\u001b[22m\u001b[39m StaticArrays ────────────── v0.12.5\n",
      "\u001b[32m\u001b[1m  Installed\u001b[22m\u001b[39m ImageCore ───────────────── v0.8.22\n",
      "\u001b[32m\u001b[1m  Installed\u001b[22m\u001b[39m GeometryBasics ──────────── v0.3.12\n",
      "\u001b[32m\u001b[1m  Installed\u001b[22m\u001b[39m IdentityRanges ──────────── v0.3.1\n",
      "\u001b[32m\u001b[1m  Installed\u001b[22m\u001b[39m JpegTurbo_jll ───────────── v2.0.1+3\n",
      "\u001b[32m\u001b[1m  Installed\u001b[22m\u001b[39m Quaternions ─────────────── v0.4.2\n",
      "\u001b[32m\u001b[1m  Installed\u001b[22m\u001b[39m ImageQualityIndexes ─────── v0.2.2\n",
      "\u001b[32m\u001b[1m  Installed\u001b[22m\u001b[39m StructArrays ────────────── v0.5.1\n",
      "\u001b[32m\u001b[1m  Installed\u001b[22m\u001b[39m Rotations ───────────────── v1.1.0\n",
      "\u001b[32m\u001b[1m  Installed\u001b[22m\u001b[39m RangeArrays ─────────────── v0.3.2\n",
      "\u001b[32m\u001b[1m  Installed\u001b[22m\u001b[39m TiledIteration ──────────── v0.3.1\n",
      "\u001b[32m\u001b[1m  Installed\u001b[22m\u001b[39m Libtiff_jll ─────────────── v4.1.0+2\n",
      "\u001b[32m\u001b[1m  Installed\u001b[22m\u001b[39m ImageShow ───────────────── v0.3.1\n",
      "\u001b[32m\u001b[1m  Installed\u001b[22m\u001b[39m ImageMagick ─────────────── v1.2.2\n",
      "\u001b[32m\u001b[1m  Installed\u001b[22m\u001b[39m ImageTransformations ────── v0.8.13\n",
      "######################################################################### 100,0%\n",
      "######################################################################### 100,0%\n",
      "######################################################################### 100,0%\n",
      "\u001b[32m\u001b[1m   Updating\u001b[22m\u001b[39m `/applications/julia/.julia/environments/v1.4/Project.toml`\n",
      " \u001b[90m [c91e804a]\u001b[39m\u001b[95m ↓ Gadfly v1.3.4 ⇒ v1.3.3\u001b[39m\n",
      " \u001b[90m [916415d5]\u001b[39m\u001b[92m + Images v0.24.1\u001b[39m\n",
      "\u001b[32m\u001b[1m   Updating\u001b[22m\u001b[39m `/applications/julia/.julia/environments/v1.4/Manifest.toml`\n",
      " \u001b[90m [4fba245c]\u001b[39m\u001b[95m ↓ ArrayInterface v3.2.1 ⇒ v3.1.1\u001b[39m\n",
      " \u001b[90m [39de3d68]\u001b[39m\u001b[92m + AxisArrays v0.4.4\u001b[39m\n",
      " \u001b[90m [aafaddc9]\u001b[39m\u001b[92m + CatIndices v0.2.2\u001b[39m\n",
      " \u001b[90m [c3611d14]\u001b[39m\u001b[95m ↓ ColorVectorSpace v0.9.8 ⇒ v0.8.7\u001b[39m\n",
      " \u001b[90m [ed09eef8]\u001b[39m\u001b[92m + ComputationalResources v0.3.2\u001b[39m\n",
      " \u001b[90m [150eb455]\u001b[39m\u001b[92m + CoordinateTransformations v0.6.2\u001b[39m\n",
      " \u001b[90m [dc8bdbbb]\u001b[39m\u001b[92m + CustomUnitRanges v1.0.2\u001b[39m\n",
      " \u001b[90m [fa6b7ba4]\u001b[39m\u001b[92m + DualNumbers v0.6.5\u001b[39m\n",
      " \u001b[90m [4f61f5a4]\u001b[39m\u001b[92m + FFTViews v0.3.2\u001b[39m\n",
      " \u001b[90m [c91e804a]\u001b[39m\u001b[95m ↓ Gadfly v1.3.4 ⇒ v1.3.3\u001b[39m\n",
      " \u001b[90m [5c1252a2]\u001b[39m\u001b[95m ↓ GeometryBasics v0.3.13 ⇒ v0.3.12\u001b[39m\n",
      " \u001b[90m [bbac6d45]\u001b[39m\u001b[92m + IdentityRanges v0.3.1\u001b[39m\n",
      " \u001b[90m [2803e5a7]\u001b[39m\u001b[92m + ImageAxes v0.6.9\u001b[39m\n",
      " \u001b[90m [f332f351]\u001b[39m\u001b[92m + ImageContrastAdjustment v0.3.7\u001b[39m\n",
      " \u001b[90m [a09fc81d]\u001b[39m\u001b[95m ↓ ImageCore v0.9.3 ⇒ v0.8.22\u001b[39m\n",
      " \u001b[90m [51556ac3]\u001b[39m\u001b[92m + ImageDistances v0.2.13\u001b[39m\n",
      " \u001b[90m [6a3955dd]\u001b[39m\u001b[92m + ImageFiltering v0.6.21\u001b[39m\n",
      " \u001b[90m [6218d12a]\u001b[39m\u001b[92m + ImageMagick v1.2.2\u001b[39m\n",
      " \u001b[90m [c73af94c]\u001b[39m\u001b[92m + ImageMagick_jll v6.9.10-12+3\u001b[39m\n",
      " \u001b[90m [bc367c6b]\u001b[39m\u001b[92m + ImageMetadata v0.9.5\u001b[39m\n",
      " \u001b[90m [787d08f9]\u001b[39m\u001b[92m + ImageMorphology v0.2.11\u001b[39m\n",
      " \u001b[90m [2996bd0c]\u001b[39m\u001b[92m + ImageQualityIndexes v0.2.2\u001b[39m\n",
      " \u001b[90m [4e3cecfd]\u001b[39m\u001b[92m + ImageShow v0.3.1\u001b[39m\n",
      " \u001b[90m [02fcd773]\u001b[39m\u001b[92m + ImageTransformations v0.8.13\u001b[39m\n",
      " \u001b[90m [916415d5]\u001b[39m\u001b[92m + Images v0.24.1\u001b[39m\n",
      " \u001b[90m [9b13fd28]\u001b[39m\u001b[95m ↓ IndirectArrays v1.0.0 ⇒ v0.5.1\u001b[39m\n",
      " \u001b[90m [aacddb02]\u001b[39m\u001b[92m + JpegTurbo_jll v2.0.1+3\u001b[39m\n",
      " \u001b[90m [89763e89]\u001b[39m\u001b[92m + Libtiff_jll v4.1.0+2\u001b[39m\n",
      " \u001b[90m [f09324ee]\u001b[39m\u001b[95m ↓ Netpbm v1.0.2 ⇒ v1.0.1\u001b[39m\n",
      " \u001b[90m [94ee1d12]\u001b[39m\u001b[92m + Quaternions v0.4.2\u001b[39m\n",
      " \u001b[90m [b3c3ace0]\u001b[39m\u001b[92m + RangeArrays v0.3.2\u001b[39m\n",
      " \u001b[90m [6038ab10]\u001b[39m\u001b[92m + Rotations v1.1.0\u001b[39m\n",
      " \u001b[90m [aedffcd0]\u001b[39m\u001b[91m - Static v0.4.0\u001b[39m\n",
      " \u001b[90m [90137ffa]\u001b[39m\u001b[95m ↓ StaticArrays v1.2.13 ⇒ v0.12.5\u001b[39m\n",
      " \u001b[90m [09ab397b]\u001b[39m\u001b[95m ↓ StructArrays v0.6.3 ⇒ v0.5.1\u001b[39m\n",
      " \u001b[90m [62fd8b95]\u001b[39m\u001b[91m - TensorCore v0.1.1\u001b[39m\n",
      " \u001b[90m [06e1c1a7]\u001b[39m\u001b[92m + TiledIteration v0.3.1\u001b[39m\n",
      "\u001b[32m\u001b[1m  Resolving\u001b[22m\u001b[39m package versions...\n",
      "\u001b[32m\u001b[1m   Updating\u001b[22m\u001b[39m `/applications/julia/.julia/environments/v1.4/Project.toml`\n",
      "\u001b[90m [no changes]\u001b[39m\n",
      "\u001b[32m\u001b[1m   Updating\u001b[22m\u001b[39m `/applications/julia/.julia/environments/v1.4/Manifest.toml`\n",
      "\u001b[90m [no changes]\u001b[39m\n",
      "\u001b[32m\u001b[1m  Resolving\u001b[22m\u001b[39m package versions...\n",
      "\u001b[32m\u001b[1m   Updating\u001b[22m\u001b[39m `/applications/julia/.julia/environments/v1.4/Project.toml`\n",
      " \u001b[90m [37e2e46d]\u001b[39m\u001b[92m + LinearAlgebra \u001b[39m\n",
      "\u001b[32m\u001b[1m   Updating\u001b[22m\u001b[39m `/applications/julia/.julia/environments/v1.4/Manifest.toml`\n",
      "\u001b[90m [no changes]\u001b[39m\n",
      "\u001b[32m\u001b[1m  Resolving\u001b[22m\u001b[39m package versions...\n",
      "\u001b[32m\u001b[1m   Updating\u001b[22m\u001b[39m `/applications/julia/.julia/environments/v1.4/Project.toml`\n",
      " \u001b[90m [7a1cc6ca]\u001b[39m\u001b[92m + FFTW v1.3.0\u001b[39m\n",
      "\u001b[32m\u001b[1m   Updating\u001b[22m\u001b[39m `/applications/julia/.julia/environments/v1.4/Manifest.toml`\n",
      "\u001b[90m [no changes]\u001b[39m\n"
     ]
    }
   ],
   "source": [
    "using Pkg\n",
    "Pkg.add(\"Images\")\n",
    "Pkg.add(\"Colors\")\n",
    "Pkg.add(\"LinearAlgebra\")\n",
    "Pkg.add(\"FFTW\")"
   ]
  },
  {
   "cell_type": "code",
   "execution_count": 3,
   "metadata": {
    "slideshow": {
     "slide_type": "slide"
    }
   },
   "outputs": [
    {
     "name": "stderr",
     "output_type": "stream",
     "text": [
      "┌ Info: Precompiling Images [916415d5-f1e6-5110-898d-aaa5f9f070e0]\n",
      "└ @ Base loading.jl:1260\n",
      "┌ Info: Precompiling ImageIO [82e4d734-157c-48bb-816b-45c225c6df19]\n",
      "└ @ Base loading.jl:1260\n",
      "┌ Info: Precompiling TiffImages [731e570b-9d59-4bfa-96dc-6df516fadf69]\n",
      "└ @ Base loading.jl:1260\n",
      "┌ Warning: `convert(Array{Gray}, img)` will soon switch to returning an array with non-concrete element type, which adds flexibility but\n",
      "│ with great cost to performance. To maintain the current behavior, use `Gray.(img)` instead.\n",
      "│   caller = top-level scope at In[3]:19\n",
      "└ @ Core In[3]:19\n",
      "┌ Info: Precompiling PNGFiles [f57f5aa1-a3ce-4bc8-8ab9-96f992907883]\n",
      "└ @ Base loading.jl:1260\n",
      "┌ Info: Precompiling ImageMagick [6218d12a-5da1-5696-b52f-db25d2ecc6d1]\n",
      "└ @ Base loading.jl:1260\n"
     ]
    },
    {
     "data": {
      "image/png": "[encoded data removed]",
      "text/plain": [
       "256×256 view(::Array{Gray{N0f8},2}, :, :) with eltype Gray{Normed{UInt8,8}}:\n",
       " Gray{N0f8}(0.612)  Gray{N0f8}(0.624)  …  Gray{N0f8}(0.596)\n",
       " Gray{N0f8}(0.627)  Gray{N0f8}(0.604)     Gray{N0f8}(0.6)\n",
       " Gray{N0f8}(0.612)  Gray{N0f8}(0.624)     Gray{N0f8}(0.596)\n",
       " Gray{N0f8}(0.627)  Gray{N0f8}(0.604)     Gray{N0f8}(0.6)\n",
       " Gray{N0f8}(0.612)  Gray{N0f8}(0.6)       Gray{N0f8}(0.592)\n",
       " Gray{N0f8}(0.608)  Gray{N0f8}(0.608)  …  Gray{N0f8}(0.6)\n",
       " Gray{N0f8}(0.612)  Gray{N0f8}(0.6)       Gray{N0f8}(0.584)\n",
       " Gray{N0f8}(0.624)  Gray{N0f8}(0.624)     Gray{N0f8}(0.576)\n",
       " Gray{N0f8}(0.62)   Gray{N0f8}(0.608)     Gray{N0f8}(0.576)\n",
       " Gray{N0f8}(0.608)  Gray{N0f8}(0.604)     Gray{N0f8}(0.6)\n",
       " Gray{N0f8}(0.604)  Gray{N0f8}(0.616)  …  Gray{N0f8}(0.608)\n",
       " Gray{N0f8}(0.596)  Gray{N0f8}(0.588)     Gray{N0f8}(0.58)\n",
       " Gray{N0f8}(0.616)  Gray{N0f8}(0.6)       Gray{N0f8}(0.592)\n",
       " ⋮                                     ⋱  ⋮\n",
       " Gray{N0f8}(0.522)  Gray{N0f8}(0.482)     Gray{N0f8}(0.384)\n",
       " Gray{N0f8}(0.561)  Gray{N0f8}(0.502)  …  Gray{N0f8}(0.467)\n",
       " Gray{N0f8}(0.318)  Gray{N0f8}(0.416)     Gray{N0f8}(0.38)\n",
       " Gray{N0f8}(0.416)  Gray{N0f8}(0.549)     Gray{N0f8}(0.533)\n",
       " Gray{N0f8}(0.537)  Gray{N0f8}(0.478)     Gray{N0f8}(0.376)\n",
       " Gray{N0f8}(0.569)  Gray{N0f8}(0.455)     Gray{N0f8}(0.376)\n",
       " Gray{N0f8}(0.447)  Gray{N0f8}(0.482)  …  Gray{N0f8}(0.392)\n",
       " Gray{N0f8}(0.384)  Gray{N0f8}(0.447)     Gray{N0f8}(0.416)\n",
       " Gray{N0f8}(0.498)  Gray{N0f8}(0.455)     Gray{N0f8}(0.471)\n",
       " Gray{N0f8}(0.447)  Gray{N0f8}(0.518)     Gray{N0f8}(0.447)\n",
       " Gray{N0f8}(0.475)  Gray{N0f8}(0.494)     Gray{N0f8}(0.443)\n",
       " Gray{N0f8}(0.475)  Gray{N0f8}(0.494)  …  Gray{N0f8}(0.443)"
      ]
     },
     "execution_count": 3,
     "metadata": {},
     "output_type": "execute_result"
    }
   ],
   "source": [
    "#\n",
    "# Installation des librairies\n",
    "#\n",
    "#\n",
    "#\n",
    "\n",
    "#\n",
    "# Repertoire ou se trouve le fichier cameraman.tif\n",
    "#\n",
    "#cd(\"$(homedir())/\") \n",
    "\n",
    "#\n",
    "# Chargement des librairies de traitement d'image\n",
    "#\n",
    "\n",
    "using Images, Colors, LinearAlgebra, FFTW\n",
    "\n",
    "img1 = load(\"cameraman.tif\");    # \n",
    "img=convert(Array{Gray},img1);   # \n",
    "A = convert(Array{Float64,2},img);  # \n",
    "\n",
    "tmp=@view img1[:,:]"
   ]
  },
  {
   "cell_type": "code",
   "execution_count": 4,
   "metadata": {
    "slideshow": {
     "slide_type": "subslide"
    }
   },
   "outputs": [
    {
     "data": {
      "image/png": "[encoded data removed]",
      "text/plain": [
       "30×30 view(reinterpret(Gray{Float64}, ::Array{Float64,2}), :, :) with eltype Gray{Float64}:\n",
       " Gray{Float64}(0.705882)   …  Gray{Float64}(0.721569)\n",
       " Gray{Float64}(0.698039)      Gray{Float64}(0.713725)\n",
       " Gray{Float64}(0.701961)      Gray{Float64}(0.717647)\n",
       " Gray{Float64}(0.701961)      Gray{Float64}(0.729412)\n",
       " Gray{Float64}(0.705882)      Gray{Float64}(0.717647)\n",
       " Gray{Float64}(0.698039)   …  Gray{Float64}(0.764706)\n",
       " Gray{Float64}(0.709804)      Gray{Float64}(0.588235)\n",
       " Gray{Float64}(0.701961)      Gray{Float64}(0.0705882)\n",
       " Gray{Float64}(0.690196)      Gray{Float64}(0.0588235)\n",
       " Gray{Float64}(0.709804)      Gray{Float64}(0.0627451)\n",
       " Gray{Float64}(0.701961)   …  Gray{Float64}(0.0627451)\n",
       " Gray{Float64}(0.713725)      Gray{Float64}(0.0588235)\n",
       " Gray{Float64}(0.705882)      Gray{Float64}(0.054902)\n",
       " ⋮                         ⋱  \n",
       " Gray{Float64}(0.513725)      Gray{Float64}(0.054902)\n",
       " Gray{Float64}(0.0941176)     Gray{Float64}(0.0627451)\n",
       " Gray{Float64}(0.0588235)  …  Gray{Float64}(0.0588235)\n",
       " Gray{Float64}(0.0588235)     Gray{Float64}(0.0627451)\n",
       " Gray{Float64}(0.0627451)     Gray{Float64}(0.054902)\n",
       " Gray{Float64}(0.0666667)     Gray{Float64}(0.0627451)\n",
       " Gray{Float64}(0.0588235)     Gray{Float64}(0.0588235)\n",
       " Gray{Float64}(0.054902)   …  Gray{Float64}(0.0588235)\n",
       " Gray{Float64}(0.0470588)     Gray{Float64}(0.0588235)\n",
       " Gray{Float64}(0.0431373)     Gray{Float64}(0.054902)\n",
       " Gray{Float64}(0.0431373)     Gray{Float64}(0.054902)\n",
       " Gray{Float64}(0.0392157)     Gray{Float64}(0.0588235)"
      ]
     },
     "execution_count": 4,
     "metadata": {},
     "output_type": "execute_result"
    }
   ],
   "source": [
    "# Extraction d'une sous-image contrastée\n",
    "k    = 30;\n",
    "orig = 60;\n",
    "Aloc   = A[orig:orig+k-1,orig:orig+k-1];\n",
    "x   = (Aloc[:]);\n",
    "n   = length(x);\n",
    "m   = 500; \n",
    "Phi = randn(m,n);\n",
    "\n",
    "imhsv=colorview(Gray,float(Aloc));\n",
    "tmp=@view imhsv[:,:]\n",
    "\n",
    "#\n",
    "# Fin Extraction\n",
    "#\n"
   ]
  },
  {
   "cell_type": "markdown",
   "metadata": {},
   "source": [
    "**Question 2 :** Résoudre le problème de moindres carrés $$\\min_x || \\Phi x -y ||_2,$$ et afficher le résultat (attention, l'image doit être en niveaux de gris). Que constate-t-on?"
   ]
  },
  {
   "cell_type": "code",
   "execution_count": 31,
   "metadata": {},
   "outputs": [
    {
     "name": "stdout",
     "output_type": "stream",
     "text": [
      "248.62303637231005\n",
      "11.625991564635235"
     ]
    },
    {
     "data": {
      "image/png": "[encoded data removed]",
      "text/plain": [
       "30×30 view(reinterpret(Gray{Float64}, ::Array{Float64,2}), :, :) with eltype Gray{Float64}:\n",
       " Gray{Float64}(0.63095)    …  Gray{Float64}(0.646459)\n",
       " Gray{Float64}(0.718691)      Gray{Float64}(0.727074)\n",
       " Gray{Float64}(0.262287)      Gray{Float64}(0.578344)\n",
       " Gray{Float64}(0.753349)      Gray{Float64}(0.426646)\n",
       " Gray{Float64}(0.746131)      Gray{Float64}(0.411194)\n",
       " Gray{Float64}(0.30023)    …  Gray{Float64}(0.424616)\n",
       " Gray{Float64}(0.617815)      Gray{Float64}(0.357535)\n",
       " Gray{Float64}(0.632095)      Gray{Float64}(0.470378)\n",
       " Gray{Float64}(0.530132)      Gray{Float64}(0.498091)\n",
       " Gray{Float64}(0.555632)      Gray{Float64}(0.618115)\n",
       " Gray{Float64}(0.0143538)  …  Gray{Float64}(0.366269)\n",
       " Gray{Float64}(0.455124)      Gray{Float64}(0.873727)\n",
       " Gray{Float64}(0.554404)      Gray{Float64}(0.645929)\n",
       " ⋮                         ⋱  \n",
       " Gray{Float64}(0.598915)      Gray{Float64}(0.383683)\n",
       " Gray{Float64}(0.31317)       Gray{Float64}(0.478755)\n",
       " Gray{Float64}(0.318953)   …  Gray{Float64}(0.46985)\n",
       " Gray{Float64}(0.554235)      Gray{Float64}(0.832561)\n",
       " Gray{Float64}(0.517736)      Gray{Float64}(0.569594)\n",
       " Gray{Float64}(0.258091)      Gray{Float64}(0.244758)\n",
       " Gray{Float64}(0.775961)      Gray{Float64}(0.447837)\n",
       " Gray{Float64}(0.731015)   …  Gray{Float64}(0.605267)\n",
       " Gray{Float64}(0.508044)      Gray{Float64}(0.411414)\n",
       " Gray{Float64}(0.437032)      Gray{Float64}(0.477553)\n",
       " Gray{Float64}(0.444844)      Gray{Float64}(0.56106)\n",
       " Gray{Float64}(0.522251)      Gray{Float64}(0.616422)"
      ]
     },
     "execution_count": 31,
     "metadata": {},
     "output_type": "execute_result"
    }
   ],
   "source": [
    "y     = Phi*x ; # Vecteur des \"observations\" de l'image\n",
    "## A compléter\n",
    "result = inv(transpose(Phi)*Phi)*transpose(Phi)*y;\n",
    "result = (result.-minimum(result))/(maximum(result)-minimum(result))\n",
    "image_result = reshape(result,k,k)\n",
    "residu = norm(Phi*result-y,2)\n",
    "println(residu)\n",
    "imhsv_result=colorview(Gray,float(image_result));\n",
    "print(norm(image_result[:].-x))\n",
    "tmp=@view imhsv_result[:,:]\n",
    "## Fin à compléter"
   ]
  },
  {
   "cell_type": "markdown",
   "metadata": {
    "slideshow": {
     "slide_type": "slide"
    }
   },
   "source": [
    "#### II. Compressive sensing"
   ]
  },
  {
   "cell_type": "markdown",
   "metadata": {
    "slideshow": {
     "slide_type": "fragment"
    }
   },
   "source": [
    "\n",
    "On désire utiliser à présent la transformation discrète en cosinus pour obtenir une représentaiton parcimonieuse d'une image. Cette transfomation bijective est obtenue avec la fonction `dct`, son inverse s'appelant `idct`.\n",
    "\n",
    "A partir de la fonction IDCT de Julia, on calcule la matrice  $\\Theta = \\Phi*\\Psi$, avec $\\Psi$ la matrice représentative de IDCT dans la base canonique.\n"
   ]
  },
  {
   "cell_type": "code",
   "execution_count": 8,
   "metadata": {
    "slideshow": {
     "slide_type": "slide"
    }
   },
   "outputs": [],
   "source": [
    "Theta = zeros(m,n);\n",
    "for ii = 1:n\n",
    "    ii\n",
    "    ek = zeros(1,n);\n",
    "    ek[ii] = 1;\n",
    "    psi = idct(ek)';\n",
    "    Theta[:,ii] = Phi*psi;\n",
    "end"
   ]
  },
  {
   "cell_type": "markdown",
   "metadata": {
    "slideshow": {
     "slide_type": "slide"
    }
   },
   "source": [
    "### II.1. Utilisation d'un algorithme de sous-gradient"
   ]
  },
  {
   "cell_type": "markdown",
   "metadata": {
    "slideshow": {
     "slide_type": "slide"
    }
   },
   "source": [
    "**Qestion 3 :** Soit $\\lambda > 0$ (ici $\\lambda=100$). Expliquer l'intérêt de \n",
    " calculer $x_{sg}= \\Psi z$ où $z$ résout $$\\min_z \\frac{1}{2} ||\\Phi  \\cdot \\Psi  \\cdot z -y||_2^2+ \\lambda ||z||_1.$$ \n",
    " \n",
    "**Qestion 4 :** Justifier la convexité de la fonctionnelle et donner son sous-différentiel.\n",
    "\n",
    "**Qestion 5 :** Compléter ci-dessous le code de sous-gradient projeté. Vous considèrerez les différents choix de pas $\\alpha_i$ vus en cours, et trouverez des réglages permettant d'obtenir un bon rendu visuel. On pourra se rappeler du fait que la solution de norme minimale a une norme inférieure à dix.\n"
   ]
  },
  {
   "cell_type": "code",
   "execution_count": 9,
   "metadata": {},
   "outputs": [
    {
     "data": {
      "text/plain": [
       "sou_gradient_1 (generic function with 1 method)"
      ]
     },
     "execution_count": 9,
     "metadata": {},
     "output_type": "execute_result"
    }
   ],
   "source": [
    "function sou_gradient_1(z,alpha)\n",
    "    n = length(z)\n",
    "    somme = zeros(n,1)\n",
    "    for i=1:n\n",
    "        ek = zeros(n,1);\n",
    "        ek[i] = 1;\n",
    "        if (z[i] > 0)\n",
    "            somme = somme .+ ek\n",
    "        elseif(z[i] < 0)\n",
    "            somme = somme .- ek\n",
    "        else\n",
    "            somme = somme .+ alpha *ek\n",
    "        end\n",
    "    end\n",
    "    return somme\n",
    "end"
   ]
  },
  {
   "cell_type": "code",
   "execution_count": 111,
   "metadata": {
    "slideshow": {
     "slide_type": "slide"
    }
   },
   "outputs": [
    {
     "name": "stdout",
     "output_type": "stream",
     "text": [
      "residu : 429.2113819990544\n",
      "norm de z : 4.042568280981198"
     ]
    },
    {
     "data": {
      "image/svg+xml": [
       "<?xml version=\"1.0\" encoding=\"utf-8\"?>\n",
       "<svg xmlns=\"http://www.w3.org/2000/svg\" xmlns:xlink=\"http://www.w3.org/1999/xlink\" width=\"600\" height=\"400\" viewBox=\"0 0 2400 1600\">\n",
       "<defs>\n",
       "  <clipPath id=\"clip540\">\n",
       "    <rect x=\"0\" y=\"0\" width=\"2400\" height=\"1600\"/>\n",
       "  </clipPath>\n",
       "</defs>\n",
       "<path clip-path=\"url(#clip540)\" d=\"\n",
       "M0 1600 L2400 1600 L2400 0 L0 0  Z\n",
       "  \" fill=\"#ffffff\" fill-rule=\"evenodd\" fill-opacity=\"1\"/>\n",
       "<defs>\n",
       "  <clipPath id=\"clip541\">\n",
       "    <rect x=\"480\" y=\"0\" width=\"1681\" height=\"1600\"/>\n",
       "  </clipPath>\n",
       "</defs>\n",
       "<path clip-path=\"url(#clip540)\" d=\"\n",
       "M306.394 1423.18 L2352.76 1423.18 L2352.76 47.2441 L306.394 47.2441  Z\n",
       "  \" fill=\"#ffffff\" fill-rule=\"evenodd\" fill-opacity=\"1\"/>\n",
       "<defs>\n",
       "  <clipPath id=\"clip542\">\n",
       "    <rect x=\"306\" y=\"47\" width=\"2047\" height=\"1377\"/>\n",
       "  </clipPath>\n",
       "</defs>\n",
       "<polyline clip-path=\"url(#clip542)\" style=\"stroke:#000000; stroke-width:2; stroke-opacity:0.1; fill:none\" points=\"\n",
       "  362.379,1423.18 362.379,47.2441 \n",
       "  \"/>\n",
       "<polyline clip-path=\"url(#clip542)\" style=\"stroke:#000000; stroke-width:2; stroke-opacity:0.1; fill:none\" points=\"\n",
       "  845.012,1423.18 845.012,47.2441 \n",
       "  \"/>\n",
       "<polyline clip-path=\"url(#clip542)\" style=\"stroke:#000000; stroke-width:2; stroke-opacity:0.1; fill:none\" points=\"\n",
       "  1327.64,1423.18 1327.64,47.2441 \n",
       "  \"/>\n",
       "<polyline clip-path=\"url(#clip542)\" style=\"stroke:#000000; stroke-width:2; stroke-opacity:0.1; fill:none\" points=\"\n",
       "  1810.28,1423.18 1810.28,47.2441 \n",
       "  \"/>\n",
       "<polyline clip-path=\"url(#clip542)\" style=\"stroke:#000000; stroke-width:2; stroke-opacity:0.1; fill:none\" points=\"\n",
       "  2292.91,1423.18 2292.91,47.2441 \n",
       "  \"/>\n",
       "<polyline clip-path=\"url(#clip540)\" style=\"stroke:#000000; stroke-width:4; stroke-opacity:1; fill:none\" points=\"\n",
       "  306.394,1423.18 2352.76,1423.18 \n",
       "  \"/>\n",
       "<polyline clip-path=\"url(#clip540)\" style=\"stroke:#000000; stroke-width:4; stroke-opacity:1; fill:none\" points=\"\n",
       "  362.379,1423.18 362.379,1406.67 \n",
       "  \"/>\n",
       "<polyline clip-path=\"url(#clip540)\" style=\"stroke:#000000; stroke-width:4; stroke-opacity:1; fill:none\" points=\"\n",
       "  845.012,1423.18 845.012,1406.67 \n",
       "  \"/>\n",
       "<polyline clip-path=\"url(#clip540)\" style=\"stroke:#000000; stroke-width:4; stroke-opacity:1; fill:none\" points=\"\n",
       "  1327.64,1423.18 1327.64,1406.67 \n",
       "  \"/>\n",
       "<polyline clip-path=\"url(#clip540)\" style=\"stroke:#000000; stroke-width:4; stroke-opacity:1; fill:none\" points=\"\n",
       "  1810.28,1423.18 1810.28,1406.67 \n",
       "  \"/>\n",
       "<polyline clip-path=\"url(#clip540)\" style=\"stroke:#000000; stroke-width:4; stroke-opacity:1; fill:none\" points=\"\n",
       "  2292.91,1423.18 2292.91,1406.67 \n",
       "  \"/>\n",
       "<path clip-path=\"url(#clip540)\" d=\"M 0 0 M362.379 1452.37 Q358.768 1452.37 356.939 1455.94 Q355.134 1459.48 355.134 1466.61 Q355.134 1473.71 356.939 1477.28 Q358.768 1480.82 362.379 1480.82 Q366.013 1480.82 367.819 1477.28 Q369.647 1473.71 369.647 1466.61 Q369.647 1459.48 367.819 1455.94 Q366.013 1452.37 362.379 1452.37 M362.379 1448.67 Q368.189 1448.67 371.245 1453.27 Q374.323 1457.86 374.323 1466.61 Q374.323 1475.33 371.245 1479.94 Q368.189 1484.52 362.379 1484.52 Q356.569 1484.52 353.49 1479.94 Q350.435 1475.33 350.435 1466.61 Q350.435 1457.86 353.49 1453.27 Q356.569 1448.67 362.379 1448.67 Z\" fill=\"#000000\" fill-rule=\"evenodd\" fill-opacity=\"1\" /><path clip-path=\"url(#clip540)\" d=\"M 0 0 M813.148 1479.92 L829.468 1479.92 L829.468 1483.85 L807.523 1483.85 L807.523 1479.92 Q810.185 1477.16 814.769 1472.53 Q819.375 1467.88 820.556 1466.54 Q822.801 1464.01 823.681 1462.28 Q824.583 1460.52 824.583 1458.83 Q824.583 1456.07 822.639 1454.34 Q820.718 1452.6 817.616 1452.6 Q815.417 1452.6 812.963 1453.37 Q810.533 1454.13 807.755 1455.68 L807.755 1450.96 Q810.579 1449.82 813.033 1449.25 Q815.486 1448.67 817.523 1448.67 Q822.894 1448.67 826.088 1451.35 Q829.283 1454.04 829.283 1458.53 Q829.283 1460.66 828.472 1462.58 Q827.685 1464.48 825.579 1467.07 Q825 1467.74 821.898 1470.96 Q818.796 1474.15 813.148 1479.92 Z\" fill=\"#000000\" fill-rule=\"evenodd\" fill-opacity=\"1\" /><path clip-path=\"url(#clip540)\" d=\"M 0 0 M834.583 1449.29 L852.94 1449.29 L852.94 1453.23 L838.866 1453.23 L838.866 1461.7 Q839.884 1461.35 840.903 1461.19 Q841.921 1461 842.94 1461 Q848.727 1461 852.106 1464.18 Q855.486 1467.35 855.486 1472.76 Q855.486 1478.34 852.014 1481.44 Q848.542 1484.52 842.222 1484.52 Q840.046 1484.52 837.778 1484.15 Q835.532 1483.78 833.125 1483.04 L833.125 1478.34 Q835.208 1479.48 837.431 1480.03 Q839.653 1480.59 842.13 1480.59 Q846.134 1480.59 848.472 1478.48 Q850.81 1476.38 850.81 1472.76 Q850.81 1469.15 848.472 1467.05 Q846.134 1464.94 842.13 1464.94 Q840.255 1464.94 838.38 1465.36 Q836.528 1465.77 834.583 1466.65 L834.583 1449.29 Z\" fill=\"#000000\" fill-rule=\"evenodd\" fill-opacity=\"1\" /><path clip-path=\"url(#clip540)\" d=\"M 0 0 M870.555 1452.37 Q866.944 1452.37 865.116 1455.94 Q863.31 1459.48 863.31 1466.61 Q863.31 1473.71 865.116 1477.28 Q866.944 1480.82 870.555 1480.82 Q874.19 1480.82 875.995 1477.28 Q877.824 1473.71 877.824 1466.61 Q877.824 1459.48 875.995 1455.94 Q874.19 1452.37 870.555 1452.37 M870.555 1448.67 Q876.366 1448.67 879.421 1453.27 Q882.5 1457.86 882.5 1466.61 Q882.5 1475.33 879.421 1479.94 Q876.366 1484.52 870.555 1484.52 Q864.745 1484.52 861.667 1479.94 Q858.611 1475.33 858.611 1466.61 Q858.611 1457.86 861.667 1453.27 Q864.745 1448.67 870.555 1448.67 Z\" fill=\"#000000\" fill-rule=\"evenodd\" fill-opacity=\"1\" /><path clip-path=\"url(#clip540)\" d=\"M 0 0 M1290.91 1449.29 L1309.26 1449.29 L1309.26 1453.23 L1295.19 1453.23 L1295.19 1461.7 Q1296.21 1461.35 1297.23 1461.19 Q1298.25 1461 1299.26 1461 Q1305.05 1461 1308.43 1464.18 Q1311.81 1467.35 1311.81 1472.76 Q1311.81 1478.34 1308.34 1481.44 Q1304.87 1484.52 1298.55 1484.52 Q1296.37 1484.52 1294.1 1484.15 Q1291.86 1483.78 1289.45 1483.04 L1289.45 1478.34 Q1291.53 1479.48 1293.76 1480.03 Q1295.98 1480.59 1298.45 1480.59 Q1302.46 1480.59 1304.8 1478.48 Q1307.14 1476.38 1307.14 1472.76 Q1307.14 1469.15 1304.8 1467.05 Q1302.46 1464.94 1298.45 1464.94 Q1296.58 1464.94 1294.7 1465.36 Q1292.85 1465.77 1290.91 1466.65 L1290.91 1449.29 Z\" fill=\"#000000\" fill-rule=\"evenodd\" fill-opacity=\"1\" /><path clip-path=\"url(#clip540)\" d=\"M 0 0 M1326.88 1452.37 Q1323.27 1452.37 1321.44 1455.94 Q1319.63 1459.48 1319.63 1466.61 Q1319.63 1473.71 1321.44 1477.28 Q1323.27 1480.82 1326.88 1480.82 Q1330.51 1480.82 1332.32 1477.28 Q1334.15 1473.71 1334.15 1466.61 Q1334.15 1459.48 1332.32 1455.94 Q1330.51 1452.37 1326.88 1452.37 M1326.88 1448.67 Q1332.69 1448.67 1335.75 1453.27 Q1338.82 1457.86 1338.82 1466.61 Q1338.82 1475.33 1335.75 1479.94 Q1332.69 1484.52 1326.88 1484.52 Q1321.07 1484.52 1317.99 1479.94 Q1314.94 1475.33 1314.94 1466.61 Q1314.94 1457.86 1317.99 1453.27 Q1321.07 1448.67 1326.88 1448.67 Z\" fill=\"#000000\" fill-rule=\"evenodd\" fill-opacity=\"1\" /><path clip-path=\"url(#clip540)\" d=\"M 0 0 M1353.89 1452.37 Q1350.28 1452.37 1348.45 1455.94 Q1346.65 1459.48 1346.65 1466.61 Q1346.65 1473.71 1348.45 1477.28 Q1350.28 1480.82 1353.89 1480.82 Q1357.53 1480.82 1359.33 1477.28 Q1361.16 1473.71 1361.16 1466.61 Q1361.16 1459.48 1359.33 1455.94 Q1357.53 1452.37 1353.89 1452.37 M1353.89 1448.67 Q1359.7 1448.67 1362.76 1453.27 Q1365.84 1457.86 1365.84 1466.61 Q1365.84 1475.33 1362.76 1479.94 Q1359.7 1484.52 1353.89 1484.52 Q1348.08 1484.52 1345.01 1479.94 Q1341.95 1475.33 1341.95 1466.61 Q1341.95 1457.86 1345.01 1453.27 Q1348.08 1448.67 1353.89 1448.67 Z\" fill=\"#000000\" fill-rule=\"evenodd\" fill-opacity=\"1\" /><path clip-path=\"url(#clip540)\" d=\"M 0 0 M1772.65 1449.29 L1794.87 1449.29 L1794.87 1451.28 L1782.33 1483.85 L1777.44 1483.85 L1789.25 1453.23 L1772.65 1453.23 L1772.65 1449.29 Z\" fill=\"#000000\" fill-rule=\"evenodd\" fill-opacity=\"1\" /><path clip-path=\"url(#clip540)\" d=\"M 0 0 M1799.99 1449.29 L1818.34 1449.29 L1818.34 1453.23 L1804.27 1453.23 L1804.27 1461.7 Q1805.29 1461.35 1806.31 1461.19 Q1807.33 1461 1808.34 1461 Q1814.13 1461 1817.51 1464.18 Q1820.89 1467.35 1820.89 1472.76 Q1820.89 1478.34 1817.42 1481.44 Q1813.95 1484.52 1807.63 1484.52 Q1805.45 1484.52 1803.18 1484.15 Q1800.94 1483.78 1798.53 1483.04 L1798.53 1478.34 Q1800.61 1479.48 1802.83 1480.03 Q1805.06 1480.59 1807.53 1480.59 Q1811.54 1480.59 1813.88 1478.48 Q1816.21 1476.38 1816.21 1472.76 Q1816.21 1469.15 1813.88 1467.05 Q1811.54 1464.94 1807.53 1464.94 Q1805.66 1464.94 1803.78 1465.36 Q1801.93 1465.77 1799.99 1466.65 L1799.99 1449.29 Z\" fill=\"#000000\" fill-rule=\"evenodd\" fill-opacity=\"1\" /><path clip-path=\"url(#clip540)\" d=\"M 0 0 M1835.96 1452.37 Q1832.35 1452.37 1830.52 1455.94 Q1828.71 1459.48 1828.71 1466.61 Q1828.71 1473.71 1830.52 1477.28 Q1832.35 1480.82 1835.96 1480.82 Q1839.59 1480.82 1841.4 1477.28 Q1843.23 1473.71 1843.23 1466.61 Q1843.23 1459.48 1841.4 1455.94 Q1839.59 1452.37 1835.96 1452.37 M1835.96 1448.67 Q1841.77 1448.67 1844.83 1453.27 Q1847.9 1457.86 1847.9 1466.61 Q1847.9 1475.33 1844.83 1479.94 Q1841.77 1484.52 1835.96 1484.52 Q1830.15 1484.52 1827.07 1479.94 Q1824.02 1475.33 1824.02 1466.61 Q1824.02 1457.86 1827.07 1453.27 Q1830.15 1448.67 1835.96 1448.67 Z\" fill=\"#000000\" fill-rule=\"evenodd\" fill-opacity=\"1\" /><path clip-path=\"url(#clip540)\" d=\"M 0 0 M2242.77 1479.92 L2250.41 1479.92 L2250.41 1453.55 L2242.1 1455.22 L2242.1 1450.96 L2250.36 1449.29 L2255.04 1449.29 L2255.04 1479.92 L2262.68 1479.92 L2262.68 1483.85 L2242.77 1483.85 L2242.77 1479.92 Z\" fill=\"#000000\" fill-rule=\"evenodd\" fill-opacity=\"1\" /><path clip-path=\"url(#clip540)\" d=\"M 0 0 M2277.75 1452.37 Q2274.14 1452.37 2272.31 1455.94 Q2270.5 1459.48 2270.5 1466.61 Q2270.5 1473.71 2272.31 1477.28 Q2274.14 1480.82 2277.75 1480.82 Q2281.38 1480.82 2283.19 1477.28 Q2285.02 1473.71 2285.02 1466.61 Q2285.02 1459.48 2283.19 1455.94 Q2281.38 1452.37 2277.75 1452.37 M2277.75 1448.67 Q2283.56 1448.67 2286.61 1453.27 Q2289.69 1457.86 2289.69 1466.61 Q2289.69 1475.33 2286.61 1479.94 Q2283.56 1484.52 2277.75 1484.52 Q2271.94 1484.52 2268.86 1479.94 Q2265.8 1475.33 2265.8 1466.61 Q2265.8 1457.86 2268.86 1453.27 Q2271.94 1448.67 2277.75 1448.67 Z\" fill=\"#000000\" fill-rule=\"evenodd\" fill-opacity=\"1\" /><path clip-path=\"url(#clip540)\" d=\"M 0 0 M2304.76 1452.37 Q2301.15 1452.37 2299.32 1455.94 Q2297.52 1459.48 2297.52 1466.61 Q2297.52 1473.71 2299.32 1477.28 Q2301.15 1480.82 2304.76 1480.82 Q2308.4 1480.82 2310.2 1477.28 Q2312.03 1473.71 2312.03 1466.61 Q2312.03 1459.48 2310.2 1455.94 Q2308.4 1452.37 2304.76 1452.37 M2304.76 1448.67 Q2310.57 1448.67 2313.63 1453.27 Q2316.71 1457.86 2316.71 1466.61 Q2316.71 1475.33 2313.63 1479.94 Q2310.57 1484.52 2304.76 1484.52 Q2298.95 1484.52 2295.87 1479.94 Q2292.82 1475.33 2292.82 1466.61 Q2292.82 1457.86 2295.87 1453.27 Q2298.95 1448.67 2304.76 1448.67 Z\" fill=\"#000000\" fill-rule=\"evenodd\" fill-opacity=\"1\" /><path clip-path=\"url(#clip540)\" d=\"M 0 0 M2331.77 1452.37 Q2328.16 1452.37 2326.34 1455.94 Q2324.53 1459.48 2324.53 1466.61 Q2324.53 1473.71 2326.34 1477.28 Q2328.16 1480.82 2331.77 1480.82 Q2335.41 1480.82 2337.21 1477.28 Q2339.04 1473.71 2339.04 1466.61 Q2339.04 1459.48 2337.21 1455.94 Q2335.41 1452.37 2331.77 1452.37 M2331.77 1448.67 Q2337.59 1448.67 2340.64 1453.27 Q2343.72 1457.86 2343.72 1466.61 Q2343.72 1475.33 2340.64 1479.94 Q2337.59 1484.52 2331.77 1484.52 Q2325.96 1484.52 2322.89 1479.94 Q2319.83 1475.33 2319.83 1466.61 Q2319.83 1457.86 2322.89 1453.27 Q2325.96 1448.67 2331.77 1448.67 Z\" fill=\"#000000\" fill-rule=\"evenodd\" fill-opacity=\"1\" /><path clip-path=\"url(#clip540)\" d=\"M 0 0 M1196.48 1520.4 L1202.34 1520.4 L1202.34 1556.04 L1196.48 1556.04 L1196.48 1520.4 M1196.48 1506.52 L1202.34 1506.52 L1202.34 1513.93 L1196.48 1513.93 L1196.48 1506.52 Z\" fill=\"#000000\" fill-rule=\"evenodd\" fill-opacity=\"1\" /><path clip-path=\"url(#clip540)\" d=\"M 0 0 M1214.28 1510.27 L1214.28 1520.4 L1226.34 1520.4 L1226.34 1524.95 L1214.28 1524.95 L1214.28 1544.3 Q1214.28 1548.66 1215.45 1549.9 Q1216.66 1551.14 1220.32 1551.14 L1226.34 1551.14 L1226.34 1556.04 L1220.32 1556.04 Q1213.54 1556.04 1210.97 1553.53 Q1208.39 1550.98 1208.39 1544.3 L1208.39 1524.95 L1204.09 1524.95 L1204.09 1520.4 L1208.39 1520.4 L1208.39 1510.27 L1214.28 1510.27 Z\" fill=\"#000000\" fill-rule=\"evenodd\" fill-opacity=\"1\" /><path clip-path=\"url(#clip540)\" d=\"M 0 0 M1262.97 1536.76 L1262.97 1539.62 L1236.05 1539.62 Q1236.43 1545.67 1239.68 1548.85 Q1242.95 1552 1248.78 1552 Q1252.15 1552 1255.3 1551.17 Q1258.49 1550.35 1261.6 1548.69 L1261.6 1554.23 Q1258.45 1555.57 1255.14 1556.27 Q1251.83 1556.97 1248.43 1556.97 Q1239.9 1556.97 1234.9 1552 Q1229.94 1547.04 1229.94 1538.57 Q1229.94 1529.82 1234.65 1524.69 Q1239.39 1519.54 1247.41 1519.54 Q1254.6 1519.54 1258.77 1524.18 Q1262.97 1528.8 1262.97 1536.76 M1257.12 1535.04 Q1257.05 1530.23 1254.41 1527.37 Q1251.8 1524.5 1247.47 1524.5 Q1242.57 1524.5 1239.61 1527.27 Q1236.68 1530.04 1236.24 1535.07 L1257.12 1535.04 Z\" fill=\"#000000\" fill-rule=\"evenodd\" fill-opacity=\"1\" /><path clip-path=\"url(#clip540)\" d=\"M 0 0 M1289.77 1525.87 Q1288.79 1525.3 1287.61 1525.04 Q1286.46 1524.76 1285.06 1524.76 Q1280.1 1524.76 1277.42 1528 Q1274.78 1531.22 1274.78 1537.27 L1274.78 1556.04 L1268.89 1556.04 L1268.89 1520.4 L1274.78 1520.4 L1274.78 1525.93 Q1276.63 1522.69 1279.59 1521.13 Q1282.55 1519.54 1286.78 1519.54 Q1287.39 1519.54 1288.12 1519.63 Q1288.85 1519.7 1289.74 1519.85 L1289.77 1525.87 Z\" fill=\"#000000\" fill-rule=\"evenodd\" fill-opacity=\"1\" /><path clip-path=\"url(#clip540)\" d=\"M 0 0 M1312.12 1538.12 Q1305.02 1538.12 1302.28 1539.75 Q1299.54 1541.37 1299.54 1545.29 Q1299.54 1548.4 1301.58 1550.25 Q1303.65 1552.07 1307.18 1552.07 Q1312.05 1552.07 1314.98 1548.63 Q1317.94 1545.16 1317.94 1539.43 L1317.94 1538.12 L1312.12 1538.12 M1323.8 1535.71 L1323.8 1556.04 L1317.94 1556.04 L1317.94 1550.63 Q1315.94 1553.88 1312.94 1555.44 Q1309.95 1556.97 1305.62 1556.97 Q1300.15 1556.97 1296.9 1553.91 Q1293.69 1550.82 1293.69 1545.67 Q1293.69 1539.65 1297.7 1536.6 Q1301.74 1533.54 1309.73 1533.54 L1317.94 1533.54 L1317.94 1532.97 Q1317.94 1528.93 1315.27 1526.73 Q1312.63 1524.5 1307.82 1524.5 Q1304.76 1524.5 1301.87 1525.23 Q1298.97 1525.97 1296.3 1527.43 L1296.3 1522.02 Q1299.51 1520.78 1302.54 1520.17 Q1305.56 1519.54 1308.42 1519.54 Q1316.16 1519.54 1319.98 1523.55 Q1323.8 1527.56 1323.8 1535.71 Z\" fill=\"#000000\" fill-rule=\"evenodd\" fill-opacity=\"1\" /><path clip-path=\"url(#clip540)\" d=\"M 0 0 M1335.73 1510.27 L1335.73 1520.4 L1347.8 1520.4 L1347.8 1524.95 L1335.73 1524.95 L1335.73 1544.3 Q1335.73 1548.66 1336.91 1549.9 Q1338.12 1551.14 1341.78 1551.14 L1347.8 1551.14 L1347.8 1556.04 L1341.78 1556.04 Q1335 1556.04 1332.42 1553.53 Q1329.85 1550.98 1329.85 1544.3 L1329.85 1524.95 L1325.55 1524.95 L1325.55 1520.4 L1329.85 1520.4 L1329.85 1510.27 L1335.73 1510.27 Z\" fill=\"#000000\" fill-rule=\"evenodd\" fill-opacity=\"1\" /><path clip-path=\"url(#clip540)\" d=\"M 0 0 M1353.94 1520.4 L1359.8 1520.4 L1359.8 1556.04 L1353.94 1556.04 L1353.94 1520.4 M1353.94 1506.52 L1359.8 1506.52 L1359.8 1513.93 L1353.94 1513.93 L1353.94 1506.52 Z\" fill=\"#000000\" fill-rule=\"evenodd\" fill-opacity=\"1\" /><path clip-path=\"url(#clip540)\" d=\"M 0 0 M1379.75 1524.5 Q1375.04 1524.5 1372.3 1528.19 Q1369.57 1531.85 1369.57 1538.25 Q1369.57 1544.65 1372.27 1548.34 Q1375.01 1552 1379.75 1552 Q1384.43 1552 1387.17 1548.31 Q1389.91 1544.62 1389.91 1538.25 Q1389.91 1531.92 1387.17 1528.23 Q1384.43 1524.5 1379.75 1524.5 M1379.75 1519.54 Q1387.39 1519.54 1391.75 1524.5 Q1396.11 1529.47 1396.11 1538.25 Q1396.11 1547 1391.75 1552 Q1387.39 1556.97 1379.75 1556.97 Q1372.08 1556.97 1367.72 1552 Q1363.39 1547 1363.39 1538.25 Q1363.39 1529.47 1367.72 1524.5 Q1372.08 1519.54 1379.75 1519.54 Z\" fill=\"#000000\" fill-rule=\"evenodd\" fill-opacity=\"1\" /><path clip-path=\"url(#clip540)\" d=\"M 0 0 M1431.89 1534.53 L1431.89 1556.04 L1426.03 1556.04 L1426.03 1534.72 Q1426.03 1529.66 1424.06 1527.14 Q1422.08 1524.63 1418.14 1524.63 Q1413.4 1524.63 1410.66 1527.65 Q1407.92 1530.68 1407.92 1535.9 L1407.92 1556.04 L1402.03 1556.04 L1402.03 1520.4 L1407.92 1520.4 L1407.92 1525.93 Q1410.02 1522.72 1412.85 1521.13 Q1415.72 1519.54 1419.44 1519.54 Q1425.59 1519.54 1428.74 1523.36 Q1431.89 1527.14 1431.89 1534.53 Z\" fill=\"#000000\" fill-rule=\"evenodd\" fill-opacity=\"1\" /><path clip-path=\"url(#clip540)\" d=\"M 0 0 M1460.76 1521.45 L1460.76 1526.98 Q1458.27 1525.71 1455.6 1525.07 Q1452.93 1524.44 1450.06 1524.44 Q1445.7 1524.44 1443.5 1525.77 Q1441.34 1527.11 1441.34 1529.79 Q1441.34 1531.82 1442.9 1533 Q1444.46 1534.15 1449.17 1535.2 L1451.18 1535.64 Q1457.41 1536.98 1460.02 1539.43 Q1462.67 1541.85 1462.67 1546.21 Q1462.67 1551.17 1458.72 1554.07 Q1454.8 1556.97 1447.93 1556.97 Q1445.06 1556.97 1441.95 1556.39 Q1438.86 1555.85 1435.42 1554.74 L1435.42 1548.69 Q1438.67 1550.38 1441.82 1551.24 Q1444.97 1552.07 1448.06 1552.07 Q1452.19 1552.07 1454.42 1550.66 Q1456.65 1549.23 1456.65 1546.65 Q1456.65 1544.27 1455.03 1542.99 Q1453.44 1541.72 1447.99 1540.54 L1445.96 1540.07 Q1440.51 1538.92 1438.09 1536.56 Q1435.68 1534.18 1435.68 1530.04 Q1435.68 1525.01 1439.24 1522.27 Q1442.8 1519.54 1449.36 1519.54 Q1452.61 1519.54 1455.47 1520.01 Q1458.34 1520.49 1460.76 1521.45 Z\" fill=\"#000000\" fill-rule=\"evenodd\" fill-opacity=\"1\" /><polyline clip-path=\"url(#clip542)\" style=\"stroke:#000000; stroke-width:2; stroke-opacity:0.1; fill:none\" points=\"\n",
       "  306.394,1119.78 2352.76,1119.78 \n",
       "  \"/>\n",
       "<polyline clip-path=\"url(#clip542)\" style=\"stroke:#000000; stroke-width:2; stroke-opacity:0.1; fill:none\" points=\"\n",
       "  306.394,791.849 2352.76,791.849 \n",
       "  \"/>\n",
       "<polyline clip-path=\"url(#clip542)\" style=\"stroke:#000000; stroke-width:2; stroke-opacity:0.1; fill:none\" points=\"\n",
       "  306.394,463.919 2352.76,463.919 \n",
       "  \"/>\n",
       "<polyline clip-path=\"url(#clip542)\" style=\"stroke:#000000; stroke-width:2; stroke-opacity:0.1; fill:none\" points=\"\n",
       "  306.394,135.989 2352.76,135.989 \n",
       "  \"/>\n",
       "<polyline clip-path=\"url(#clip540)\" style=\"stroke:#000000; stroke-width:4; stroke-opacity:1; fill:none\" points=\"\n",
       "  306.394,1423.18 306.394,47.2441 \n",
       "  \"/>\n",
       "<polyline clip-path=\"url(#clip540)\" style=\"stroke:#000000; stroke-width:4; stroke-opacity:1; fill:none\" points=\"\n",
       "  306.394,1119.78 330.95,1119.78 \n",
       "  \"/>\n",
       "<polyline clip-path=\"url(#clip540)\" style=\"stroke:#000000; stroke-width:4; stroke-opacity:1; fill:none\" points=\"\n",
       "  306.394,791.849 330.95,791.849 \n",
       "  \"/>\n",
       "<polyline clip-path=\"url(#clip540)\" style=\"stroke:#000000; stroke-width:4; stroke-opacity:1; fill:none\" points=\"\n",
       "  306.394,463.919 330.95,463.919 \n",
       "  \"/>\n",
       "<polyline clip-path=\"url(#clip540)\" style=\"stroke:#000000; stroke-width:4; stroke-opacity:1; fill:none\" points=\"\n",
       "  306.394,135.989 330.95,135.989 \n",
       "  \"/>\n",
       "<path clip-path=\"url(#clip540)\" d=\"M 0 0 M116.644 1133.12 L124.283 1133.12 L124.283 1106.76 L115.973 1108.43 L115.973 1104.17 L124.237 1102.5 L128.913 1102.5 L128.913 1133.12 L136.552 1133.12 L136.552 1137.06 L116.644 1137.06 L116.644 1133.12 Z\" fill=\"#000000\" fill-rule=\"evenodd\" fill-opacity=\"1\" /><path clip-path=\"url(#clip540)\" d=\"M 0 0 M151.621 1105.58 Q148.01 1105.58 146.181 1109.14 Q144.376 1112.68 144.376 1119.81 Q144.376 1126.92 146.181 1130.49 Q148.01 1134.03 151.621 1134.03 Q155.255 1134.03 157.061 1130.49 Q158.89 1126.92 158.89 1119.81 Q158.89 1112.68 157.061 1109.14 Q155.255 1105.58 151.621 1105.58 M151.621 1101.87 Q157.431 1101.87 160.487 1106.48 Q163.565 1111.06 163.565 1119.81 Q163.565 1128.54 160.487 1133.15 Q157.431 1137.73 151.621 1137.73 Q145.811 1137.73 142.732 1133.15 Q139.677 1128.54 139.677 1119.81 Q139.677 1111.06 142.732 1106.48 Q145.811 1101.87 151.621 1101.87 Z\" fill=\"#000000\" fill-rule=\"evenodd\" fill-opacity=\"1\" /><path clip-path=\"url(#clip540)\" d=\"M 0 0 M169.445 1133.12 L177.084 1133.12 L177.084 1106.76 L168.774 1108.43 L168.774 1104.17 L177.038 1102.5 L181.713 1102.5 L181.713 1133.12 L189.352 1133.12 L189.352 1137.06 L169.445 1137.06 L169.445 1133.12 Z\" fill=\"#000000\" fill-rule=\"evenodd\" fill-opacity=\"1\" /><path clip-path=\"url(#clip540)\" d=\"M 0 0 M204.422 1105.58 Q200.811 1105.58 198.982 1109.14 Q197.176 1112.68 197.176 1119.81 Q197.176 1126.92 198.982 1130.49 Q200.811 1134.03 204.422 1134.03 Q208.056 1134.03 209.861 1130.49 Q211.69 1126.92 211.69 1119.81 Q211.69 1112.68 209.861 1109.14 Q208.056 1105.58 204.422 1105.58 M204.422 1101.87 Q210.232 1101.87 213.287 1106.48 Q216.366 1111.06 216.366 1119.81 Q216.366 1128.54 213.287 1133.15 Q210.232 1137.73 204.422 1137.73 Q198.612 1137.73 195.533 1133.15 Q192.477 1128.54 192.477 1119.81 Q192.477 1111.06 195.533 1106.48 Q198.612 1101.87 204.422 1101.87 Z\" fill=\"#000000\" fill-rule=\"evenodd\" fill-opacity=\"1\" /><path clip-path=\"url(#clip540)\" d=\"M 0 0 M231.435 1105.58 Q227.824 1105.58 225.996 1109.14 Q224.19 1112.68 224.19 1119.81 Q224.19 1126.92 225.996 1130.49 Q227.824 1134.03 231.435 1134.03 Q235.07 1134.03 236.875 1130.49 Q238.704 1126.92 238.704 1119.81 Q238.704 1112.68 236.875 1109.14 Q235.07 1105.58 231.435 1105.58 M231.435 1101.87 Q237.246 1101.87 240.301 1106.48 Q243.38 1111.06 243.38 1119.81 Q243.38 1128.54 240.301 1133.15 Q237.246 1137.73 231.435 1137.73 Q225.625 1137.73 222.547 1133.15 Q219.491 1128.54 219.491 1119.81 Q219.491 1111.06 222.547 1106.48 Q225.625 1101.87 231.435 1101.87 Z\" fill=\"#000000\" fill-rule=\"evenodd\" fill-opacity=\"1\" /><path clip-path=\"url(#clip540)\" d=\"M 0 0 M258.449 1105.58 Q254.838 1105.58 253.009 1109.14 Q251.204 1112.68 251.204 1119.81 Q251.204 1126.92 253.009 1130.49 Q254.838 1134.03 258.449 1134.03 Q262.083 1134.03 263.889 1130.49 Q265.718 1126.92 265.718 1119.81 Q265.718 1112.68 263.889 1109.14 Q262.083 1105.58 258.449 1105.58 M258.449 1101.87 Q264.259 1101.87 267.315 1106.48 Q270.394 1111.06 270.394 1119.81 Q270.394 1128.54 267.315 1133.15 Q264.259 1137.73 258.449 1137.73 Q252.639 1137.73 249.56 1133.15 Q246.505 1128.54 246.505 1119.81 Q246.505 1111.06 249.56 1106.48 Q252.639 1101.87 258.449 1101.87 Z\" fill=\"#000000\" fill-rule=\"evenodd\" fill-opacity=\"1\" /><path clip-path=\"url(#clip540)\" d=\"M 0 0 M117.015 805.194 L124.654 805.194 L124.654 778.828 L116.343 780.495 L116.343 776.236 L124.607 774.569 L129.283 774.569 L129.283 805.194 L136.922 805.194 L136.922 809.129 L117.015 809.129 L117.015 805.194 Z\" fill=\"#000000\" fill-rule=\"evenodd\" fill-opacity=\"1\" /><path clip-path=\"url(#clip540)\" d=\"M 0 0 M151.991 777.648 Q148.38 777.648 146.552 781.213 Q144.746 784.754 144.746 791.884 Q144.746 798.99 146.552 802.555 Q148.38 806.097 151.991 806.097 Q155.626 806.097 157.431 802.555 Q159.26 798.99 159.26 791.884 Q159.26 784.754 157.431 781.213 Q155.626 777.648 151.991 777.648 M151.991 773.944 Q157.802 773.944 160.857 778.551 Q163.936 783.134 163.936 791.884 Q163.936 800.611 160.857 805.217 Q157.802 809.801 151.991 809.801 Q146.181 809.801 143.103 805.217 Q140.047 800.611 140.047 791.884 Q140.047 783.134 143.103 778.551 Q146.181 773.944 151.991 773.944 Z\" fill=\"#000000\" fill-rule=\"evenodd\" fill-opacity=\"1\" /><path clip-path=\"url(#clip540)\" d=\"M 0 0 M173.033 805.194 L189.352 805.194 L189.352 809.129 L167.408 809.129 L167.408 805.194 Q170.07 802.439 174.653 797.81 Q179.26 793.157 180.44 791.814 Q182.686 789.291 183.565 787.555 Q184.468 785.796 184.468 784.106 Q184.468 781.352 182.524 779.615 Q180.602 777.879 177.501 777.879 Q175.301 777.879 172.848 778.643 Q170.417 779.407 167.64 780.958 L167.64 776.236 Q170.464 775.102 172.917 774.523 Q175.371 773.944 177.408 773.944 Q182.778 773.944 185.973 776.629 Q189.167 779.315 189.167 783.805 Q189.167 785.935 188.357 787.856 Q187.57 789.754 185.463 792.347 Q184.885 793.018 181.783 796.236 Q178.681 799.43 173.033 805.194 Z\" fill=\"#000000\" fill-rule=\"evenodd\" fill-opacity=\"1\" /><path clip-path=\"url(#clip540)\" d=\"M 0 0 M204.422 777.648 Q200.811 777.648 198.982 781.213 Q197.176 784.754 197.176 791.884 Q197.176 798.99 198.982 802.555 Q200.811 806.097 204.422 806.097 Q208.056 806.097 209.861 802.555 Q211.69 798.99 211.69 791.884 Q211.69 784.754 209.861 781.213 Q208.056 777.648 204.422 777.648 M204.422 773.944 Q210.232 773.944 213.287 778.551 Q216.366 783.134 216.366 791.884 Q216.366 800.611 213.287 805.217 Q210.232 809.801 204.422 809.801 Q198.612 809.801 195.533 805.217 Q192.477 800.611 192.477 791.884 Q192.477 783.134 195.533 778.551 Q198.612 773.944 204.422 773.944 Z\" fill=\"#000000\" fill-rule=\"evenodd\" fill-opacity=\"1\" /><path clip-path=\"url(#clip540)\" d=\"M 0 0 M231.435 777.648 Q227.824 777.648 225.996 781.213 Q224.19 784.754 224.19 791.884 Q224.19 798.99 225.996 802.555 Q227.824 806.097 231.435 806.097 Q235.07 806.097 236.875 802.555 Q238.704 798.99 238.704 791.884 Q238.704 784.754 236.875 781.213 Q235.07 777.648 231.435 777.648 M231.435 773.944 Q237.246 773.944 240.301 778.551 Q243.38 783.134 243.38 791.884 Q243.38 800.611 240.301 805.217 Q237.246 809.801 231.435 809.801 Q225.625 809.801 222.547 805.217 Q219.491 800.611 219.491 791.884 Q219.491 783.134 222.547 778.551 Q225.625 773.944 231.435 773.944 Z\" fill=\"#000000\" fill-rule=\"evenodd\" fill-opacity=\"1\" /><path clip-path=\"url(#clip540)\" d=\"M 0 0 M258.449 777.648 Q254.838 777.648 253.009 781.213 Q251.204 784.754 251.204 791.884 Q251.204 798.99 253.009 802.555 Q254.838 806.097 258.449 806.097 Q262.083 806.097 263.889 802.555 Q265.718 798.99 265.718 791.884 Q265.718 784.754 263.889 781.213 Q262.083 777.648 258.449 777.648 M258.449 773.944 Q264.259 773.944 267.315 778.551 Q270.394 783.134 270.394 791.884 Q270.394 800.611 267.315 805.217 Q264.259 809.801 258.449 809.801 Q252.639 809.801 249.56 805.217 Q246.505 800.611 246.505 791.884 Q246.505 783.134 249.56 778.551 Q252.639 773.944 258.449 773.944 Z\" fill=\"#000000\" fill-rule=\"evenodd\" fill-opacity=\"1\" /><path clip-path=\"url(#clip540)\" d=\"M 0 0 M116.066 477.264 L123.705 477.264 L123.705 450.898 L115.394 452.565 L115.394 448.306 L123.658 446.639 L128.334 446.639 L128.334 477.264 L135.973 477.264 L135.973 481.199 L116.066 481.199 L116.066 477.264 Z\" fill=\"#000000\" fill-rule=\"evenodd\" fill-opacity=\"1\" /><path clip-path=\"url(#clip540)\" d=\"M 0 0 M151.042 449.718 Q147.431 449.718 145.603 453.282 Q143.797 456.824 143.797 463.954 Q143.797 471.06 145.603 474.625 Q147.431 478.167 151.042 478.167 Q154.677 478.167 156.482 474.625 Q158.311 471.06 158.311 463.954 Q158.311 456.824 156.482 453.282 Q154.677 449.718 151.042 449.718 M151.042 446.014 Q156.853 446.014 159.908 450.62 Q162.987 455.204 162.987 463.954 Q162.987 472.68 159.908 477.287 Q156.853 481.87 151.042 481.87 Q145.232 481.87 142.154 477.287 Q139.098 472.68 139.098 463.954 Q139.098 455.204 142.154 450.62 Q145.232 446.014 151.042 446.014 Z\" fill=\"#000000\" fill-rule=\"evenodd\" fill-opacity=\"1\" /><path clip-path=\"url(#clip540)\" d=\"M 0 0 M182.223 462.565 Q185.579 463.282 187.454 465.551 Q189.352 467.819 189.352 471.153 Q189.352 476.268 185.834 479.069 Q182.315 481.87 175.834 481.87 Q173.658 481.87 171.343 481.43 Q169.052 481.014 166.598 480.157 L166.598 475.643 Q168.542 476.778 170.857 477.356 Q173.172 477.935 175.695 477.935 Q180.093 477.935 182.385 476.199 Q184.7 474.463 184.7 471.153 Q184.7 468.097 182.547 466.384 Q180.417 464.648 176.598 464.648 L172.57 464.648 L172.57 460.806 L176.783 460.806 Q180.232 460.806 182.061 459.44 Q183.889 458.051 183.889 455.458 Q183.889 452.796 181.991 451.384 Q180.116 449.949 176.598 449.949 Q174.677 449.949 172.477 450.366 Q170.278 450.782 167.64 451.662 L167.64 447.495 Q170.302 446.755 172.616 446.384 Q174.954 446.014 177.014 446.014 Q182.338 446.014 185.44 448.445 Q188.542 450.852 188.542 454.972 Q188.542 457.843 186.899 459.833 Q185.255 461.801 182.223 462.565 Z\" fill=\"#000000\" fill-rule=\"evenodd\" fill-opacity=\"1\" /><path clip-path=\"url(#clip540)\" d=\"M 0 0 M204.422 449.718 Q200.811 449.718 198.982 453.282 Q197.176 456.824 197.176 463.954 Q197.176 471.06 198.982 474.625 Q200.811 478.167 204.422 478.167 Q208.056 478.167 209.861 474.625 Q211.69 471.06 211.69 463.954 Q211.69 456.824 209.861 453.282 Q208.056 449.718 204.422 449.718 M204.422 446.014 Q210.232 446.014 213.287 450.62 Q216.366 455.204 216.366 463.954 Q216.366 472.68 213.287 477.287 Q210.232 481.87 204.422 481.87 Q198.612 481.87 195.533 477.287 Q192.477 472.68 192.477 463.954 Q192.477 455.204 195.533 450.62 Q198.612 446.014 204.422 446.014 Z\" fill=\"#000000\" fill-rule=\"evenodd\" fill-opacity=\"1\" /><path clip-path=\"url(#clip540)\" d=\"M 0 0 M231.435 449.718 Q227.824 449.718 225.996 453.282 Q224.19 456.824 224.19 463.954 Q224.19 471.06 225.996 474.625 Q227.824 478.167 231.435 478.167 Q235.07 478.167 236.875 474.625 Q238.704 471.06 238.704 463.954 Q238.704 456.824 236.875 453.282 Q235.07 449.718 231.435 449.718 M231.435 446.014 Q237.246 446.014 240.301 450.62 Q243.38 455.204 243.38 463.954 Q243.38 472.68 240.301 477.287 Q237.246 481.87 231.435 481.87 Q225.625 481.87 222.547 477.287 Q219.491 472.68 219.491 463.954 Q219.491 455.204 222.547 450.62 Q225.625 446.014 231.435 446.014 Z\" fill=\"#000000\" fill-rule=\"evenodd\" fill-opacity=\"1\" /><path clip-path=\"url(#clip540)\" d=\"M 0 0 M258.449 449.718 Q254.838 449.718 253.009 453.282 Q251.204 456.824 251.204 463.954 Q251.204 471.06 253.009 474.625 Q254.838 478.167 258.449 478.167 Q262.083 478.167 263.889 474.625 Q265.718 471.06 265.718 463.954 Q265.718 456.824 263.889 453.282 Q262.083 449.718 258.449 449.718 M258.449 446.014 Q264.259 446.014 267.315 450.62 Q270.394 455.204 270.394 463.954 Q270.394 472.68 267.315 477.287 Q264.259 481.87 258.449 481.87 Q252.639 481.87 249.56 477.287 Q246.505 472.68 246.505 463.954 Q246.505 455.204 249.56 450.62 Q252.639 446.014 258.449 446.014 Z\" fill=\"#000000\" fill-rule=\"evenodd\" fill-opacity=\"1\" /><path clip-path=\"url(#clip540)\" d=\"M 0 0 M114.931 149.334 L122.57 149.334 L122.57 122.968 L114.26 124.635 L114.26 120.375 L122.524 118.709 L127.2 118.709 L127.2 149.334 L134.839 149.334 L134.839 153.269 L114.931 153.269 L114.931 149.334 Z\" fill=\"#000000\" fill-rule=\"evenodd\" fill-opacity=\"1\" /><path clip-path=\"url(#clip540)\" d=\"M 0 0 M149.908 121.787 Q146.297 121.787 144.468 125.352 Q142.663 128.894 142.663 136.023 Q142.663 143.13 144.468 146.695 Q146.297 150.236 149.908 150.236 Q153.542 150.236 155.348 146.695 Q157.177 143.13 157.177 136.023 Q157.177 128.894 155.348 125.352 Q153.542 121.787 149.908 121.787 M149.908 118.084 Q155.718 118.084 158.774 122.69 Q161.852 127.273 161.852 136.023 Q161.852 144.75 158.774 149.357 Q155.718 153.94 149.908 153.94 Q144.098 153.94 141.019 149.357 Q137.964 144.75 137.964 136.023 Q137.964 127.273 141.019 122.69 Q144.098 118.084 149.908 118.084 Z\" fill=\"#000000\" fill-rule=\"evenodd\" fill-opacity=\"1\" /><path clip-path=\"url(#clip540)\" d=\"M 0 0 M179.769 122.783 L167.964 141.232 L179.769 141.232 L179.769 122.783 M178.542 118.709 L184.422 118.709 L184.422 141.232 L189.352 141.232 L189.352 145.121 L184.422 145.121 L184.422 153.269 L179.769 153.269 L179.769 145.121 L164.167 145.121 L164.167 140.607 L178.542 118.709 Z\" fill=\"#000000\" fill-rule=\"evenodd\" fill-opacity=\"1\" /><path clip-path=\"url(#clip540)\" d=\"M 0 0 M204.422 121.787 Q200.811 121.787 198.982 125.352 Q197.176 128.894 197.176 136.023 Q197.176 143.13 198.982 146.695 Q200.811 150.236 204.422 150.236 Q208.056 150.236 209.861 146.695 Q211.69 143.13 211.69 136.023 Q211.69 128.894 209.861 125.352 Q208.056 121.787 204.422 121.787 M204.422 118.084 Q210.232 118.084 213.287 122.69 Q216.366 127.273 216.366 136.023 Q216.366 144.75 213.287 149.357 Q210.232 153.94 204.422 153.94 Q198.612 153.94 195.533 149.357 Q192.477 144.75 192.477 136.023 Q192.477 127.273 195.533 122.69 Q198.612 118.084 204.422 118.084 Z\" fill=\"#000000\" fill-rule=\"evenodd\" fill-opacity=\"1\" /><path clip-path=\"url(#clip540)\" d=\"M 0 0 M231.435 121.787 Q227.824 121.787 225.996 125.352 Q224.19 128.894 224.19 136.023 Q224.19 143.13 225.996 146.695 Q227.824 150.236 231.435 150.236 Q235.07 150.236 236.875 146.695 Q238.704 143.13 238.704 136.023 Q238.704 128.894 236.875 125.352 Q235.07 121.787 231.435 121.787 M231.435 118.084 Q237.246 118.084 240.301 122.69 Q243.38 127.273 243.38 136.023 Q243.38 144.75 240.301 149.357 Q237.246 153.94 231.435 153.94 Q225.625 153.94 222.547 149.357 Q219.491 144.75 219.491 136.023 Q219.491 127.273 222.547 122.69 Q225.625 118.084 231.435 118.084 Z\" fill=\"#000000\" fill-rule=\"evenodd\" fill-opacity=\"1\" /><path clip-path=\"url(#clip540)\" d=\"M 0 0 M258.449 121.787 Q254.838 121.787 253.009 125.352 Q251.204 128.894 251.204 136.023 Q251.204 143.13 253.009 146.695 Q254.838 150.236 258.449 150.236 Q262.083 150.236 263.889 146.695 Q265.718 143.13 265.718 136.023 Q265.718 128.894 263.889 125.352 Q262.083 121.787 258.449 121.787 M258.449 118.084 Q264.259 118.084 267.315 122.69 Q270.394 127.273 270.394 136.023 Q270.394 144.75 267.315 149.357 Q264.259 153.94 258.449 153.94 Q252.639 153.94 249.56 149.357 Q246.505 144.75 246.505 136.023 Q246.505 127.273 249.56 122.69 Q252.639 118.084 258.449 118.084 Z\" fill=\"#000000\" fill-rule=\"evenodd\" fill-opacity=\"1\" /><path clip-path=\"url(#clip540)\" d=\"M 0 0 M38.479 759.593 L43.3487 759.593 L43.3487 765.194 Q43.3487 768.345 44.6219 769.587 Q45.895 770.796 49.2052 770.796 L52.3562 770.796 L52.3562 761.152 L56.9077 761.152 L56.9077 770.796 L88.0042 770.796 L88.0042 776.685 L56.9077 776.685 L56.9077 782.286 L52.3562 782.286 L52.3562 776.685 L49.8736 776.685 Q43.9216 776.685 41.2162 773.915 Q38.479 771.146 38.479 765.131 L38.479 759.593 Z\" fill=\"#000000\" fill-rule=\"evenodd\" fill-opacity=\"1\" /><path clip-path=\"url(#clip540)\" d=\"M 0 0 M38.5426 739.382 Q45.8632 743.647 53.0246 745.715 Q60.186 747.784 67.5384 747.784 Q74.8908 747.784 82.1159 745.715 Q89.3091 743.615 96.5979 739.382 L96.5979 744.474 Q89.1182 749.248 81.8931 751.635 Q74.668 753.991 67.5384 753.991 Q60.4406 753.991 53.2474 751.635 Q46.0542 749.28 38.5426 744.474 L38.5426 739.382 Z\" fill=\"#000000\" fill-rule=\"evenodd\" fill-opacity=\"1\" /><path clip-path=\"url(#clip540)\" d=\"M 0 0 M52.3562 735.785 L52.3562 707.967 L57.7034 707.967 L83.3254 729.992 L83.3254 707.967 L88.0042 707.967 L88.0042 736.581 L82.657 736.581 L57.035 714.555 L57.035 735.785 L52.3562 735.785 Z\" fill=\"#000000\" fill-rule=\"evenodd\" fill-opacity=\"1\" /><path clip-path=\"url(#clip540)\" d=\"M 0 0 M38.5426 702.747 L38.5426 697.654 Q46.0542 692.88 53.2474 690.525 Q60.4406 688.138 67.5384 688.138 Q74.668 688.138 81.8931 690.525 Q89.1182 692.88 96.5979 697.654 L96.5979 702.747 Q89.3091 698.514 82.1159 696.445 Q74.8908 694.344 67.5384 694.344 Q60.186 694.344 53.0246 696.445 Q45.8632 698.514 38.5426 702.747 Z\" fill=\"#000000\" fill-rule=\"evenodd\" fill-opacity=\"1\" /><polyline clip-path=\"url(#clip542)\" style=\"stroke:#009af9; stroke-width:4; stroke-opacity:1; fill:none\" points=\"\n",
       "  364.309,86.1857 366.24,1371.1 368.171,1384.24 370.101,1384.24 372.032,1384.24 373.962,1384.24 375.893,1384.24 377.823,1384.24 379.754,1384.24 381.684,1384.24 \n",
       "  383.615,1384.24 385.545,1384.24 387.476,1384.24 389.406,1384.24 391.337,1384.24 393.267,1384.24 395.198,1384.24 397.129,1384.24 399.059,1384.24 400.99,1384.24 \n",
       "  402.92,1384.24 404.851,1384.24 406.781,1384.24 408.712,1384.24 410.642,1384.24 412.573,1384.24 414.503,1384.24 416.434,1384.24 418.364,1384.24 420.295,1384.24 \n",
       "  422.225,1384.24 424.156,1384.24 426.086,1384.24 428.017,1384.24 429.948,1384.24 431.878,1384.24 433.809,1384.24 435.739,1384.24 437.67,1384.24 439.6,1384.24 \n",
       "  441.531,1384.24 443.461,1384.24 445.392,1384.24 447.322,1384.24 449.253,1384.24 451.183,1384.24 453.114,1384.24 455.044,1384.24 456.975,1384.24 458.905,1384.24 \n",
       "  460.836,1384.24 462.767,1384.24 464.697,1384.24 466.628,1384.24 468.558,1384.24 470.489,1384.24 472.419,1384.24 474.35,1384.24 476.28,1384.24 478.211,1384.24 \n",
       "  480.141,1384.24 482.072,1384.24 484.002,1384.24 485.933,1384.24 487.863,1384.24 489.794,1384.24 491.725,1384.24 493.655,1384.24 495.586,1384.24 497.516,1384.24 \n",
       "  499.447,1384.24 501.377,1384.24 503.308,1384.24 505.238,1384.24 507.169,1384.24 509.099,1384.24 511.03,1384.24 512.96,1384.24 514.891,1384.24 516.821,1384.24 \n",
       "  518.752,1384.24 520.682,1384.24 522.613,1384.24 524.544,1384.24 526.474,1384.24 528.405,1384.24 530.335,1384.24 532.266,1384.24 534.196,1384.24 536.127,1384.24 \n",
       "  538.057,1384.24 539.988,1384.24 541.918,1384.24 543.849,1384.24 545.779,1384.24 547.71,1384.24 549.64,1384.24 551.571,1384.24 553.501,1384.24 555.432,1384.24 \n",
       "  557.363,1384.24 559.293,1384.24 561.224,1384.24 563.154,1384.24 565.085,1384.24 567.015,1384.24 568.946,1384.24 570.876,1384.24 572.807,1384.24 574.737,1384.24 \n",
       "  576.668,1384.24 578.598,1384.24 580.529,1384.24 582.459,1384.24 584.39,1384.24 586.321,1384.24 588.251,1384.24 590.182,1384.24 592.112,1384.24 594.043,1384.24 \n",
       "  595.973,1384.24 597.904,1384.24 599.834,1384.24 601.765,1384.24 603.695,1384.24 605.626,1384.24 607.556,1384.24 609.487,1384.24 611.417,1384.24 613.348,1384.24 \n",
       "  615.278,1384.24 617.209,1384.24 619.14,1384.24 621.07,1384.24 623.001,1384.24 624.931,1384.24 626.862,1384.24 628.792,1384.24 630.723,1384.24 632.653,1384.24 \n",
       "  634.584,1384.24 636.514,1384.24 638.445,1384.24 640.375,1384.24 642.306,1384.24 644.236,1384.24 646.167,1384.24 648.097,1384.24 650.028,1384.24 651.959,1384.24 \n",
       "  653.889,1384.24 655.82,1384.24 657.75,1384.24 659.681,1384.24 661.611,1384.24 663.542,1384.24 665.472,1384.24 667.403,1384.24 669.333,1384.24 671.264,1384.24 \n",
       "  673.194,1384.24 675.125,1384.24 677.055,1384.24 678.986,1384.24 680.916,1384.24 682.847,1384.24 684.778,1384.24 686.708,1384.24 688.639,1384.24 690.569,1384.24 \n",
       "  692.5,1384.24 694.43,1384.24 696.361,1384.24 698.291,1384.24 700.222,1384.24 702.152,1384.24 704.083,1384.24 706.013,1384.24 707.944,1384.24 709.874,1384.24 \n",
       "  711.805,1384.24 713.736,1384.24 715.666,1384.24 717.597,1384.24 719.527,1384.24 721.458,1384.24 723.388,1384.24 725.319,1384.24 727.249,1384.24 729.18,1384.24 \n",
       "  731.11,1384.24 733.041,1384.24 734.971,1384.24 736.902,1384.24 738.832,1384.24 740.763,1384.24 742.693,1384.24 744.624,1384.24 746.555,1384.24 748.485,1384.24 \n",
       "  750.416,1384.24 752.346,1384.24 754.277,1384.24 756.207,1384.24 758.138,1384.24 760.068,1384.24 761.999,1384.24 763.929,1384.24 765.86,1384.24 767.79,1384.24 \n",
       "  769.721,1384.24 771.651,1384.24 773.582,1384.24 775.512,1384.24 777.443,1384.24 779.374,1384.24 781.304,1384.24 783.235,1384.24 785.165,1384.24 787.096,1384.24 \n",
       "  789.026,1384.24 790.957,1384.24 792.887,1384.24 794.818,1384.24 796.748,1384.24 798.679,1384.24 800.609,1384.24 802.54,1384.24 804.47,1384.24 806.401,1384.24 \n",
       "  808.332,1384.24 810.262,1384.24 812.193,1384.24 814.123,1384.24 816.054,1384.24 817.984,1384.24 819.915,1384.24 821.845,1384.24 823.776,1384.24 825.706,1384.24 \n",
       "  827.637,1384.24 829.567,1384.24 831.498,1384.24 833.428,1384.24 835.359,1384.24 837.289,1384.24 839.22,1384.24 841.151,1384.24 843.081,1384.24 845.012,1384.24 \n",
       "  846.942,1384.24 848.873,1384.24 850.803,1384.24 852.734,1384.24 854.664,1384.24 856.595,1384.24 858.525,1384.24 860.456,1384.24 862.386,1384.24 864.317,1384.24 \n",
       "  866.247,1384.24 868.178,1384.24 870.108,1384.24 872.039,1384.24 873.97,1384.24 875.9,1384.24 877.831,1384.24 879.761,1384.24 881.692,1384.24 883.622,1384.24 \n",
       "  885.553,1384.24 887.483,1384.24 889.414,1384.24 891.344,1384.24 893.275,1384.24 895.205,1384.24 897.136,1384.24 899.066,1384.24 900.997,1384.24 902.928,1384.24 \n",
       "  904.858,1384.24 906.789,1384.24 908.719,1384.24 910.65,1384.24 912.58,1384.24 914.511,1384.24 916.441,1384.24 918.372,1384.24 920.302,1384.24 922.233,1384.24 \n",
       "  924.163,1384.24 926.094,1384.24 928.024,1384.24 929.955,1384.24 931.885,1384.24 933.816,1384.24 935.747,1384.24 937.677,1384.24 939.608,1384.24 941.538,1384.24 \n",
       "  943.469,1384.24 945.399,1384.24 947.33,1384.24 949.26,1384.24 951.191,1384.24 953.121,1384.24 955.052,1384.24 956.982,1384.24 958.913,1384.24 960.843,1384.24 \n",
       "  962.774,1384.24 964.704,1384.24 966.635,1384.24 968.566,1384.24 970.496,1384.24 972.427,1384.24 974.357,1384.24 976.288,1384.24 978.218,1384.24 980.149,1384.24 \n",
       "  982.079,1384.24 984.01,1384.24 985.94,1384.24 987.871,1384.24 989.801,1384.24 991.732,1384.24 993.662,1384.24 995.593,1384.24 997.523,1384.24 999.454,1384.24 \n",
       "  1001.38,1384.24 1003.32,1384.24 1005.25,1384.24 1007.18,1384.24 1009.11,1384.24 1011.04,1384.24 1012.97,1384.24 1014.9,1384.24 1016.83,1384.24 1018.76,1384.24 \n",
       "  1020.69,1384.24 1022.62,1384.24 1024.55,1384.24 1026.48,1384.24 1028.41,1384.24 1030.34,1384.24 1032.27,1384.24 1034.2,1384.24 1036.13,1384.24 1038.06,1384.24 \n",
       "  1040,1384.24 1041.93,1384.24 1043.86,1384.24 1045.79,1384.24 1047.72,1384.24 1049.65,1384.24 1051.58,1384.24 1053.51,1384.24 1055.44,1384.24 1057.37,1384.24 \n",
       "  1059.3,1384.24 1061.23,1384.24 1063.16,1384.24 1065.09,1384.24 1067.02,1384.24 1068.95,1384.24 1070.88,1384.24 1072.81,1384.24 1074.74,1384.24 1076.68,1384.24 \n",
       "  1078.61,1384.24 1080.54,1384.24 1082.47,1384.24 1084.4,1384.24 1086.33,1384.24 1088.26,1384.24 1090.19,1384.24 1092.12,1384.24 1094.05,1384.24 1095.98,1384.24 \n",
       "  1097.91,1384.24 1099.84,1384.24 1101.77,1384.24 1103.7,1384.24 1105.63,1384.24 1107.56,1384.24 1109.49,1384.24 1111.42,1384.24 1113.36,1384.24 1115.29,1384.24 \n",
       "  1117.22,1384.24 1119.15,1384.24 1121.08,1384.24 1123.01,1384.24 1124.94,1384.24 1126.87,1384.24 1128.8,1384.24 1130.73,1384.24 1132.66,1384.24 1134.59,1384.24 \n",
       "  1136.52,1384.24 1138.45,1384.24 1140.38,1384.24 1142.31,1384.24 1144.24,1384.24 1146.17,1384.24 1148.1,1384.24 1150.04,1384.24 1151.97,1384.24 1153.9,1384.24 \n",
       "  1155.83,1384.24 1157.76,1384.24 1159.69,1384.24 1161.62,1384.24 1163.55,1384.24 1165.48,1384.24 1167.41,1384.24 1169.34,1384.24 1171.27,1384.24 1173.2,1384.24 \n",
       "  1175.13,1384.24 1177.06,1384.24 1178.99,1384.24 1180.92,1384.24 1182.85,1384.24 1184.78,1384.24 1186.72,1384.24 1188.65,1384.24 1190.58,1384.24 1192.51,1384.24 \n",
       "  1194.44,1384.24 1196.37,1384.24 1198.3,1384.24 1200.23,1384.24 1202.16,1384.24 1204.09,1384.24 1206.02,1384.24 1207.95,1384.24 1209.88,1384.24 1211.81,1384.24 \n",
       "  1213.74,1384.24 1215.67,1384.24 1217.6,1384.24 1219.53,1384.24 1221.47,1384.24 1223.4,1384.24 1225.33,1384.24 1227.26,1384.24 1229.19,1384.24 1231.12,1384.24 \n",
       "  1233.05,1384.24 1234.98,1384.24 1236.91,1384.24 1238.84,1384.24 1240.77,1384.24 1242.7,1384.24 1244.63,1384.24 1246.56,1384.24 1248.49,1384.24 1250.42,1384.24 \n",
       "  1252.35,1384.24 1254.28,1384.24 1256.21,1384.24 1258.15,1384.24 1260.08,1384.24 1262.01,1384.24 1263.94,1384.24 1265.87,1384.24 1267.8,1384.24 1269.73,1384.24 \n",
       "  1271.66,1384.24 1273.59,1384.24 1275.52,1384.24 1277.45,1384.24 1279.38,1384.24 1281.31,1384.24 1283.24,1384.24 1285.17,1384.24 1287.1,1384.24 1289.03,1384.24 \n",
       "  1290.96,1384.24 1292.89,1384.24 1294.83,1384.24 1296.76,1384.24 1298.69,1384.24 1300.62,1384.24 1302.55,1384.24 1304.48,1384.24 1306.41,1384.24 1308.34,1384.24 \n",
       "  1310.27,1384.24 1312.2,1384.24 1314.13,1384.24 1316.06,1384.24 1317.99,1384.24 1319.92,1384.24 1321.85,1384.24 1323.78,1384.24 1325.71,1384.24 1327.64,1384.24 \n",
       "  1329.57,1384.24 1331.51,1384.24 1333.44,1384.24 1335.37,1384.24 1337.3,1384.24 1339.23,1384.24 1341.16,1384.24 1343.09,1384.24 1345.02,1384.24 1346.95,1384.24 \n",
       "  1348.88,1384.24 1350.81,1384.24 1352.74,1384.24 1354.67,1384.24 1356.6,1384.24 1358.53,1384.24 1360.46,1384.24 1362.39,1384.24 1364.32,1384.24 1366.25,1384.24 \n",
       "  1368.19,1384.24 1370.12,1384.24 1372.05,1384.24 1373.98,1384.24 1375.91,1384.24 1377.84,1384.24 1379.77,1384.24 1381.7,1384.24 1383.63,1384.24 1385.56,1384.24 \n",
       "  1387.49,1384.24 1389.42,1384.24 1391.35,1384.24 1393.28,1384.24 1395.21,1384.24 1397.14,1384.24 1399.07,1384.24 1401,1384.24 1402.93,1384.24 1404.87,1384.24 \n",
       "  1406.8,1384.24 1408.73,1384.24 1410.66,1384.24 1412.59,1384.24 1414.52,1384.24 1416.45,1384.24 1418.38,1384.24 1420.31,1384.24 1422.24,1384.24 1424.17,1384.24 \n",
       "  1426.1,1384.24 1428.03,1384.24 1429.96,1384.24 1431.89,1384.24 1433.82,1384.24 1435.75,1384.24 1437.68,1384.24 1439.61,1384.24 1441.55,1384.24 1443.48,1384.24 \n",
       "  1445.41,1384.24 1447.34,1384.24 1449.27,1384.24 1451.2,1384.24 1453.13,1384.24 1455.06,1384.24 1456.99,1384.24 1458.92,1384.24 1460.85,1384.24 1462.78,1384.24 \n",
       "  1464.71,1384.24 1466.64,1384.24 1468.57,1384.24 1470.5,1384.24 1472.43,1384.24 1474.36,1384.24 1476.3,1384.24 1478.23,1384.24 1480.16,1384.24 1482.09,1384.24 \n",
       "  1484.02,1384.24 1485.95,1384.24 1487.88,1384.24 1489.81,1384.24 1491.74,1384.24 1493.67,1384.24 1495.6,1384.24 1497.53,1384.24 1499.46,1384.24 1501.39,1384.24 \n",
       "  1503.32,1384.24 1505.25,1384.24 1507.18,1384.24 1509.11,1384.24 1511.04,1384.24 1512.98,1384.24 1514.91,1384.24 1516.84,1384.24 1518.77,1384.24 1520.7,1384.24 \n",
       "  1522.63,1384.24 1524.56,1384.24 1526.49,1384.24 1528.42,1384.24 1530.35,1384.24 1532.28,1384.24 1534.21,1384.24 1536.14,1384.24 1538.07,1384.24 1540,1384.24 \n",
       "  1541.93,1384.24 1543.86,1384.24 1545.79,1384.24 1547.72,1384.24 1549.66,1384.24 1551.59,1384.24 1553.52,1384.24 1555.45,1384.24 1557.38,1384.24 1559.31,1384.24 \n",
       "  1561.24,1384.24 1563.17,1384.24 1565.1,1384.24 1567.03,1384.24 1568.96,1384.24 1570.89,1384.24 1572.82,1384.24 1574.75,1384.24 1576.68,1384.24 1578.61,1384.24 \n",
       "  1580.54,1384.24 1582.47,1384.24 1584.4,1384.24 1586.34,1384.24 1588.27,1384.24 1590.2,1384.24 1592.13,1384.24 1594.06,1384.24 1595.99,1384.24 1597.92,1384.24 \n",
       "  1599.85,1384.24 1601.78,1384.24 1603.71,1384.24 1605.64,1384.24 1607.57,1384.24 1609.5,1384.24 1611.43,1384.24 1613.36,1384.24 1615.29,1384.24 1617.22,1384.24 \n",
       "  1619.15,1384.24 1621.08,1384.24 1623.02,1384.24 1624.95,1384.24 1626.88,1384.24 1628.81,1384.24 1630.74,1384.24 1632.67,1384.24 1634.6,1384.24 1636.53,1384.24 \n",
       "  1638.46,1384.24 1640.39,1384.24 1642.32,1384.24 1644.25,1384.24 1646.18,1384.24 1648.11,1384.24 1650.04,1384.24 1651.97,1384.24 1653.9,1384.24 1655.83,1384.24 \n",
       "  1657.76,1384.24 1659.7,1384.24 1661.63,1384.24 1663.56,1384.24 1665.49,1384.24 1667.42,1384.24 1669.35,1384.24 1671.28,1384.24 1673.21,1384.24 1675.14,1384.24 \n",
       "  1677.07,1384.24 1679,1384.24 1680.93,1384.24 1682.86,1384.24 1684.79,1384.24 1686.72,1384.24 1688.65,1384.24 1690.58,1384.24 1692.51,1384.24 1694.45,1384.24 \n",
       "  1696.38,1384.24 1698.31,1384.24 1700.24,1384.24 1702.17,1384.24 1704.1,1384.24 1706.03,1384.24 1707.96,1384.24 1709.89,1384.24 1711.82,1384.24 1713.75,1384.24 \n",
       "  1715.68,1384.24 1717.61,1384.24 1719.54,1384.24 1721.47,1384.24 1723.4,1384.24 1725.33,1384.24 1727.26,1384.24 1729.19,1384.24 1731.13,1384.24 1733.06,1384.24 \n",
       "  1734.99,1384.24 1736.92,1384.24 1738.85,1384.24 1740.78,1384.24 1742.71,1384.24 1744.64,1384.24 1746.57,1384.24 1748.5,1384.24 1750.43,1384.24 1752.36,1384.24 \n",
       "  1754.29,1384.24 1756.22,1384.24 1758.15,1384.24 1760.08,1384.24 1762.01,1384.24 1763.94,1384.24 1765.87,1384.24 1767.81,1384.24 1769.74,1384.24 1771.67,1384.24 \n",
       "  1773.6,1384.24 1775.53,1384.24 1777.46,1384.24 1779.39,1384.24 1781.32,1384.24 1783.25,1384.24 1785.18,1384.24 1787.11,1384.24 1789.04,1384.24 1790.97,1384.24 \n",
       "  1792.9,1384.24 1794.83,1384.24 1796.76,1384.24 1798.69,1384.24 1800.62,1384.24 1802.55,1384.24 1804.49,1384.24 1806.42,1384.24 1808.35,1384.24 1810.28,1384.24 \n",
       "  1812.21,1384.24 1814.14,1384.24 1816.07,1384.24 1818,1384.24 1819.93,1384.24 1821.86,1384.24 1823.79,1384.24 1825.72,1384.24 1827.65,1384.24 1829.58,1384.24 \n",
       "  1831.51,1384.24 1833.44,1384.24 1835.37,1384.24 1837.3,1384.24 1839.23,1384.24 1841.17,1384.24 1843.1,1384.24 1845.03,1384.24 1846.96,1384.24 1848.89,1384.24 \n",
       "  1850.82,1384.24 1852.75,1384.24 1854.68,1384.24 1856.61,1384.24 1858.54,1384.24 1860.47,1384.24 1862.4,1384.24 1864.33,1384.24 1866.26,1384.24 1868.19,1384.24 \n",
       "  1870.12,1384.24 1872.05,1384.24 1873.98,1384.24 1875.91,1384.24 1877.85,1384.24 1879.78,1384.24 1881.71,1384.24 1883.64,1384.24 1885.57,1384.24 1887.5,1384.24 \n",
       "  1889.43,1384.24 1891.36,1384.24 1893.29,1384.24 1895.22,1384.24 1897.15,1384.24 1899.08,1384.24 1901.01,1384.24 1902.94,1384.24 1904.87,1384.24 1906.8,1384.24 \n",
       "  1908.73,1384.24 1910.66,1384.24 1912.59,1384.24 1914.53,1384.24 1916.46,1384.24 1918.39,1384.24 1920.32,1384.24 1922.25,1384.24 1924.18,1384.24 1926.11,1384.24 \n",
       "  1928.04,1384.24 1929.97,1384.24 1931.9,1384.24 1933.83,1384.24 1935.76,1384.24 1937.69,1384.24 1939.62,1384.24 1941.55,1384.24 1943.48,1384.24 1945.41,1384.24 \n",
       "  1947.34,1384.24 1949.28,1384.24 1951.21,1384.24 1953.14,1384.24 1955.07,1384.24 1957,1384.24 1958.93,1384.24 1960.86,1384.24 1962.79,1384.24 1964.72,1384.24 \n",
       "  1966.65,1384.24 1968.58,1384.24 1970.51,1384.24 1972.44,1384.24 1974.37,1384.24 1976.3,1384.24 1978.23,1384.24 1980.16,1384.24 1982.09,1384.24 1984.02,1384.24 \n",
       "  1985.96,1384.24 1987.89,1384.24 1989.82,1384.24 1991.75,1384.24 1993.68,1384.24 1995.61,1384.24 1997.54,1384.24 1999.47,1384.24 2001.4,1384.24 2003.33,1384.24 \n",
       "  2005.26,1384.24 2007.19,1384.24 2009.12,1384.24 2011.05,1384.24 2012.98,1384.24 2014.91,1384.24 2016.84,1384.24 2018.77,1384.24 2020.7,1384.24 2022.64,1384.24 \n",
       "  2024.57,1384.24 2026.5,1384.24 2028.43,1384.24 2030.36,1384.24 2032.29,1384.24 2034.22,1384.24 2036.15,1384.24 2038.08,1384.24 2040.01,1384.24 2041.94,1384.24 \n",
       "  2043.87,1384.24 2045.8,1384.24 2047.73,1384.24 2049.66,1384.24 2051.59,1384.24 2053.52,1384.24 2055.45,1384.24 2057.38,1384.24 2059.32,1384.24 2061.25,1384.24 \n",
       "  2063.18,1384.24 2065.11,1384.24 2067.04,1384.24 2068.97,1384.24 2070.9,1384.24 2072.83,1384.24 2074.76,1384.24 2076.69,1384.24 2078.62,1384.24 2080.55,1384.24 \n",
       "  2082.48,1384.24 2084.41,1384.24 2086.34,1384.24 2088.27,1384.24 2090.2,1384.24 2092.13,1384.24 2094.06,1384.24 2096,1384.24 2097.93,1384.24 2099.86,1384.24 \n",
       "  2101.79,1384.24 2103.72,1384.24 2105.65,1384.24 2107.58,1384.24 2109.51,1384.24 2111.44,1384.24 2113.37,1384.24 2115.3,1384.24 2117.23,1384.24 2119.16,1384.24 \n",
       "  2121.09,1384.24 2123.02,1384.24 2124.95,1384.24 2126.88,1384.24 2128.81,1384.24 2130.74,1384.24 2132.68,1384.24 2134.61,1384.24 2136.54,1384.24 2138.47,1384.24 \n",
       "  2140.4,1384.24 2142.33,1384.24 2144.26,1384.24 2146.19,1384.24 2148.12,1384.24 2150.05,1384.24 2151.98,1384.24 2153.91,1384.24 2155.84,1384.24 2157.77,1384.24 \n",
       "  2159.7,1384.24 2161.63,1384.24 2163.56,1384.24 2165.49,1384.24 2167.42,1384.24 2169.36,1384.24 2171.29,1384.24 2173.22,1384.24 2175.15,1384.24 2177.08,1384.24 \n",
       "  2179.01,1384.24 2180.94,1384.24 2182.87,1384.24 2184.8,1384.24 2186.73,1384.24 2188.66,1384.24 2190.59,1384.24 2192.52,1384.24 2194.45,1384.24 2196.38,1384.24 \n",
       "  2198.31,1384.24 2200.24,1384.24 2202.17,1384.24 2204.11,1384.24 2206.04,1384.24 2207.97,1384.24 2209.9,1384.24 2211.83,1384.24 2213.76,1384.24 2215.69,1384.24 \n",
       "  2217.62,1384.24 2219.55,1384.24 2221.48,1384.24 2223.41,1384.24 2225.34,1384.24 2227.27,1384.24 2229.2,1384.24 2231.13,1384.24 2233.06,1384.24 2234.99,1384.24 \n",
       "  2236.92,1384.24 2238.85,1384.24 2240.79,1384.24 2242.72,1384.24 2244.65,1384.24 2246.58,1384.24 2248.51,1384.24 2250.44,1384.24 2252.37,1384.24 2254.3,1384.24 \n",
       "  2256.23,1384.24 2258.16,1384.24 2260.09,1384.24 2262.02,1384.24 2263.95,1384.24 2265.88,1384.24 2267.81,1384.24 2269.74,1384.24 2271.67,1384.24 2273.6,1384.24 \n",
       "  2275.53,1384.24 2277.47,1384.24 2279.4,1384.24 2281.33,1384.24 2283.26,1384.24 2285.19,1384.24 2287.12,1384.24 2289.05,1384.24 2290.98,1384.24 2292.91,1384.24 \n",
       "  2294.84,1384.24 \n",
       "  \"/>\n",
       "<path clip-path=\"url(#clip540)\" d=\"\n",
       "M2006.15 214.069 L2284.54 214.069 L2284.54 93.1086 L2006.15 93.1086  Z\n",
       "  \" fill=\"#ffffff\" fill-rule=\"evenodd\" fill-opacity=\"1\"/>\n",
       "<polyline clip-path=\"url(#clip540)\" style=\"stroke:#000000; stroke-width:4; stroke-opacity:1; fill:none\" points=\"\n",
       "  2006.15,214.069 2284.54,214.069 2284.54,93.1086 2006.15,93.1086 2006.15,214.069 \n",
       "  \"/>\n",
       "<polyline clip-path=\"url(#clip540)\" style=\"stroke:#009af9; stroke-width:4; stroke-opacity:1; fill:none\" points=\"\n",
       "  2028.89,153.589 2165.31,153.589 \n",
       "  \"/>\n",
       "<path clip-path=\"url(#clip540)\" d=\"M 0 0 M2201.89 173.276 Q2200.09 177.906 2198.37 179.318 Q2196.66 180.73 2193.79 180.73 L2190.39 180.73 L2190.39 177.165 L2192.89 177.165 Q2194.65 177.165 2195.62 176.332 Q2196.59 175.498 2197.77 172.396 L2198.54 170.452 L2188.05 144.943 L2192.56 144.943 L2200.67 165.221 L2208.77 144.943 L2213.28 144.943 L2201.89 173.276 Z\" fill=\"#000000\" fill-rule=\"evenodd\" fill-opacity=\"1\" /><path clip-path=\"url(#clip540)\" d=\"M 0 0 M2219.16 166.933 L2226.8 166.933 L2226.8 140.568 L2218.49 142.235 L2218.49 137.975 L2226.75 136.309 L2231.43 136.309 L2231.43 166.933 L2239.07 166.933 L2239.07 170.869 L2219.16 170.869 L2219.16 166.933 Z\" fill=\"#000000\" fill-rule=\"evenodd\" fill-opacity=\"1\" /></svg>\n"
      ]
     },
     "execution_count": 111,
     "metadata": {},
     "output_type": "execute_result"
    }
   ],
   "source": [
    "using Plots\n",
    "z = zeros(k^2,1); i=0; lambda=100; alpha=0; nbiters = 1000;\n",
    "les_fs = zeros(nbiters+1,1);\n",
    "f(t) = 1/2*norm(Theta*t-y)^2 + lambda*norm(t,1) \n",
    "g = Theta'*(Theta*z - y)+lambda*sign.(z)\n",
    "choix_pas = 10^-4; # 1 cas a, 2 cas b, 3 cas c\n",
    "z_new = z - choix_pas*g\n",
    "les_fs[1] = f(z_new);\n",
    "while (i <= nbiters)\n",
    "    i = i + 1;\n",
    "    ## A compléter\n",
    "    z = [j for j in z_new]\n",
    "    g = Theta'*(Theta*z - y)+lambda*sign.(z)\n",
    "    choix_pas = 10^-4; \n",
    "    z_new = z - choix_pas*g\n",
    "    les_fs[i] = f(z_new);\n",
    "    ## fin à compléter\n",
    "end\n",
    "println(\"residu : \",norm(Theta*z_new-y))\n",
    "norm(Theta\\y)\n",
    "z = z_new;\n",
    "print(\"norm de z : \",norm(z))\n",
    "plot([i for i = 1:(nbiters+1)],les_fs,xlabel = \"iterations\",ylabel = \"f(z)\")"
   ]
  },
  {
   "cell_type": "markdown",
   "metadata": {
    "slideshow": {
     "slide_type": "slide"
    }
   },
   "source": [
    "**Question 6 :** Expliquer le code suivant et conclure sur l'utilisation du sous-gradient"
   ]
  },
  {
   "cell_type": "code",
   "execution_count": 112,
   "metadata": {
    "slideshow": {
     "slide_type": "slide"
    }
   },
   "outputs": [
    {
     "data": {
      "image/png": "[encoded data removed]",
      "text/plain": [
       "30×30 view(reinterpret(Gray{Float64}, ::Array{Float64,2}), :, :) with eltype Gray{Float64}:\n",
       " Gray{Float64}(0.634102)  Gray{Float64}(0.0)       …  Gray{Float64}(0.39611)\n",
       " Gray{Float64}(0.435982)  Gray{Float64}(0.311496)     Gray{Float64}(0.562724)\n",
       " Gray{Float64}(0.498918)  Gray{Float64}(0.727048)     Gray{Float64}(0.425863)\n",
       " Gray{Float64}(0.497127)  Gray{Float64}(0.222707)     Gray{Float64}(0.295836)\n",
       " Gray{Float64}(0.450671)  Gray{Float64}(0.562309)     Gray{Float64}(0.796829)\n",
       " Gray{Float64}(0.413657)  Gray{Float64}(0.367547)  …  Gray{Float64}(0.600581)\n",
       " Gray{Float64}(0.368965)  Gray{Float64}(0.341736)     Gray{Float64}(0.620742)\n",
       " Gray{Float64}(0.396961)  Gray{Float64}(0.35382)      Gray{Float64}(0.667961)\n",
       " Gray{Float64}(0.428154)  Gray{Float64}(0.384369)     Gray{Float64}(0.784559)\n",
       " Gray{Float64}(0.521374)  Gray{Float64}(0.620685)     Gray{Float64}(0.531328)\n",
       " Gray{Float64}(0.714815)  Gray{Float64}(0.468554)  …  Gray{Float64}(0.604358)\n",
       " Gray{Float64}(0.350978)  Gray{Float64}(0.529127)     Gray{Float64}(0.430882)\n",
       " Gray{Float64}(0.571729)  Gray{Float64}(0.412948)     Gray{Float64}(0.5941)\n",
       " ⋮                                                 ⋱  \n",
       " Gray{Float64}(0.436424)  Gray{Float64}(0.607438)     Gray{Float64}(0.730531)\n",
       " Gray{Float64}(0.551703)  Gray{Float64}(0.406088)     Gray{Float64}(0.578333)\n",
       " Gray{Float64}(0.391854)  Gray{Float64}(0.490855)  …  Gray{Float64}(0.782137)\n",
       " Gray{Float64}(0.737971)  Gray{Float64}(0.485979)     Gray{Float64}(0.730914)\n",
       " Gray{Float64}(0.587828)  Gray{Float64}(0.554721)     Gray{Float64}(0.503458)\n",
       " Gray{Float64}(0.593806)  Gray{Float64}(0.516452)     Gray{Float64}(0.785864)\n",
       " Gray{Float64}(0.558806)  Gray{Float64}(0.683758)     Gray{Float64}(0.656593)\n",
       " Gray{Float64}(0.799789)  Gray{Float64}(0.637454)  …  Gray{Float64}(0.942562)\n",
       " Gray{Float64}(0.704435)  Gray{Float64}(0.599201)     Gray{Float64}(0.405051)\n",
       " Gray{Float64}(0.575597)  Gray{Float64}(0.723979)     Gray{Float64}(0.501406)\n",
       " Gray{Float64}(0.70887)   Gray{Float64}(0.527052)     Gray{Float64}(0.599925)\n",
       " Gray{Float64}(0.729763)  Gray{Float64}(0.740448)     Gray{Float64}(0.793713)"
      ]
     },
     "execution_count": 112,
     "metadata": {},
     "output_type": "execute_result"
    }
   ],
   "source": [
    "function my_function(n,k,z)\n",
    "    x2 = zeros(n,1);\n",
    "    for ii = 1:n\n",
    "        ii\n",
    "        ek = zeros(1,n);\n",
    "        ek[ii] = 1;\n",
    "        psi = idct(ek)';\n",
    "        x2 = x2+psi*z[ii];\n",
    "    end\n",
    "    x2 = reshape(x2,k,k);\n",
    "    x2 = 1/(maximum(x2).-minimum(x2))*(x2.-minimum(x2));\n",
    "    return x2\n",
    "end\n",
    "#\n",
    "x2 = my_function(n,k,z);\n",
    "imhsv = colorview(Gray, float(x2));\n",
    "tmp=@view imhsv[:,:]"
   ]
  },
  {
   "cell_type": "markdown",
   "metadata": {
    "slideshow": {
     "slide_type": "slide"
    }
   },
   "source": [
    "# II.2. Utilisation d'un algorithme de sous-gradient projeté\n"
   ]
  },
  {
   "cell_type": "markdown",
   "metadata": {
    "slideshow": {
     "slide_type": "fragment"
    }
   },
   "source": [
    "**Question 7 :**  Expliquer l'intérêt de \n",
    " calculer $x_{sgp}= \\Psi z$ où $z$ résout $$\\min_{\\Phi  \\cdot \\Psi  \\cdot z =y}  ||z||_1.$$"
   ]
  },
  {
   "cell_type": "markdown",
   "metadata": {
    "slideshow": {
     "slide_type": "slide"
    }
   },
   "source": [
    "**Question 8 :** Rappeler la formule de la projection sur le convexe $\\{x, \\Phi  \\cdot \\Psi  \\cdot z =y \\}$ vue en cours."
   ]
  },
  {
   "cell_type": "markdown",
   "metadata": {
    "slideshow": {
     "slide_type": "fragment"
    }
   },
   "source": [
    "**Question 9 :** Résoudre ce problème par l'algorithme de sous-gradient projeté et finaliser le calcul de la solution."
   ]
  },
  {
   "cell_type": "code",
   "execution_count": 99,
   "metadata": {},
   "outputs": [
    {
     "data": {
      "text/plain": [
       "progection (generic function with 1 method)"
      ]
     },
     "execution_count": 99,
     "metadata": {},
     "output_type": "execute_result"
    }
   ],
   "source": [
    "function progection(z,A,b)\n",
    "    m,n = size(A)\n",
    "    projete = [i for i in z]\n",
    "    colonne = [A[1,j] for j in 1:n]\n",
    "    ligne = transpose(colonne)\n",
    "    produit = ligne*projete\n",
    "    projete_new = projete .- (produit[1]-b[1])./(norm(colonne)^2).*colonne\n",
    "    for i=2:m\n",
    "        projete = [j for j in projete_new]\n",
    "        colonne = [A[i,j] for j in 1:n]\n",
    "        ligne = transpose(colonne)\n",
    "        produit = ligne*projete\n",
    "        projete_new = projete .- (produit[1]-b[i])./(norm(colonne)^2).*colonne\n",
    "    end\n",
    "    return projete_new\n",
    "end     "
   ]
  },
  {
   "cell_type": "code",
   "execution_count": 100,
   "metadata": {},
   "outputs": [
    {
     "data": {
      "text/plain": [
       "progection2 (generic function with 1 method)"
      ]
     },
     "execution_count": 100,
     "metadata": {},
     "output_type": "execute_result"
    }
   ],
   "source": [
    "function progection2(z,alpha,pas,Theta)\n",
    "    n = length(z)\n",
    "    I = zeros(n,n)\n",
    "    for i = 1:n\n",
    "        I[i,i] = 1;\n",
    "    end\n",
    "    cons = pas*(I .- Theta'*inv(Theta*Theta')*Theta)\n",
    "    projete = [i for i in z]\n",
    "    projete_new = projete .- cons*sign.(projete)\n",
    "    return projete_new\n",
    "end     "
   ]
  },
  {
   "cell_type": "code",
   "execution_count": 109,
   "metadata": {
    "slideshow": {
     "slide_type": "slide"
    }
   },
   "outputs": [
    {
     "name": "stdout",
     "output_type": "stream",
     "text": [
      "12.548493925911364\n",
      "11.563483701742305"
     ]
    },
    {
     "data": {
      "image/svg+xml": [
       "<?xml version=\"1.0\" encoding=\"utf-8\"?>\n",
       "<svg xmlns=\"http://www.w3.org/2000/svg\" xmlns:xlink=\"http://www.w3.org/1999/xlink\" width=\"600\" height=\"400\" viewBox=\"0 0 2400 1600\">\n",
       "<defs>\n",
       "  <clipPath id=\"clip500\">\n",
       "    <rect x=\"0\" y=\"0\" width=\"2400\" height=\"1600\"/>\n",
       "  </clipPath>\n",
       "</defs>\n",
       "<path clip-path=\"url(#clip500)\" d=\"\n",
       "M0 1600 L2400 1600 L2400 0 L0 0  Z\n",
       "  \" fill=\"#ffffff\" fill-rule=\"evenodd\" fill-opacity=\"1\"/>\n",
       "<defs>\n",
       "  <clipPath id=\"clip501\">\n",
       "    <rect x=\"480\" y=\"0\" width=\"1681\" height=\"1600\"/>\n",
       "  </clipPath>\n",
       "</defs>\n",
       "<path clip-path=\"url(#clip500)\" d=\"\n",
       "M229.473 1423.18 L2352.76 1423.18 L2352.76 47.2441 L229.473 47.2441  Z\n",
       "  \" fill=\"#ffffff\" fill-rule=\"evenodd\" fill-opacity=\"1\"/>\n",
       "<defs>\n",
       "  <clipPath id=\"clip502\">\n",
       "    <rect x=\"229\" y=\"47\" width=\"2124\" height=\"1377\"/>\n",
       "  </clipPath>\n",
       "</defs>\n",
       "<polyline clip-path=\"url(#clip502)\" style=\"stroke:#000000; stroke-width:2; stroke-opacity:0.1; fill:none\" points=\"\n",
       "  287.563,1423.18 287.563,47.2441 \n",
       "  \"/>\n",
       "<polyline clip-path=\"url(#clip502)\" style=\"stroke:#000000; stroke-width:2; stroke-opacity:0.1; fill:none\" points=\"\n",
       "  788.337,1423.18 788.337,47.2441 \n",
       "  \"/>\n",
       "<polyline clip-path=\"url(#clip502)\" style=\"stroke:#000000; stroke-width:2; stroke-opacity:0.1; fill:none\" points=\"\n",
       "  1289.11,1423.18 1289.11,47.2441 \n",
       "  \"/>\n",
       "<polyline clip-path=\"url(#clip502)\" style=\"stroke:#000000; stroke-width:2; stroke-opacity:0.1; fill:none\" points=\"\n",
       "  1789.89,1423.18 1789.89,47.2441 \n",
       "  \"/>\n",
       "<polyline clip-path=\"url(#clip502)\" style=\"stroke:#000000; stroke-width:2; stroke-opacity:0.1; fill:none\" points=\"\n",
       "  2290.66,1423.18 2290.66,47.2441 \n",
       "  \"/>\n",
       "<polyline clip-path=\"url(#clip500)\" style=\"stroke:#000000; stroke-width:4; stroke-opacity:1; fill:none\" points=\"\n",
       "  229.473,1423.18 2352.76,1423.18 \n",
       "  \"/>\n",
       "<polyline clip-path=\"url(#clip500)\" style=\"stroke:#000000; stroke-width:4; stroke-opacity:1; fill:none\" points=\"\n",
       "  287.563,1423.18 287.563,1406.67 \n",
       "  \"/>\n",
       "<polyline clip-path=\"url(#clip500)\" style=\"stroke:#000000; stroke-width:4; stroke-opacity:1; fill:none\" points=\"\n",
       "  788.337,1423.18 788.337,1406.67 \n",
       "  \"/>\n",
       "<polyline clip-path=\"url(#clip500)\" style=\"stroke:#000000; stroke-width:4; stroke-opacity:1; fill:none\" points=\"\n",
       "  1289.11,1423.18 1289.11,1406.67 \n",
       "  \"/>\n",
       "<polyline clip-path=\"url(#clip500)\" style=\"stroke:#000000; stroke-width:4; stroke-opacity:1; fill:none\" points=\"\n",
       "  1789.89,1423.18 1789.89,1406.67 \n",
       "  \"/>\n",
       "<polyline clip-path=\"url(#clip500)\" style=\"stroke:#000000; stroke-width:4; stroke-opacity:1; fill:none\" points=\"\n",
       "  2290.66,1423.18 2290.66,1406.67 \n",
       "  \"/>\n",
       "<path clip-path=\"url(#clip500)\" d=\"M 0 0 M287.563 1452.37 Q283.951 1452.37 282.123 1455.94 Q280.317 1459.48 280.317 1466.61 Q280.317 1473.71 282.123 1477.28 Q283.951 1480.82 287.563 1480.82 Q291.197 1480.82 293.002 1477.28 Q294.831 1473.71 294.831 1466.61 Q294.831 1459.48 293.002 1455.94 Q291.197 1452.37 287.563 1452.37 M287.563 1448.67 Q293.373 1448.67 296.428 1453.27 Q299.507 1457.86 299.507 1466.61 Q299.507 1475.33 296.428 1479.94 Q293.373 1484.52 287.563 1484.52 Q281.752 1484.52 278.674 1479.94 Q275.618 1475.33 275.618 1466.61 Q275.618 1457.86 278.674 1453.27 Q281.752 1448.67 287.563 1448.67 Z\" fill=\"#000000\" fill-rule=\"evenodd\" fill-opacity=\"1\" /><path clip-path=\"url(#clip500)\" d=\"M 0 0 M756.474 1479.92 L772.793 1479.92 L772.793 1483.85 L750.849 1483.85 L750.849 1479.92 Q753.511 1477.16 758.094 1472.53 Q762.7 1467.88 763.881 1466.54 Q766.126 1464.01 767.006 1462.28 Q767.909 1460.52 767.909 1458.83 Q767.909 1456.07 765.964 1454.34 Q764.043 1452.6 760.941 1452.6 Q758.742 1452.6 756.288 1453.37 Q753.858 1454.13 751.08 1455.68 L751.08 1450.96 Q753.904 1449.82 756.358 1449.25 Q758.812 1448.67 760.849 1448.67 Q766.219 1448.67 769.413 1451.35 Q772.608 1454.04 772.608 1458.53 Q772.608 1460.66 771.798 1462.58 Q771.011 1464.48 768.904 1467.07 Q768.325 1467.74 765.224 1470.96 Q762.122 1474.15 756.474 1479.92 Z\" fill=\"#000000\" fill-rule=\"evenodd\" fill-opacity=\"1\" /><path clip-path=\"url(#clip500)\" d=\"M 0 0 M777.909 1449.29 L796.265 1449.29 L796.265 1453.23 L782.191 1453.23 L782.191 1461.7 Q783.21 1461.35 784.228 1461.19 Q785.247 1461 786.265 1461 Q792.052 1461 795.432 1464.18 Q798.811 1467.35 798.811 1472.76 Q798.811 1478.34 795.339 1481.44 Q791.867 1484.52 785.548 1484.52 Q783.372 1484.52 781.103 1484.15 Q778.858 1483.78 776.45 1483.04 L776.45 1478.34 Q778.534 1479.48 780.756 1480.03 Q782.978 1480.59 785.455 1480.59 Q789.46 1480.59 791.797 1478.48 Q794.135 1476.38 794.135 1472.76 Q794.135 1469.15 791.797 1467.05 Q789.46 1464.94 785.455 1464.94 Q783.58 1464.94 781.705 1465.36 Q779.853 1465.77 777.909 1466.65 L777.909 1449.29 Z\" fill=\"#000000\" fill-rule=\"evenodd\" fill-opacity=\"1\" /><path clip-path=\"url(#clip500)\" d=\"M 0 0 M813.881 1452.37 Q810.27 1452.37 808.441 1455.94 Q806.635 1459.48 806.635 1466.61 Q806.635 1473.71 808.441 1477.28 Q810.27 1480.82 813.881 1480.82 Q817.515 1480.82 819.32 1477.28 Q821.149 1473.71 821.149 1466.61 Q821.149 1459.48 819.32 1455.94 Q817.515 1452.37 813.881 1452.37 M813.881 1448.67 Q819.691 1448.67 822.746 1453.27 Q825.825 1457.86 825.825 1466.61 Q825.825 1475.33 822.746 1479.94 Q819.691 1484.52 813.881 1484.52 Q808.071 1484.52 804.992 1479.94 Q801.936 1475.33 801.936 1466.61 Q801.936 1457.86 804.992 1453.27 Q808.071 1448.67 813.881 1448.67 Z\" fill=\"#000000\" fill-rule=\"evenodd\" fill-opacity=\"1\" /><path clip-path=\"url(#clip500)\" d=\"M 0 0 M1252.38 1449.29 L1270.73 1449.29 L1270.73 1453.23 L1256.66 1453.23 L1256.66 1461.7 Q1257.68 1461.35 1258.69 1461.19 Q1259.71 1461 1260.73 1461 Q1266.52 1461 1269.9 1464.18 Q1273.28 1467.35 1273.28 1472.76 Q1273.28 1478.34 1269.81 1481.44 Q1266.33 1484.52 1260.01 1484.52 Q1257.84 1484.52 1255.57 1484.15 Q1253.32 1483.78 1250.92 1483.04 L1250.92 1478.34 Q1253 1479.48 1255.22 1480.03 Q1257.44 1480.59 1259.92 1480.59 Q1263.93 1480.59 1266.26 1478.48 Q1268.6 1476.38 1268.6 1472.76 Q1268.6 1469.15 1266.26 1467.05 Q1263.93 1464.94 1259.92 1464.94 Q1258.05 1464.94 1256.17 1465.36 Q1254.32 1465.77 1252.38 1466.65 L1252.38 1449.29 Z\" fill=\"#000000\" fill-rule=\"evenodd\" fill-opacity=\"1\" /><path clip-path=\"url(#clip500)\" d=\"M 0 0 M1288.35 1452.37 Q1284.74 1452.37 1282.91 1455.94 Q1281.1 1459.48 1281.1 1466.61 Q1281.1 1473.71 1282.91 1477.28 Q1284.74 1480.82 1288.35 1480.82 Q1291.98 1480.82 1293.79 1477.28 Q1295.62 1473.71 1295.62 1466.61 Q1295.62 1459.48 1293.79 1455.94 Q1291.98 1452.37 1288.35 1452.37 M1288.35 1448.67 Q1294.16 1448.67 1297.21 1453.27 Q1300.29 1457.86 1300.29 1466.61 Q1300.29 1475.33 1297.21 1479.94 Q1294.16 1484.52 1288.35 1484.52 Q1282.54 1484.52 1279.46 1479.94 Q1276.4 1475.33 1276.4 1466.61 Q1276.4 1457.86 1279.46 1453.27 Q1282.54 1448.67 1288.35 1448.67 Z\" fill=\"#000000\" fill-rule=\"evenodd\" fill-opacity=\"1\" /><path clip-path=\"url(#clip500)\" d=\"M 0 0 M1315.36 1452.37 Q1311.75 1452.37 1309.92 1455.94 Q1308.12 1459.48 1308.12 1466.61 Q1308.12 1473.71 1309.92 1477.28 Q1311.75 1480.82 1315.36 1480.82 Q1319 1480.82 1320.8 1477.28 Q1322.63 1473.71 1322.63 1466.61 Q1322.63 1459.48 1320.8 1455.94 Q1319 1452.37 1315.36 1452.37 M1315.36 1448.67 Q1321.17 1448.67 1324.23 1453.27 Q1327.31 1457.86 1327.31 1466.61 Q1327.31 1475.33 1324.23 1479.94 Q1321.17 1484.52 1315.36 1484.52 Q1309.55 1484.52 1306.47 1479.94 Q1303.42 1475.33 1303.42 1466.61 Q1303.42 1457.86 1306.47 1453.27 Q1309.55 1448.67 1315.36 1448.67 Z\" fill=\"#000000\" fill-rule=\"evenodd\" fill-opacity=\"1\" /><path clip-path=\"url(#clip500)\" d=\"M 0 0 M1752.26 1449.29 L1774.48 1449.29 L1774.48 1451.28 L1761.93 1483.85 L1757.05 1483.85 L1768.86 1453.23 L1752.26 1453.23 L1752.26 1449.29 Z\" fill=\"#000000\" fill-rule=\"evenodd\" fill-opacity=\"1\" /><path clip-path=\"url(#clip500)\" d=\"M 0 0 M1779.6 1449.29 L1797.95 1449.29 L1797.95 1453.23 L1783.88 1453.23 L1783.88 1461.7 Q1784.9 1461.35 1785.92 1461.19 Q1786.93 1461 1787.95 1461 Q1793.74 1461 1797.12 1464.18 Q1800.5 1467.35 1800.5 1472.76 Q1800.5 1478.34 1797.03 1481.44 Q1793.55 1484.52 1787.24 1484.52 Q1785.06 1484.52 1782.79 1484.15 Q1780.55 1483.78 1778.14 1483.04 L1778.14 1478.34 Q1780.22 1479.48 1782.44 1480.03 Q1784.67 1480.59 1787.14 1480.59 Q1791.15 1480.59 1793.49 1478.48 Q1795.82 1476.38 1795.82 1472.76 Q1795.82 1469.15 1793.49 1467.05 Q1791.15 1464.94 1787.14 1464.94 Q1785.27 1464.94 1783.39 1465.36 Q1781.54 1465.77 1779.6 1466.65 L1779.6 1449.29 Z\" fill=\"#000000\" fill-rule=\"evenodd\" fill-opacity=\"1\" /><path clip-path=\"url(#clip500)\" d=\"M 0 0 M1815.57 1452.37 Q1811.96 1452.37 1810.13 1455.94 Q1808.32 1459.48 1808.32 1466.61 Q1808.32 1473.71 1810.13 1477.28 Q1811.96 1480.82 1815.57 1480.82 Q1819.2 1480.82 1821.01 1477.28 Q1822.84 1473.71 1822.84 1466.61 Q1822.84 1459.48 1821.01 1455.94 Q1819.2 1452.37 1815.57 1452.37 M1815.57 1448.67 Q1821.38 1448.67 1824.43 1453.27 Q1827.51 1457.86 1827.51 1466.61 Q1827.51 1475.33 1824.43 1479.94 Q1821.38 1484.52 1815.57 1484.52 Q1809.76 1484.52 1806.68 1479.94 Q1803.62 1475.33 1803.62 1466.61 Q1803.62 1457.86 1806.68 1453.27 Q1809.76 1448.67 1815.57 1448.67 Z\" fill=\"#000000\" fill-rule=\"evenodd\" fill-opacity=\"1\" /><path clip-path=\"url(#clip500)\" d=\"M 0 0 M2240.52 1479.92 L2248.16 1479.92 L2248.16 1453.55 L2239.85 1455.22 L2239.85 1450.96 L2248.11 1449.29 L2252.79 1449.29 L2252.79 1479.92 L2260.43 1479.92 L2260.43 1483.85 L2240.52 1483.85 L2240.52 1479.92 Z\" fill=\"#000000\" fill-rule=\"evenodd\" fill-opacity=\"1\" /><path clip-path=\"url(#clip500)\" d=\"M 0 0 M2275.5 1452.37 Q2271.89 1452.37 2270.06 1455.94 Q2268.25 1459.48 2268.25 1466.61 Q2268.25 1473.71 2270.06 1477.28 Q2271.89 1480.82 2275.5 1480.82 Q2279.13 1480.82 2280.94 1477.28 Q2282.77 1473.71 2282.77 1466.61 Q2282.77 1459.48 2280.94 1455.94 Q2279.13 1452.37 2275.5 1452.37 M2275.5 1448.67 Q2281.31 1448.67 2284.36 1453.27 Q2287.44 1457.86 2287.44 1466.61 Q2287.44 1475.33 2284.36 1479.94 Q2281.31 1484.52 2275.5 1484.52 Q2269.69 1484.52 2266.61 1479.94 Q2263.55 1475.33 2263.55 1466.61 Q2263.55 1457.86 2266.61 1453.27 Q2269.69 1448.67 2275.5 1448.67 Z\" fill=\"#000000\" fill-rule=\"evenodd\" fill-opacity=\"1\" /><path clip-path=\"url(#clip500)\" d=\"M 0 0 M2302.51 1452.37 Q2298.9 1452.37 2297.07 1455.94 Q2295.27 1459.48 2295.27 1466.61 Q2295.27 1473.71 2297.07 1477.28 Q2298.9 1480.82 2302.51 1480.82 Q2306.15 1480.82 2307.95 1477.28 Q2309.78 1473.71 2309.78 1466.61 Q2309.78 1459.48 2307.95 1455.94 Q2306.15 1452.37 2302.51 1452.37 M2302.51 1448.67 Q2308.32 1448.67 2311.38 1453.27 Q2314.46 1457.86 2314.46 1466.61 Q2314.46 1475.33 2311.38 1479.94 Q2308.32 1484.52 2302.51 1484.52 Q2296.7 1484.52 2293.62 1479.94 Q2290.57 1475.33 2290.57 1466.61 Q2290.57 1457.86 2293.62 1453.27 Q2296.7 1448.67 2302.51 1448.67 Z\" fill=\"#000000\" fill-rule=\"evenodd\" fill-opacity=\"1\" /><path clip-path=\"url(#clip500)\" d=\"M 0 0 M2329.53 1452.37 Q2325.91 1452.37 2324.09 1455.94 Q2322.28 1459.48 2322.28 1466.61 Q2322.28 1473.71 2324.09 1477.28 Q2325.91 1480.82 2329.53 1480.82 Q2333.16 1480.82 2334.97 1477.28 Q2336.79 1473.71 2336.79 1466.61 Q2336.79 1459.48 2334.97 1455.94 Q2333.16 1452.37 2329.53 1452.37 M2329.53 1448.67 Q2335.34 1448.67 2338.39 1453.27 Q2341.47 1457.86 2341.47 1466.61 Q2341.47 1475.33 2338.39 1479.94 Q2335.34 1484.52 2329.53 1484.52 Q2323.72 1484.52 2320.64 1479.94 Q2317.58 1475.33 2317.58 1466.61 Q2317.58 1457.86 2320.64 1453.27 Q2323.72 1448.67 2329.53 1448.67 Z\" fill=\"#000000\" fill-rule=\"evenodd\" fill-opacity=\"1\" /><path clip-path=\"url(#clip500)\" d=\"M 0 0 M1158.02 1520.4 L1163.88 1520.4 L1163.88 1556.04 L1158.02 1556.04 L1158.02 1520.4 M1158.02 1506.52 L1163.88 1506.52 L1163.88 1513.93 L1158.02 1513.93 L1158.02 1506.52 Z\" fill=\"#000000\" fill-rule=\"evenodd\" fill-opacity=\"1\" /><path clip-path=\"url(#clip500)\" d=\"M 0 0 M1175.82 1510.27 L1175.82 1520.4 L1187.88 1520.4 L1187.88 1524.95 L1175.82 1524.95 L1175.82 1544.3 Q1175.82 1548.66 1176.99 1549.9 Q1178.2 1551.14 1181.86 1551.14 L1187.88 1551.14 L1187.88 1556.04 L1181.86 1556.04 Q1175.08 1556.04 1172.51 1553.53 Q1169.93 1550.98 1169.93 1544.3 L1169.93 1524.95 L1165.63 1524.95 L1165.63 1520.4 L1169.93 1520.4 L1169.93 1510.27 L1175.82 1510.27 Z\" fill=\"#000000\" fill-rule=\"evenodd\" fill-opacity=\"1\" /><path clip-path=\"url(#clip500)\" d=\"M 0 0 M1224.51 1536.76 L1224.51 1539.62 L1197.59 1539.62 Q1197.97 1545.67 1201.21 1548.85 Q1204.49 1552 1210.32 1552 Q1213.69 1552 1216.84 1551.17 Q1220.03 1550.35 1223.14 1548.69 L1223.14 1554.23 Q1219.99 1555.57 1216.68 1556.27 Q1213.37 1556.97 1209.97 1556.97 Q1201.44 1556.97 1196.44 1552 Q1191.48 1547.04 1191.48 1538.57 Q1191.48 1529.82 1196.19 1524.69 Q1200.93 1519.54 1208.95 1519.54 Q1216.14 1519.54 1220.31 1524.18 Q1224.51 1528.8 1224.51 1536.76 M1218.66 1535.04 Q1218.59 1530.23 1215.95 1527.37 Q1213.34 1524.5 1209.01 1524.5 Q1204.11 1524.5 1201.15 1527.27 Q1198.22 1530.04 1197.78 1535.07 L1218.66 1535.04 Z\" fill=\"#000000\" fill-rule=\"evenodd\" fill-opacity=\"1\" /><path clip-path=\"url(#clip500)\" d=\"M 0 0 M1251.31 1525.87 Q1250.33 1525.3 1249.15 1525.04 Q1248 1524.76 1246.6 1524.76 Q1241.64 1524.76 1238.96 1528 Q1236.32 1531.22 1236.32 1537.27 L1236.32 1556.04 L1230.43 1556.04 L1230.43 1520.4 L1236.32 1520.4 L1236.32 1525.93 Q1238.17 1522.69 1241.13 1521.13 Q1244.09 1519.54 1248.32 1519.54 Q1248.93 1519.54 1249.66 1519.63 Q1250.39 1519.7 1251.28 1519.85 L1251.31 1525.87 Z\" fill=\"#000000\" fill-rule=\"evenodd\" fill-opacity=\"1\" /><path clip-path=\"url(#clip500)\" d=\"M 0 0 M1273.66 1538.12 Q1266.56 1538.12 1263.82 1539.75 Q1261.08 1541.37 1261.08 1545.29 Q1261.08 1548.4 1263.12 1550.25 Q1265.19 1552.07 1268.72 1552.07 Q1273.59 1552.07 1276.52 1548.63 Q1279.48 1545.16 1279.48 1539.43 L1279.48 1538.12 L1273.66 1538.12 M1285.34 1535.71 L1285.34 1556.04 L1279.48 1556.04 L1279.48 1550.63 Q1277.48 1553.88 1274.48 1555.44 Q1271.49 1556.97 1267.16 1556.97 Q1261.69 1556.97 1258.44 1553.91 Q1255.23 1550.82 1255.23 1545.67 Q1255.23 1539.65 1259.24 1536.6 Q1263.28 1533.54 1271.27 1533.54 L1279.48 1533.54 L1279.48 1532.97 Q1279.48 1528.93 1276.81 1526.73 Q1274.17 1524.5 1269.36 1524.5 Q1266.3 1524.5 1263.41 1525.23 Q1260.51 1525.97 1257.84 1527.43 L1257.84 1522.02 Q1261.05 1520.78 1264.08 1520.17 Q1267.1 1519.54 1269.96 1519.54 Q1277.7 1519.54 1281.52 1523.55 Q1285.34 1527.56 1285.34 1535.71 Z\" fill=\"#000000\" fill-rule=\"evenodd\" fill-opacity=\"1\" /><path clip-path=\"url(#clip500)\" d=\"M 0 0 M1297.27 1510.27 L1297.27 1520.4 L1309.34 1520.4 L1309.34 1524.95 L1297.27 1524.95 L1297.27 1544.3 Q1297.27 1548.66 1298.45 1549.9 Q1299.66 1551.14 1303.32 1551.14 L1309.34 1551.14 L1309.34 1556.04 L1303.32 1556.04 Q1296.54 1556.04 1293.96 1553.53 Q1291.38 1550.98 1291.38 1544.3 L1291.38 1524.95 L1287.09 1524.95 L1287.09 1520.4 L1291.38 1520.4 L1291.38 1510.27 L1297.27 1510.27 Z\" fill=\"#000000\" fill-rule=\"evenodd\" fill-opacity=\"1\" /><path clip-path=\"url(#clip500)\" d=\"M 0 0 M1315.48 1520.4 L1321.34 1520.4 L1321.34 1556.04 L1315.48 1556.04 L1315.48 1520.4 M1315.48 1506.52 L1321.34 1506.52 L1321.34 1513.93 L1315.48 1513.93 L1315.48 1506.52 Z\" fill=\"#000000\" fill-rule=\"evenodd\" fill-opacity=\"1\" /><path clip-path=\"url(#clip500)\" d=\"M 0 0 M1341.29 1524.5 Q1336.58 1524.5 1333.84 1528.19 Q1331.11 1531.85 1331.11 1538.25 Q1331.11 1544.65 1333.81 1548.34 Q1336.55 1552 1341.29 1552 Q1345.97 1552 1348.71 1548.31 Q1351.45 1544.62 1351.45 1538.25 Q1351.45 1531.92 1348.71 1528.23 Q1345.97 1524.5 1341.29 1524.5 M1341.29 1519.54 Q1348.93 1519.54 1353.29 1524.5 Q1357.65 1529.47 1357.65 1538.25 Q1357.65 1547 1353.29 1552 Q1348.93 1556.97 1341.29 1556.97 Q1333.62 1556.97 1329.26 1552 Q1324.93 1547 1324.93 1538.25 Q1324.93 1529.47 1329.26 1524.5 Q1333.62 1519.54 1341.29 1519.54 Z\" fill=\"#000000\" fill-rule=\"evenodd\" fill-opacity=\"1\" /><path clip-path=\"url(#clip500)\" d=\"M 0 0 M1393.43 1534.53 L1393.43 1556.04 L1387.57 1556.04 L1387.57 1534.72 Q1387.57 1529.66 1385.6 1527.14 Q1383.62 1524.63 1379.68 1524.63 Q1374.93 1524.63 1372.2 1527.65 Q1369.46 1530.68 1369.46 1535.9 L1369.46 1556.04 L1363.57 1556.04 L1363.57 1520.4 L1369.46 1520.4 L1369.46 1525.93 Q1371.56 1522.72 1374.39 1521.13 Q1377.26 1519.54 1380.98 1519.54 Q1387.13 1519.54 1390.28 1523.36 Q1393.43 1527.14 1393.43 1534.53 Z\" fill=\"#000000\" fill-rule=\"evenodd\" fill-opacity=\"1\" /><path clip-path=\"url(#clip500)\" d=\"M 0 0 M1422.3 1521.45 L1422.3 1526.98 Q1419.81 1525.71 1417.14 1525.07 Q1414.47 1524.44 1411.6 1524.44 Q1407.24 1524.44 1405.04 1525.77 Q1402.88 1527.11 1402.88 1529.79 Q1402.88 1531.82 1404.44 1533 Q1406 1534.15 1410.71 1535.2 L1412.72 1535.64 Q1418.95 1536.98 1421.56 1539.43 Q1424.21 1541.85 1424.21 1546.21 Q1424.21 1551.17 1420.26 1554.07 Q1416.34 1556.97 1409.47 1556.97 Q1406.6 1556.97 1403.48 1556.39 Q1400.4 1555.85 1396.96 1554.74 L1396.96 1548.69 Q1400.21 1550.38 1403.36 1551.24 Q1406.51 1552.07 1409.6 1552.07 Q1413.73 1552.07 1415.96 1550.66 Q1418.19 1549.23 1418.19 1546.65 Q1418.19 1544.27 1416.57 1542.99 Q1414.98 1541.72 1409.53 1540.54 L1407.5 1540.07 Q1402.05 1538.92 1399.63 1536.56 Q1397.21 1534.18 1397.21 1530.04 Q1397.21 1525.01 1400.78 1522.27 Q1404.34 1519.54 1410.9 1519.54 Q1414.15 1519.54 1417.01 1520.01 Q1419.88 1520.49 1422.3 1521.45 Z\" fill=\"#000000\" fill-rule=\"evenodd\" fill-opacity=\"1\" /><polyline clip-path=\"url(#clip502)\" style=\"stroke:#000000; stroke-width:2; stroke-opacity:0.1; fill:none\" points=\"\n",
       "  229.473,1311.69 2352.76,1311.69 \n",
       "  \"/>\n",
       "<polyline clip-path=\"url(#clip502)\" style=\"stroke:#000000; stroke-width:2; stroke-opacity:0.1; fill:none\" points=\"\n",
       "  229.473,919.123 2352.76,919.123 \n",
       "  \"/>\n",
       "<polyline clip-path=\"url(#clip502)\" style=\"stroke:#000000; stroke-width:2; stroke-opacity:0.1; fill:none\" points=\"\n",
       "  229.473,526.555 2352.76,526.555 \n",
       "  \"/>\n",
       "<polyline clip-path=\"url(#clip502)\" style=\"stroke:#000000; stroke-width:2; stroke-opacity:0.1; fill:none\" points=\"\n",
       "  229.473,133.987 2352.76,133.987 \n",
       "  \"/>\n",
       "<polyline clip-path=\"url(#clip500)\" style=\"stroke:#000000; stroke-width:4; stroke-opacity:1; fill:none\" points=\"\n",
       "  229.473,1423.18 229.473,47.2441 \n",
       "  \"/>\n",
       "<polyline clip-path=\"url(#clip500)\" style=\"stroke:#000000; stroke-width:4; stroke-opacity:1; fill:none\" points=\"\n",
       "  229.473,1311.69 254.952,1311.69 \n",
       "  \"/>\n",
       "<polyline clip-path=\"url(#clip500)\" style=\"stroke:#000000; stroke-width:4; stroke-opacity:1; fill:none\" points=\"\n",
       "  229.473,919.123 254.952,919.123 \n",
       "  \"/>\n",
       "<polyline clip-path=\"url(#clip500)\" style=\"stroke:#000000; stroke-width:4; stroke-opacity:1; fill:none\" points=\"\n",
       "  229.473,526.555 254.952,526.555 \n",
       "  \"/>\n",
       "<polyline clip-path=\"url(#clip500)\" style=\"stroke:#000000; stroke-width:4; stroke-opacity:1; fill:none\" points=\"\n",
       "  229.473,133.987 254.952,133.987 \n",
       "  \"/>\n",
       "<path clip-path=\"url(#clip500)\" d=\"M 0 0 M119.538 1325.04 L127.177 1325.04 L127.177 1298.67 L118.867 1300.34 L118.867 1296.08 L127.13 1294.41 L131.806 1294.41 L131.806 1325.04 L139.445 1325.04 L139.445 1328.97 L119.538 1328.97 L119.538 1325.04 Z\" fill=\"#000000\" fill-rule=\"evenodd\" fill-opacity=\"1\" /><path clip-path=\"url(#clip500)\" d=\"M 0 0 M154.515 1297.49 Q150.903 1297.49 149.075 1301.05 Q147.269 1304.6 147.269 1311.73 Q147.269 1318.83 149.075 1322.4 Q150.903 1325.94 154.515 1325.94 Q158.149 1325.94 159.954 1322.4 Q161.783 1318.83 161.783 1311.73 Q161.783 1304.6 159.954 1301.05 Q158.149 1297.49 154.515 1297.49 M154.515 1293.79 Q160.325 1293.79 163.38 1298.39 Q166.459 1302.98 166.459 1311.73 Q166.459 1320.45 163.38 1325.06 Q160.325 1329.64 154.515 1329.64 Q148.704 1329.64 145.626 1325.06 Q142.57 1320.45 142.57 1311.73 Q142.57 1302.98 145.626 1298.39 Q148.704 1293.79 154.515 1293.79 Z\" fill=\"#000000\" fill-rule=\"evenodd\" fill-opacity=\"1\" /><path clip-path=\"url(#clip500)\" d=\"M 0 0 M181.528 1297.49 Q177.917 1297.49 176.089 1301.05 Q174.283 1304.6 174.283 1311.73 Q174.283 1318.83 176.089 1322.4 Q177.917 1325.94 181.528 1325.94 Q185.163 1325.94 186.968 1322.4 Q188.797 1318.83 188.797 1311.73 Q188.797 1304.6 186.968 1301.05 Q185.163 1297.49 181.528 1297.49 M181.528 1293.79 Q187.338 1293.79 190.394 1298.39 Q193.473 1302.98 193.473 1311.73 Q193.473 1320.45 190.394 1325.06 Q187.338 1329.64 181.528 1329.64 Q175.718 1329.64 172.639 1325.06 Q169.584 1320.45 169.584 1311.73 Q169.584 1302.98 172.639 1298.39 Q175.718 1293.79 181.528 1293.79 Z\" fill=\"#000000\" fill-rule=\"evenodd\" fill-opacity=\"1\" /><path clip-path=\"url(#clip500)\" d=\"M 0 0 M123.126 932.468 L139.445 932.468 L139.445 936.403 L117.501 936.403 L117.501 932.468 Q120.163 929.713 124.746 925.083 Q129.353 920.431 130.533 919.088 Q132.779 916.565 133.658 914.829 Q134.561 913.069 134.561 911.38 Q134.561 908.625 132.617 906.889 Q130.695 905.153 127.593 905.153 Q125.394 905.153 122.941 905.917 Q120.51 906.681 117.732 908.232 L117.732 903.509 Q120.556 902.375 123.01 901.796 Q125.464 901.218 127.501 901.218 Q132.871 901.218 136.066 903.903 Q139.26 906.588 139.26 911.079 Q139.26 913.208 138.45 915.13 Q137.663 917.028 135.556 919.62 Q134.978 920.292 131.876 923.509 Q128.774 926.704 123.126 932.468 Z\" fill=\"#000000\" fill-rule=\"evenodd\" fill-opacity=\"1\" /><path clip-path=\"url(#clip500)\" d=\"M 0 0 M154.515 904.921 Q150.903 904.921 149.075 908.486 Q147.269 912.028 147.269 919.157 Q147.269 926.264 149.075 929.829 Q150.903 933.37 154.515 933.37 Q158.149 933.37 159.954 929.829 Q161.783 926.264 161.783 919.157 Q161.783 912.028 159.954 908.486 Q158.149 904.921 154.515 904.921 M154.515 901.218 Q160.325 901.218 163.38 905.824 Q166.459 910.407 166.459 919.157 Q166.459 927.884 163.38 932.491 Q160.325 937.074 154.515 937.074 Q148.704 937.074 145.626 932.491 Q142.57 927.884 142.57 919.157 Q142.57 910.407 145.626 905.824 Q148.704 901.218 154.515 901.218 Z\" fill=\"#000000\" fill-rule=\"evenodd\" fill-opacity=\"1\" /><path clip-path=\"url(#clip500)\" d=\"M 0 0 M181.528 904.921 Q177.917 904.921 176.089 908.486 Q174.283 912.028 174.283 919.157 Q174.283 926.264 176.089 929.829 Q177.917 933.37 181.528 933.37 Q185.163 933.37 186.968 929.829 Q188.797 926.264 188.797 919.157 Q188.797 912.028 186.968 908.486 Q185.163 904.921 181.528 904.921 M181.528 901.218 Q187.338 901.218 190.394 905.824 Q193.473 910.407 193.473 919.157 Q193.473 927.884 190.394 932.491 Q187.338 937.074 181.528 937.074 Q175.718 937.074 172.639 932.491 Q169.584 927.884 169.584 919.157 Q169.584 910.407 172.639 905.824 Q175.718 901.218 181.528 901.218 Z\" fill=\"#000000\" fill-rule=\"evenodd\" fill-opacity=\"1\" /><path clip-path=\"url(#clip500)\" d=\"M 0 0 M132.316 525.201 Q135.672 525.918 137.547 528.187 Q139.445 530.455 139.445 533.789 Q139.445 538.904 135.927 541.705 Q132.408 544.506 125.927 544.506 Q123.751 544.506 121.436 544.066 Q119.144 543.65 116.691 542.793 L116.691 538.279 Q118.635 539.414 120.95 539.992 Q123.265 540.571 125.788 540.571 Q130.186 540.571 132.478 538.835 Q134.792 537.099 134.792 533.789 Q134.792 530.733 132.64 529.02 Q130.51 527.284 126.691 527.284 L122.663 527.284 L122.663 523.442 L126.876 523.442 Q130.325 523.442 132.154 522.076 Q133.982 520.687 133.982 518.094 Q133.982 515.432 132.084 514.02 Q130.209 512.585 126.691 512.585 Q124.769 512.585 122.57 513.002 Q120.371 513.419 117.732 514.298 L117.732 510.131 Q120.394 509.391 122.709 509.02 Q125.047 508.65 127.107 508.65 Q132.431 508.65 135.533 511.081 Q138.635 513.488 138.635 517.608 Q138.635 520.479 136.992 522.469 Q135.348 524.437 132.316 525.201 Z\" fill=\"#000000\" fill-rule=\"evenodd\" fill-opacity=\"1\" /><path clip-path=\"url(#clip500)\" d=\"M 0 0 M154.515 512.354 Q150.903 512.354 149.075 515.919 Q147.269 519.46 147.269 526.59 Q147.269 533.696 149.075 537.261 Q150.903 540.803 154.515 540.803 Q158.149 540.803 159.954 537.261 Q161.783 533.696 161.783 526.59 Q161.783 519.46 159.954 515.919 Q158.149 512.354 154.515 512.354 M154.515 508.65 Q160.325 508.65 163.38 513.256 Q166.459 517.84 166.459 526.59 Q166.459 535.317 163.38 539.923 Q160.325 544.506 154.515 544.506 Q148.704 544.506 145.626 539.923 Q142.57 535.317 142.57 526.59 Q142.57 517.84 145.626 513.256 Q148.704 508.65 154.515 508.65 Z\" fill=\"#000000\" fill-rule=\"evenodd\" fill-opacity=\"1\" /><path clip-path=\"url(#clip500)\" d=\"M 0 0 M181.528 512.354 Q177.917 512.354 176.089 515.919 Q174.283 519.46 174.283 526.59 Q174.283 533.696 176.089 537.261 Q177.917 540.803 181.528 540.803 Q185.163 540.803 186.968 537.261 Q188.797 533.696 188.797 526.59 Q188.797 519.46 186.968 515.919 Q185.163 512.354 181.528 512.354 M181.528 508.65 Q187.338 508.65 190.394 513.256 Q193.473 517.84 193.473 526.59 Q193.473 535.317 190.394 539.923 Q187.338 544.506 181.528 544.506 Q175.718 544.506 172.639 539.923 Q169.584 535.317 169.584 526.59 Q169.584 517.84 172.639 513.256 Q175.718 508.65 181.528 508.65 Z\" fill=\"#000000\" fill-rule=\"evenodd\" fill-opacity=\"1\" /><path clip-path=\"url(#clip500)\" d=\"M 0 0 M129.862 120.781 L118.056 139.23 L129.862 139.23 L129.862 120.781 M128.635 116.707 L134.515 116.707 L134.515 139.23 L139.445 139.23 L139.445 143.119 L134.515 143.119 L134.515 151.267 L129.862 151.267 L129.862 143.119 L114.26 143.119 L114.26 138.605 L128.635 116.707 Z\" fill=\"#000000\" fill-rule=\"evenodd\" fill-opacity=\"1\" /><path clip-path=\"url(#clip500)\" d=\"M 0 0 M154.515 119.786 Q150.903 119.786 149.075 123.351 Q147.269 126.892 147.269 134.022 Q147.269 141.129 149.075 144.693 Q150.903 148.235 154.515 148.235 Q158.149 148.235 159.954 144.693 Q161.783 141.129 161.783 134.022 Q161.783 126.892 159.954 123.351 Q158.149 119.786 154.515 119.786 M154.515 116.082 Q160.325 116.082 163.38 120.689 Q166.459 125.272 166.459 134.022 Q166.459 142.749 163.38 147.355 Q160.325 151.939 154.515 151.939 Q148.704 151.939 145.626 147.355 Q142.57 142.749 142.57 134.022 Q142.57 125.272 145.626 120.689 Q148.704 116.082 154.515 116.082 Z\" fill=\"#000000\" fill-rule=\"evenodd\" fill-opacity=\"1\" /><path clip-path=\"url(#clip500)\" d=\"M 0 0 M181.528 119.786 Q177.917 119.786 176.089 123.351 Q174.283 126.892 174.283 134.022 Q174.283 141.129 176.089 144.693 Q177.917 148.235 181.528 148.235 Q185.163 148.235 186.968 144.693 Q188.797 141.129 188.797 134.022 Q188.797 126.892 186.968 123.351 Q185.163 119.786 181.528 119.786 M181.528 116.082 Q187.338 116.082 190.394 120.689 Q193.473 125.272 193.473 134.022 Q193.473 142.749 190.394 147.355 Q187.338 151.939 181.528 151.939 Q175.718 151.939 172.639 147.355 Q169.584 142.749 169.584 134.022 Q169.584 125.272 172.639 120.689 Q175.718 116.082 181.528 116.082 Z\" fill=\"#000000\" fill-rule=\"evenodd\" fill-opacity=\"1\" /><path clip-path=\"url(#clip500)\" d=\"M 0 0 M38.479 759.593 L43.3487 759.593 L43.3487 765.194 Q43.3487 768.345 44.6219 769.587 Q45.895 770.796 49.2052 770.796 L52.3562 770.796 L52.3562 761.152 L56.9077 761.152 L56.9077 770.796 L88.0042 770.796 L88.0042 776.685 L56.9077 776.685 L56.9077 782.286 L52.3562 782.286 L52.3562 776.685 L49.8736 776.685 Q43.9216 776.685 41.2162 773.915 Q38.479 771.146 38.479 765.131 L38.479 759.593 Z\" fill=\"#000000\" fill-rule=\"evenodd\" fill-opacity=\"1\" /><path clip-path=\"url(#clip500)\" d=\"M 0 0 M38.5426 739.382 Q45.8632 743.647 53.0246 745.715 Q60.186 747.784 67.5384 747.784 Q74.8908 747.784 82.1159 745.715 Q89.3091 743.615 96.5979 739.382 L96.5979 744.474 Q89.1182 749.248 81.8931 751.635 Q74.668 753.991 67.5384 753.991 Q60.4406 753.991 53.2474 751.635 Q46.0542 749.28 38.5426 744.474 L38.5426 739.382 Z\" fill=\"#000000\" fill-rule=\"evenodd\" fill-opacity=\"1\" /><path clip-path=\"url(#clip500)\" d=\"M 0 0 M52.3562 735.785 L52.3562 707.967 L57.7034 707.967 L83.3254 729.992 L83.3254 707.967 L88.0042 707.967 L88.0042 736.581 L82.657 736.581 L57.035 714.555 L57.035 735.785 L52.3562 735.785 Z\" fill=\"#000000\" fill-rule=\"evenodd\" fill-opacity=\"1\" /><path clip-path=\"url(#clip500)\" d=\"M 0 0 M38.5426 702.747 L38.5426 697.654 Q46.0542 692.88 53.2474 690.525 Q60.4406 688.138 67.5384 688.138 Q74.668 688.138 81.8931 690.525 Q89.1182 692.88 96.5979 697.654 L96.5979 702.747 Q89.3091 698.514 82.1159 696.445 Q74.8908 694.344 67.5384 694.344 Q60.186 694.344 53.0246 696.445 Q45.8632 698.514 38.5426 702.747 Z\" fill=\"#000000\" fill-rule=\"evenodd\" fill-opacity=\"1\" /><polyline clip-path=\"url(#clip502)\" style=\"stroke:#009af9; stroke-width:4; stroke-opacity:1; fill:none\" points=\"\n",
       "  289.566,86.1857 291.569,687.655 293.572,742.69 295.575,874.194 297.578,922.534 299.581,966.751 301.584,1020.99 303.587,1044.84 305.59,1060.7 307.593,1091.4 \n",
       "  309.597,1104.72 311.6,1117.04 313.603,1133.4 315.606,1144.63 317.609,1147.78 319.612,1171.32 321.615,1185.34 323.618,1181.43 325.621,1185.66 327.624,1203.78 \n",
       "  329.628,1212.06 331.631,1212.07 333.634,1218 335.637,1224.16 337.64,1228.47 339.643,1230.14 341.646,1233.95 343.649,1248.95 345.652,1238.54 347.655,1241.8 \n",
       "  349.659,1260.41 351.662,1249.56 353.665,1260.48 355.668,1250.58 357.671,1264.93 359.674,1263.71 361.677,1263.36 363.68,1265.26 365.683,1279.84 367.686,1261.45 \n",
       "  369.69,1287.3 371.693,1279.84 373.696,1283.17 375.699,1281.73 377.702,1285.03 379.705,1288.95 381.708,1286.02 383.711,1291.3 385.714,1296.56 387.717,1290.36 \n",
       "  389.72,1294.11 391.724,1298.32 393.727,1293.03 395.73,1299.58 397.733,1300.3 399.736,1295.63 401.739,1301.33 403.742,1311.07 405.745,1303.41 407.748,1305.64 \n",
       "  409.751,1304.28 411.755,1316.85 413.758,1312.98 415.761,1302.49 417.764,1314.25 419.767,1307.33 421.77,1314.89 423.773,1310.11 425.776,1313.34 427.779,1318.91 \n",
       "  429.782,1317.61 431.786,1311.87 433.789,1318.19 435.792,1316.85 437.795,1323.54 439.798,1317.44 441.801,1317.59 443.804,1327.74 445.807,1322.21 447.81,1320.7 \n",
       "  449.813,1324.86 451.817,1322.05 453.82,1323.93 455.823,1328.62 457.826,1325.38 459.829,1322.82 461.832,1329.39 463.835,1323.04 465.838,1330.93 467.841,1324.29 \n",
       "  469.844,1330.09 471.847,1333.7 473.851,1326.49 475.854,1331.01 477.857,1327.45 479.86,1335.2 481.863,1328.32 483.866,1336.31 485.869,1334.46 487.872,1334.92 \n",
       "  489.875,1331.07 491.878,1339.88 493.882,1336.83 495.885,1335.65 497.888,1332.66 499.891,1340.44 501.894,1328.6 503.897,1335.72 505.9,1338.43 507.903,1333.94 \n",
       "  509.906,1336.1 511.909,1336.87 513.913,1344.94 515.916,1337.56 517.919,1344.7 519.922,1335.65 521.925,1345.22 523.928,1338.11 525.931,1341.17 527.934,1342.14 \n",
       "  529.937,1344.64 531.94,1341.08 533.943,1343.23 535.947,1347.55 537.95,1346.14 539.953,1345.67 541.956,1341.82 543.959,1349.28 545.962,1340.54 547.965,1342 \n",
       "  549.968,1347.93 551.971,1344.95 553.974,1346.8 555.978,1345.27 557.981,1347.8 559.984,1345.28 561.987,1353.06 563.99,1346.61 565.993,1342.39 567.996,1350.24 \n",
       "  569.999,1346.71 572.002,1345.92 574.005,1347.9 576.009,1352.73 578.012,1343.61 580.015,1352.45 582.018,1349.67 584.021,1350.81 586.024,1351.75 588.027,1350.77 \n",
       "  590.03,1350.01 592.033,1350.84 594.036,1350.21 596.04,1349.36 598.043,1351.92 600.046,1347.81 602.049,1351.29 604.052,1353.3 606.055,1349.83 608.058,1349.91 \n",
       "  610.061,1352.9 612.064,1351.03 614.067,1350.38 616.07,1354.01 618.074,1355.39 620.077,1351.02 622.08,1356.07 624.083,1355.08 626.086,1352.02 628.089,1351.89 \n",
       "  630.092,1355.23 632.095,1358.29 634.098,1353.84 636.101,1356.14 638.105,1353.17 640.108,1357.68 642.111,1354.43 644.114,1354.33 646.117,1354.85 648.12,1354.28 \n",
       "  650.123,1357.16 652.126,1356.47 654.129,1353.87 656.132,1358.92 658.136,1356.31 660.139,1357.71 662.142,1359.08 664.145,1361.66 666.148,1359.51 668.151,1360.6 \n",
       "  670.154,1351.34 672.157,1364.24 674.16,1356.17 676.163,1356.46 678.167,1358.97 680.17,1356.2 682.173,1359.98 684.176,1359.48 686.179,1360.95 688.182,1354.98 \n",
       "  690.185,1358.47 692.188,1355.57 694.191,1360.69 696.194,1360.13 698.197,1358.4 700.201,1360.93 702.204,1357.41 704.207,1362.81 706.21,1361.59 708.213,1356.58 \n",
       "  710.216,1361.43 712.219,1361.91 714.222,1362.37 716.225,1359.71 718.228,1358.62 720.232,1361.92 722.235,1363.29 724.238,1359.34 726.241,1365.07 728.244,1359.45 \n",
       "  730.247,1363.8 732.25,1362.8 734.253,1364.29 736.256,1358.33 738.259,1362.6 740.263,1361.66 742.266,1362.36 744.269,1363.87 746.272,1362.36 748.275,1363.1 \n",
       "  750.278,1359.68 752.281,1364.71 754.284,1360.42 756.287,1366.15 758.29,1364.2 760.293,1364.54 762.297,1363.79 764.3,1365.38 766.303,1363.61 768.306,1366.03 \n",
       "  770.309,1362.98 772.312,1361.16 774.315,1363.51 776.318,1360.78 778.321,1368.31 780.324,1367.27 782.328,1364.59 784.331,1364.94 786.334,1361.24 788.337,1367.01 \n",
       "  790.34,1362.3 792.343,1362.41 794.346,1365.5 796.349,1362.52 798.352,1366.56 800.355,1362.88 802.359,1364.08 804.362,1366.73 806.365,1365.73 808.368,1365.88 \n",
       "  810.371,1363.4 812.374,1365.08 814.377,1363.77 816.38,1366.13 818.383,1364.19 820.386,1367.07 822.39,1363.38 824.393,1365.89 826.396,1367.32 828.399,1366.67 \n",
       "  830.402,1363.92 832.405,1368.06 834.408,1368.17 836.411,1366.39 838.414,1369.35 840.417,1366.37 842.42,1367.11 844.424,1365.38 846.427,1366.41 848.43,1365.75 \n",
       "  850.433,1369.23 852.436,1369.24 854.439,1367.28 856.442,1365.1 858.445,1369.32 860.448,1366.93 862.451,1366.94 864.455,1368.41 866.458,1368.11 868.461,1366.72 \n",
       "  870.464,1366.63 872.467,1367.81 874.47,1366.89 876.473,1370 878.476,1368.37 880.479,1365.83 882.482,1365.44 884.486,1369.32 886.489,1366.91 888.492,1367.32 \n",
       "  890.495,1368.81 892.498,1368.77 894.501,1365.94 896.504,1370.24 898.507,1367.04 900.51,1366.82 902.513,1371.06 904.517,1366.88 906.52,1371.7 908.523,1371.37 \n",
       "  910.526,1369.53 912.529,1367.05 914.532,1370.58 916.535,1370.99 918.538,1369.13 920.541,1369.6 922.544,1370.46 924.547,1366.7 926.551,1371.57 928.554,1368.44 \n",
       "  930.557,1371.28 932.56,1369.98 934.563,1371.93 936.566,1370.71 938.569,1371.52 940.572,1371.39 942.575,1368.07 944.578,1370.82 946.582,1370.18 948.585,1369.46 \n",
       "  950.588,1368.37 952.591,1371.38 954.594,1375.7 956.597,1368.32 958.6,1368.92 960.603,1371.89 962.606,1372.7 964.609,1367.22 966.613,1370.12 968.616,1368.75 \n",
       "  970.619,1369.35 972.622,1371.84 974.625,1372.12 976.628,1369.81 978.631,1368.36 980.634,1373.25 982.637,1369.53 984.64,1373.27 986.644,1371 988.647,1370.19 \n",
       "  990.65,1373.56 992.653,1368.51 994.656,1373.78 996.659,1368.41 998.662,1372.76 1000.67,1371.79 1002.67,1371.92 1004.67,1371.62 1006.67,1369.93 1008.68,1371.06 \n",
       "  1010.68,1371.75 1012.68,1371.53 1014.69,1370.6 1016.69,1373.47 1018.69,1369.87 1020.7,1374.55 1022.7,1372.37 1024.7,1370.15 1026.71,1374.44 1028.71,1371.36 \n",
       "  1030.71,1370.88 1032.71,1373.82 1034.72,1372.59 1036.72,1374.48 1038.72,1372.24 1040.73,1372.07 1042.73,1373.42 1044.73,1372.13 1046.74,1373.56 1048.74,1371.22 \n",
       "  1050.74,1372.96 1052.75,1372.05 1054.75,1371.74 1056.75,1373.54 1058.76,1371.54 1060.76,1374.4 1062.76,1373.9 1064.76,1373.79 1066.77,1369.62 1068.77,1372.75 \n",
       "  1070.77,1369.99 1072.78,1374.88 1074.78,1374.75 1076.78,1375.58 1078.79,1372.95 1080.79,1373.52 1082.79,1373.73 1084.8,1372.03 1086.8,1375.57 1088.8,1373.26 \n",
       "  1090.8,1373.52 1092.81,1372.43 1094.81,1375.16 1096.81,1376.16 1098.82,1372.86 1100.82,1374.97 1102.82,1374.24 1104.83,1374.08 1106.83,1373.2 1108.83,1373.73 \n",
       "  1110.84,1373.94 1112.84,1375.5 1114.84,1373.62 1116.84,1372.72 1118.85,1371.91 1120.85,1375.02 1122.85,1373.07 1124.86,1375.29 1126.86,1375.14 1128.86,1374.17 \n",
       "  1130.87,1372.53 1132.87,1374.6 1134.87,1374.15 1136.88,1375.04 1138.88,1374.55 1140.88,1374.02 1142.89,1374.2 1144.89,1373.13 1146.89,1375.52 1148.89,1374.67 \n",
       "  1150.9,1376.48 1152.9,1373.64 1154.9,1375.82 1156.91,1375.82 1158.91,1373.41 1160.91,1376.43 1162.92,1374.58 1164.92,1373.66 1166.92,1375.2 1168.93,1373.23 \n",
       "  1170.93,1375.15 1172.93,1376.26 1174.93,1374.25 1176.94,1377.39 1178.94,1375.35 1180.94,1373.52 1182.95,1375.09 1184.95,1372.56 1186.95,1375.07 1188.96,1377.62 \n",
       "  1190.96,1376.53 1192.96,1374.75 1194.97,1375.41 1196.97,1375.22 1198.97,1374.8 1200.97,1374.66 1202.98,1374.96 1204.98,1376.96 1206.98,1372.95 1208.99,1374.35 \n",
       "  1210.99,1375.87 1212.99,1373.89 1215,1374.93 1217,1376.91 1219,1375.34 1221.01,1377.12 1223.01,1374.64 1225.01,1376.71 1227.02,1373.8 1229.02,1376.48 \n",
       "  1231.02,1374.5 1233.02,1375.8 1235.03,1373.54 1237.03,1377.26 1239.03,1378.25 1241.04,1376.3 1243.04,1375.24 1245.04,1378.6 1247.05,1376.78 1249.05,1376.26 \n",
       "  1251.05,1376.54 1253.06,1375.83 1255.06,1378.42 1257.06,1375.5 1259.06,1377.17 1261.07,1375.66 1263.07,1375.7 1265.07,1376.06 1267.08,1376.87 1269.08,1375.79 \n",
       "  1271.08,1376.74 1273.09,1376.19 1275.09,1376.94 1277.09,1376.71 1279.1,1374.83 1281.1,1376.14 1283.1,1375.84 1285.11,1378.68 1287.11,1376.06 1289.11,1377.71 \n",
       "  1291.11,1376.03 1293.12,1377.18 1295.12,1376.51 1297.12,1374.93 1299.13,1374.8 1301.13,1376.48 1303.13,1379.12 1305.14,1378.71 1307.14,1377.6 1309.14,1376.32 \n",
       "  1311.15,1376.39 1313.15,1376.44 1315.15,1376.73 1317.15,1378 1319.16,1375.9 1321.16,1374.41 1323.16,1379.89 1325.17,1376.66 1327.17,1374.78 1329.17,1376.61 \n",
       "  1331.18,1374.91 1333.18,1377.6 1335.18,1376.79 1337.19,1377.26 1339.19,1376.52 1341.19,1377.25 1343.19,1376.73 1345.2,1379.12 1347.2,1377.21 1349.2,1378.58 \n",
       "  1351.21,1377.41 1353.21,1375.19 1355.21,1378.06 1357.22,1378.76 1359.22,1376.98 1361.22,1376.69 1363.23,1378.11 1365.23,1377.14 1367.23,1377.2 1369.24,1378.08 \n",
       "  1371.24,1376.69 1373.24,1376.32 1375.24,1377.22 1377.25,1377.42 1379.25,1377.53 1381.25,1376.26 1383.26,1377.92 1385.26,1377.42 1387.26,1378.37 1389.27,1377.21 \n",
       "  1391.27,1374.98 1393.27,1379.24 1395.28,1375 1397.28,1377.21 1399.28,1376.06 1401.28,1377.04 1403.29,1378.19 1405.29,1377.74 1407.29,1377.64 1409.3,1377.2 \n",
       "  1411.3,1378.61 1413.3,1378.28 1415.31,1378.02 1417.31,1378.7 1419.31,1376.79 1421.32,1380.95 1423.32,1377.08 1425.32,1376.26 1427.32,1378.04 1429.33,1377.62 \n",
       "  1431.33,1377.76 1433.33,1376.72 1435.34,1380.64 1437.34,1377.45 1439.34,1378.04 1441.35,1377.2 1443.35,1376.99 1445.35,1378.62 1447.36,1376.46 1449.36,1377.14 \n",
       "  1451.36,1380.23 1453.37,1378.6 1455.37,1376.11 1457.37,1377.48 1459.37,1378.65 1461.38,1377.33 1463.38,1378.59 1465.38,1377.64 1467.39,1379.43 1469.39,1376.52 \n",
       "  1471.39,1377.9 1473.4,1379.07 1475.4,1377.45 1477.4,1376.41 1479.41,1377.75 1481.41,1376.27 1483.41,1379.68 1485.41,1377.75 1487.42,1377.62 1489.42,1377.03 \n",
       "  1491.42,1379.31 1493.43,1379.14 1495.43,1379.06 1497.43,1377.46 1499.44,1378.9 1501.44,1379.84 1503.44,1377.96 1505.45,1378.27 1507.45,1379.43 1509.45,1378.91 \n",
       "  1511.46,1379.4 1513.46,1377.31 1515.46,1378.52 1517.46,1378.02 1519.47,1377.76 1521.47,1378.13 1523.47,1377.61 1525.48,1378.07 1527.48,1381.27 1529.48,1377.96 \n",
       "  1531.49,1382.18 1533.49,1379.67 1535.49,1380.67 1537.5,1378.33 1539.5,1379.16 1541.5,1380.45 1543.5,1378.26 1545.51,1377.98 1547.51,1378.41 1549.51,1379.17 \n",
       "  1551.52,1378.85 1553.52,1379.04 1555.52,1379.7 1557.53,1379.78 1559.53,1378.25 1561.53,1378.58 1563.54,1378.83 1565.54,1381.06 1567.54,1378.49 1569.54,1380.16 \n",
       "  1571.55,1377.68 1573.55,1380.29 1575.55,1377.75 1577.56,1379.3 1579.56,1377.91 1581.56,1381.02 1583.57,1376.38 1585.57,1380.48 1587.57,1380.09 1589.58,1376.14 \n",
       "  1591.58,1380.03 1593.58,1378.88 1595.59,1379.16 1597.59,1379.06 1599.59,1377.78 1601.59,1380.65 1603.6,1379.96 1605.6,1378.49 1607.6,1378.77 1609.61,1379.26 \n",
       "  1611.61,1379.21 1613.61,1379.54 1615.62,1380.29 1617.62,1381.26 1619.62,1379.79 1621.63,1381.02 1623.63,1378.19 1625.63,1377.55 1627.63,1381.35 1629.64,1381.26 \n",
       "  1631.64,1380.16 1633.64,1377.95 1635.65,1379.25 1637.65,1379.71 1639.65,1379.75 1641.66,1377.94 1643.66,1378.41 1645.66,1380.59 1647.67,1377.41 1649.67,1380.33 \n",
       "  1651.67,1380.11 1653.67,1379.89 1655.68,1378.3 1657.68,1380.17 1659.68,1378.93 1661.69,1380.12 1663.69,1379.28 1665.69,1380.52 1667.7,1380.43 1669.7,1381.61 \n",
       "  1671.7,1379.74 1673.71,1381.23 1675.71,1378.87 1677.71,1380.71 1679.72,1380.77 1681.72,1379.26 1683.72,1379.24 1685.72,1379.1 1687.73,1379.26 1689.73,1379.54 \n",
       "  1691.73,1380.1 1693.74,1379.12 1695.74,1379.15 1697.74,1379.06 1699.75,1380.18 1701.75,1380.25 1703.75,1379.47 1705.76,1379.65 1707.76,1381.46 1709.76,1379.15 \n",
       "  1711.76,1379.32 1713.77,1381.05 1715.77,1380.19 1717.77,1376.37 1719.78,1382.47 1721.78,1379.55 1723.78,1376.51 1725.79,1382.23 1727.79,1381.51 1729.79,1380.87 \n",
       "  1731.8,1378.77 1733.8,1381.09 1735.8,1379.39 1737.81,1379.72 1739.81,1380.87 1741.81,1381.1 1743.81,1379 1745.82,1379.83 1747.82,1380.13 1749.82,1381.05 \n",
       "  1751.83,1381.73 1753.83,1378.86 1755.83,1381.36 1757.84,1379.22 1759.84,1379.87 1761.84,1379.46 1763.85,1378.5 1765.85,1381.68 1767.85,1381.68 1769.85,1380.51 \n",
       "  1771.86,1379.26 1773.86,1380.42 1775.86,1378.78 1777.87,1381 1779.87,1380.62 1781.87,1382.01 1783.88,1379.5 1785.88,1380.46 1787.88,1380.66 1789.89,1379.7 \n",
       "  1791.89,1381.39 1793.89,1381.02 1795.89,1379.39 1797.9,1380.66 1799.9,1380.57 1801.9,1378.02 1803.91,1380.72 1805.91,1381.27 1807.91,1380.8 1809.92,1381.32 \n",
       "  1811.92,1380.33 1813.92,1378.33 1815.93,1381.25 1817.93,1381.41 1819.93,1378.45 1821.94,1381.33 1823.94,1380.8 1825.94,1380.82 1827.94,1381.07 1829.95,1380.09 \n",
       "  1831.95,1380.58 1833.95,1380.34 1835.96,1381.97 1837.96,1378.58 1839.96,1381.03 1841.97,1381.01 1843.97,1379.43 1845.97,1380.95 1847.98,1380.02 1849.98,1380.71 \n",
       "  1851.98,1381.59 1853.98,1380.13 1855.99,1381.31 1857.99,1380.95 1859.99,1380.66 1862,1382.02 1864,1381.13 1866,1381.69 1868.01,1381.5 1870.01,1378.81 \n",
       "  1872.01,1381.42 1874.02,1379.22 1876.02,1381.11 1878.02,1379.73 1880.02,1380.25 1882.03,1380.8 1884.03,1381.91 1886.03,1378.87 1888.04,1379.67 1890.04,1382.22 \n",
       "  1892.04,1378.48 1894.05,1381.43 1896.05,1380.59 1898.05,1380.23 1900.06,1378.76 1902.06,1380.28 1904.06,1381.77 1906.07,1380.49 1908.07,1381.3 1910.07,1380.5 \n",
       "  1912.07,1382 1914.08,1378.89 1916.08,1381.55 1918.08,1380.15 1920.09,1381.94 1922.09,1381.2 1924.09,1381.14 1926.1,1381.19 1928.1,1381.52 1930.1,1381.5 \n",
       "  1932.11,1380.93 1934.11,1382.71 1936.11,1379.14 1938.11,1382.42 1940.12,1381.04 1942.12,1381.8 1944.12,1380.23 1946.13,1382.37 1948.13,1381.5 1950.13,1380.27 \n",
       "  1952.14,1380.41 1954.14,1380.88 1956.14,1379.79 1958.15,1381.45 1960.15,1382.3 1962.15,1380.2 1964.16,1380.64 1966.16,1379.46 1968.16,1381.4 1970.16,1380.97 \n",
       "  1972.17,1382.12 1974.17,1379.46 1976.17,1381.12 1978.18,1380.2 1980.18,1382.08 1982.18,1380.49 1984.19,1380.37 1986.19,1381.46 1988.19,1382.7 1990.2,1379.37 \n",
       "  1992.2,1380.25 1994.2,1382.68 1996.2,1381.82 1998.21,1380.87 2000.21,1382.2 2002.21,1382.46 2004.22,1380.93 2006.22,1380.14 2008.22,1380.17 2010.23,1380.61 \n",
       "  2012.23,1382.43 2014.23,1378.61 2016.24,1381.96 2018.24,1383.38 2020.24,1381.77 2022.24,1381.91 2024.25,1381.43 2026.25,1380.74 2028.25,1381.38 2030.26,1381.9 \n",
       "  2032.26,1380.23 2034.26,1381.97 2036.27,1382.26 2038.27,1381.54 2040.27,1381.35 2042.28,1381.09 2044.28,1381.07 2046.28,1380.44 2048.29,1381.62 2050.29,1381.77 \n",
       "  2052.29,1380.46 2054.29,1381.71 2056.3,1381.44 2058.3,1380.83 2060.3,1381.21 2062.31,1381.41 2064.31,1382.98 2066.31,1380.87 2068.32,1382.13 2070.32,1382.6 \n",
       "  2072.32,1381.65 2074.33,1381.2 2076.33,1381.98 2078.33,1381.45 2080.33,1379.72 2082.34,1383.35 2084.34,1381.94 2086.34,1381.49 2088.35,1380.15 2090.35,1380.92 \n",
       "  2092.35,1380.67 2094.36,1381.23 2096.36,1380.84 2098.36,1381.67 2100.37,1382.98 2102.37,1381.7 2104.37,1381.98 2106.37,1381.15 2108.38,1382.07 2110.38,1382.15 \n",
       "  2112.38,1383.03 2114.39,1381.44 2116.39,1383.68 2118.39,1380.98 2120.4,1382.55 2122.4,1382.24 2124.4,1382.22 2126.41,1381.15 2128.41,1381.92 2130.41,1383.04 \n",
       "  2132.42,1381.8 2134.42,1381.8 2136.42,1381.66 2138.42,1382.07 2140.43,1381.03 2142.43,1382.69 2144.43,1381.58 2146.44,1382.48 2148.44,1382.11 2150.44,1382.69 \n",
       "  2152.45,1381.15 2154.45,1382.56 2156.45,1381.95 2158.46,1381.05 2160.46,1382.47 2162.46,1380.77 2164.46,1382.78 2166.47,1381.24 2168.47,1383.52 2170.47,1382.05 \n",
       "  2172.48,1381.61 2174.48,1380.92 2176.48,1381.78 2178.49,1382.75 2180.49,1380.79 2182.49,1381.19 2184.5,1382.37 2186.5,1381.84 2188.5,1383.16 2190.51,1381.41 \n",
       "  2192.51,1382.39 2194.51,1381.54 2196.51,1381.91 2198.52,1382.88 2200.52,1383.01 2202.52,1380.16 2204.53,1381.95 2206.53,1381.92 2208.53,1382.56 2210.54,1382.1 \n",
       "  2212.54,1381.13 2214.54,1381.93 2216.55,1380.66 2218.55,1382.88 2220.55,1381.65 2222.55,1381.54 2224.56,1382.16 2226.56,1380.61 2228.56,1383.07 2230.57,1383.06 \n",
       "  2232.57,1381.72 2234.57,1381.75 2236.58,1381.58 2238.58,1382.47 2240.58,1383.42 2242.59,1382.1 2244.59,1381.41 2246.59,1382.31 2248.59,1383.25 2250.6,1381.98 \n",
       "  2252.6,1382.26 2254.6,1382.9 2256.61,1383.43 2258.61,1382.38 2260.61,1381.97 2262.62,1381.67 2264.62,1382.52 2266.62,1381.9 2268.63,1384.24 2270.63,1382.27 \n",
       "  2272.63,1381.81 2274.64,1383.15 2276.64,1382.41 2278.64,1382.28 2280.64,1382.29 2282.65,1382.87 2284.65,1383.2 2286.65,1381.07 2288.66,1382.12 2290.66,1381.86 \n",
       "  2292.66,1381.37 \n",
       "  \"/>\n",
       "<path clip-path=\"url(#clip500)\" d=\"\n",
       "M1995.04 214.069 L2281.98 214.069 L2281.98 93.1086 L1995.04 93.1086  Z\n",
       "  \" fill=\"#ffffff\" fill-rule=\"evenodd\" fill-opacity=\"1\"/>\n",
       "<polyline clip-path=\"url(#clip500)\" style=\"stroke:#000000; stroke-width:4; stroke-opacity:1; fill:none\" points=\"\n",
       "  1995.04,214.069 2281.98,214.069 2281.98,93.1086 1995.04,93.1086 1995.04,214.069 \n",
       "  \"/>\n",
       "<polyline clip-path=\"url(#clip500)\" style=\"stroke:#009af9; stroke-width:4; stroke-opacity:1; fill:none\" points=\"\n",
       "  2018.63,153.589 2160.19,153.589 \n",
       "  \"/>\n",
       "<path clip-path=\"url(#clip500)\" d=\"M 0 0 M2197.62 173.276 Q2195.81 177.906 2194.1 179.318 Q2192.39 180.73 2189.52 180.73 L2186.12 180.73 L2186.12 177.165 L2188.62 177.165 Q2190.37 177.165 2191.35 176.332 Q2192.32 175.498 2193.5 172.396 L2194.26 170.452 L2183.78 144.943 L2188.29 144.943 L2196.39 165.221 L2204.49 144.943 L2209.01 144.943 L2197.62 173.276 Z\" fill=\"#000000\" fill-rule=\"evenodd\" fill-opacity=\"1\" /><path clip-path=\"url(#clip500)\" d=\"M 0 0 M2214.89 166.933 L2222.53 166.933 L2222.53 140.568 L2214.22 142.235 L2214.22 137.975 L2222.48 136.309 L2227.16 136.309 L2227.16 166.933 L2234.8 166.933 L2234.8 170.869 L2214.89 170.869 L2214.89 166.933 Z\" fill=\"#000000\" fill-rule=\"evenodd\" fill-opacity=\"1\" /></svg>\n"
      ]
     },
     "execution_count": 109,
     "metadata": {},
     "output_type": "execute_result"
    }
   ],
   "source": [
    "z = zeros(k^2,1); \n",
    "i=0;\n",
    "alpha = 1;nbiters = 1000;\n",
    "les_fs = zeros(nbiters+1,1);\n",
    "##Initialisation (possible)\n",
    "## A compléter\n",
    "\n",
    "f(t) = norm(t,1) \n",
    "g = sign.(z)\n",
    "choix_pas = 1; # 1 cas a, 2 cas b, 3 cas c\n",
    "z_new = progection(z - choix_pas*g,Theta,y)\n",
    "#z_new = progection2(z,alpha,choix_pas,Theta)\n",
    "## Fin à compléter\n",
    "\n",
    "while i <= nbiters\n",
    "    i = i + 1; \n",
    "    ## A compléter\n",
    "    z = [j for j in z_new]\n",
    "    g = sign.(z)\n",
    "    choix_pas = 1/sqrt(i); # 1 cas a, 2 cas b, 3 cas c\n",
    "    z_new = progection(z - choix_pas*g,Theta,y)\n",
    "    les_fs[i] = f(z_new);\n",
    "    #z_new = progection2(z,alpha,choix_pas,Theta)\n",
    "    ## Fin à compléter\n",
    "end\n",
    "println(norm(Theta*z_new-y))\n",
    "norm(Theta\\y)\n",
    "z = z_new;\n",
    "print(norm(z))\n",
    "plot([i for i = 1:(nbiters+1)],les_fs,xlabel = \"iterations\",ylabel = \"f(z)\")"
   ]
  },
  {
   "cell_type": "code",
   "execution_count": 110,
   "metadata": {
    "slideshow": {
     "slide_type": "subslide"
    }
   },
   "outputs": [
    {
     "name": "stdout",
     "output_type": "stream",
     "text": [
      "4.501560899621403"
     ]
    },
    {
     "data": {
      "image/png": "[encoded data removed]",
      "text/plain": [
       "30×30 view(reinterpret(Gray{Float64}, ::Array{Float64,2}), :, :) with eltype Gray{Float64}:\n",
       " Gray{Float64}(0.683093)  Gray{Float64}(0.66489)   …  Gray{Float64}(0.739002)\n",
       " Gray{Float64}(0.668141)  Gray{Float64}(0.774085)     Gray{Float64}(0.766616)\n",
       " Gray{Float64}(0.741105)  Gray{Float64}(0.74313)      Gray{Float64}(0.827876)\n",
       " Gray{Float64}(0.792554)  Gray{Float64}(0.77143)      Gray{Float64}(0.876827)\n",
       " Gray{Float64}(0.795521)  Gray{Float64}(0.849752)     Gray{Float64}(0.899287)\n",
       " Gray{Float64}(0.745051)  Gray{Float64}(0.876085)  …  Gray{Float64}(0.797103)\n",
       " Gray{Float64}(0.80422)   Gray{Float64}(0.893436)     Gray{Float64}(0.677082)\n",
       " Gray{Float64}(0.730238)  Gray{Float64}(0.883938)     Gray{Float64}(0.247469)\n",
       " Gray{Float64}(0.743455)  Gray{Float64}(0.817053)     Gray{Float64}(0.200992)\n",
       " Gray{Float64}(0.702849)  Gray{Float64}(0.753312)     Gray{Float64}(0.230031)\n",
       " Gray{Float64}(0.625952)  Gray{Float64}(0.836199)  …  Gray{Float64}(0.198257)\n",
       " Gray{Float64}(0.779749)  Gray{Float64}(0.888539)     Gray{Float64}(0.180025)\n",
       " Gray{Float64}(0.761778)  Gray{Float64}(0.894284)     Gray{Float64}(0.244812)\n",
       " ⋮                                                 ⋱  \n",
       " Gray{Float64}(0.599348)  Gray{Float64}(0.444763)     Gray{Float64}(0.244691)\n",
       " Gray{Float64}(0.384154)  Gray{Float64}(0.287315)     Gray{Float64}(0.134768)\n",
       " Gray{Float64}(0.257866)  Gray{Float64}(0.276484)  …  Gray{Float64}(0.155838)\n",
       " Gray{Float64}(0.343899)  Gray{Float64}(0.325243)     Gray{Float64}(0.08142)\n",
       " Gray{Float64}(0.334799)  Gray{Float64}(0.18122)      Gray{Float64}(0.108475)\n",
       " Gray{Float64}(0.336023)  Gray{Float64}(0.296182)     Gray{Float64}(0.217513)\n",
       " Gray{Float64}(0.161768)  Gray{Float64}(0.263551)     Gray{Float64}(0.24724)\n",
       " Gray{Float64}(0.203644)  Gray{Float64}(0.181069)  …  Gray{Float64}(0.295505)\n",
       " Gray{Float64}(0.202597)  Gray{Float64}(0.170155)     Gray{Float64}(0.226021)\n",
       " Gray{Float64}(0.235304)  Gray{Float64}(0.238942)     Gray{Float64}(0.273724)\n",
       " Gray{Float64}(0.239776)  Gray{Float64}(0.180314)     Gray{Float64}(0.278407)\n",
       " Gray{Float64}(0.265794)  Gray{Float64}(0.276208)     Gray{Float64}(0.255236)"
      ]
     },
     "execution_count": 110,
     "metadata": {},
     "output_type": "execute_result"
    }
   ],
   "source": [
    "x3 = my_function(n,k,z);\n",
    "imhsv = colorview(Gray,float(x3));\n",
    "print(norm(x3[:].-x))\n",
    "tmp =@view imhsv[:,:]"
   ]
  },
  {
   "cell_type": "code",
   "execution_count": null,
   "metadata": {},
   "outputs": [],
   "source": []
  },
  {
   "cell_type": "code",
   "execution_count": null,
   "metadata": {},
   "outputs": [],
   "source": []
  }
 ],
 "metadata": {
  "anaconda-cloud": {},
  "celltoolbar": "Slideshow",
  "kernelspec": {
   "display_name": "Julia 1.4.2",
   "language": "julia",
   "name": "julia-1.4"
  },
  "language_info": {
   "file_extension": ".jl",
   "mimetype": "application/julia",
   "name": "julia",
   "version": "1.4.2"
  }
 },
 "nbformat": 4,
 "nbformat_minor": 1
}
